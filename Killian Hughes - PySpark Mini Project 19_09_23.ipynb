{
 "cells": [
  {
   "cell_type": "markdown",
   "metadata": {
    "application/vnd.databricks.v1+cell": {
     "cellMetadata": {
      "byteLimit": 2048000,
      "rowLimit": 10000
     },
     "inputWidgets": {},
     "nuid": "88261727-83fb-4749-a02c-1e537c74aee3",
     "showTitle": false,
     "title": ""
    }
   },
   "source": [
    "# Indian Takeaway Orders\n",
    "---\n",
    "## By Killian Hughes"
   ]
  },
  {
   "cell_type": "markdown",
   "metadata": {
    "application/vnd.databricks.v1+cell": {
     "cellMetadata": {
      "byteLimit": 2048000,
      "rowLimit": 10000
     },
     "inputWidgets": {},
     "nuid": "843fc798-fad2-4777-a4db-d35ff6f85c7e",
     "showTitle": false,
     "title": ""
    }
   },
   "source": [
    "### Load in data"
   ]
  },
  {
   "cell_type": "code",
   "execution_count": 0,
   "metadata": {
    "application/vnd.databricks.v1+cell": {
     "cellMetadata": {
      "byteLimit": 2048000,
      "rowLimit": 10000
     },
     "inputWidgets": {},
     "nuid": "4002d3de-9894-4f51-86e4-09624c7d7e79",
     "showTitle": false,
     "title": ""
    }
   },
   "outputs": [],
   "source": [
    "restaurant_1_orders = sqlContext.read.load('/FileStore/tables/restaurant_1_orders.csv', format='csv', header=True, inferSchema=True)\n",
    "restaurant_2_orders = sqlContext.read.load('/FileStore/tables/restaurant_2_orders.csv', format='csv', header=True, inferSchema=True)\n",
    "restaurant_1_products_price = sqlContext.read.load('/FileStore/tables/restaurant_1_products_price.csv', format='csv', header=True, inferSchema=True)\n",
    "restaurant_2_products_price = sqlContext.read.load('/FileStore/tables/restaurant_2_products_price.csv', format='csv', header=True, inferSchema=True)"
   ]
  },
  {
   "cell_type": "markdown",
   "metadata": {
    "application/vnd.databricks.v1+cell": {
     "cellMetadata": {
      "byteLimit": 2048000,
      "rowLimit": 10000
     },
     "inputWidgets": {},
     "nuid": "18d5a2db-c487-42a1-91af-5d0b7080873a",
     "showTitle": false,
     "title": ""
    }
   },
   "source": [
    "### Data Cleaning\n",
    "---\n",
    "  - Using Distinct Count and Count to check for duplicates\n",
    "  - Using dropDuplicates to remove duplicates"
   ]
  },
  {
   "cell_type": "code",
   "execution_count": 0,
   "metadata": {
    "application/vnd.databricks.v1+cell": {
     "cellMetadata": {
      "byteLimit": 2048000,
      "rowLimit": 10000
     },
     "inputWidgets": {},
     "nuid": "8e370467-17d9-4dcb-a8cd-b4b52c0d0452",
     "showTitle": false,
     "title": ""
    }
   },
   "outputs": [],
   "source": [
    "def dup_percent_finder(dataframe):\n",
    "    percent_dup = ((dataframe.count() - dataframe.distinct().count()) / dataframe.count()) * 100\n",
    "    print(\"This dataframe contains\", percent_dup, \"% duplicated rows\")"
   ]
  },
  {
   "cell_type": "code",
   "execution_count": 0,
   "metadata": {
    "application/vnd.databricks.v1+cell": {
     "cellMetadata": {
      "byteLimit": 2048000,
      "rowLimit": 10000
     },
     "inputWidgets": {},
     "nuid": "1ae6e405-84b0-4803-bf18-8b255ccaffa5",
     "showTitle": false,
     "title": ""
    }
   },
   "outputs": [
    {
     "output_type": "stream",
     "name": "stdout",
     "output_type": "stream",
     "text": [
      "This dataframe contains 0.1296479456815205 % duplicated rows\n"
     ]
    }
   ],
   "source": [
    "dup_percent_finder(restaurant_1_orders)"
   ]
  },
  {
   "cell_type": "code",
   "execution_count": 0,
   "metadata": {
    "application/vnd.databricks.v1+cell": {
     "cellMetadata": {
      "byteLimit": 2048000,
      "rowLimit": 10000
     },
     "inputWidgets": {},
     "nuid": "ad5f0704-5809-4f55-a2a1-8a4b57cf763c",
     "showTitle": false,
     "title": ""
    }
   },
   "outputs": [
    {
     "output_type": "stream",
     "name": "stdout",
     "output_type": "stream",
     "text": [
      "This dataframe contains 0.0 % duplicated rows\n"
     ]
    }
   ],
   "source": [
    "dup_percent_finder(restaurant_1_products_price)"
   ]
  },
  {
   "cell_type": "code",
   "execution_count": 0,
   "metadata": {
    "application/vnd.databricks.v1+cell": {
     "cellMetadata": {
      "byteLimit": 2048000,
      "rowLimit": 10000
     },
     "inputWidgets": {},
     "nuid": "7d018d42-9334-4eb4-a3f5-9281cf902e5a",
     "showTitle": false,
     "title": ""
    }
   },
   "outputs": [
    {
     "output_type": "stream",
     "name": "stdout",
     "output_type": "stream",
     "text": [
      "This dataframe contains 0.14935015899918613 % duplicated rows\n"
     ]
    }
   ],
   "source": [
    "dup_percent_finder(restaurant_2_orders)"
   ]
  },
  {
   "cell_type": "code",
   "execution_count": 0,
   "metadata": {
    "application/vnd.databricks.v1+cell": {
     "cellMetadata": {
      "byteLimit": 2048000,
      "rowLimit": 10000
     },
     "inputWidgets": {},
     "nuid": "19f99879-216a-480e-a54b-6fa531053b36",
     "showTitle": false,
     "title": ""
    }
   },
   "outputs": [
    {
     "output_type": "stream",
     "name": "stdout",
     "output_type": "stream",
     "text": [
      "This dataframe contains 0.0 % duplicated rows\n"
     ]
    }
   ],
   "source": [
    "dup_percent_finder(restaurant_2_products_price)"
   ]
  },
  {
   "cell_type": "code",
   "execution_count": 0,
   "metadata": {
    "application/vnd.databricks.v1+cell": {
     "cellMetadata": {
      "byteLimit": 2048000,
      "rowLimit": 10000
     },
     "inputWidgets": {},
     "nuid": "16eebe07-575e-4647-9729-9e9bcd313f2b",
     "showTitle": false,
     "title": ""
    }
   },
   "outputs": [],
   "source": [
    "restaurant_1_orders = restaurant_1_orders.dropDuplicates()\n",
    "restaurant_2_orders = restaurant_2_orders.dropDuplicates()"
   ]
  },
  {
   "cell_type": "code",
   "execution_count": 0,
   "metadata": {
    "application/vnd.databricks.v1+cell": {
     "cellMetadata": {
      "byteLimit": 2048000,
      "rowLimit": 10000
     },
     "inputWidgets": {},
     "nuid": "56812e16-ee20-44dc-8fbc-58ea7dbed397",
     "showTitle": false,
     "title": ""
    }
   },
   "outputs": [
    {
     "output_type": "stream",
     "name": "stdout",
     "output_type": "stream",
     "text": [
      "This dataframe contains 0.0 % duplicated rows\n"
     ]
    }
   ],
   "source": [
    "dup_percent_finder(restaurant_1_orders)"
   ]
  },
  {
   "cell_type": "code",
   "execution_count": 0,
   "metadata": {
    "application/vnd.databricks.v1+cell": {
     "cellMetadata": {
      "byteLimit": 2048000,
      "rowLimit": 10000
     },
     "inputWidgets": {},
     "nuid": "d7fb8e6f-3c43-4948-a0b0-4eab09e03903",
     "showTitle": false,
     "title": ""
    }
   },
   "outputs": [
    {
     "output_type": "stream",
     "name": "stdout",
     "output_type": "stream",
     "text": [
      "This dataframe contains 0.0 % duplicated rows\n"
     ]
    }
   ],
   "source": [
    "dup_percent_finder(restaurant_2_orders)"
   ]
  },
  {
   "cell_type": "code",
   "execution_count": 0,
   "metadata": {
    "application/vnd.databricks.v1+cell": {
     "cellMetadata": {
      "byteLimit": 2048000,
      "rowLimit": 10000
     },
     "inputWidgets": {},
     "nuid": "59e0f680-f831-4e36-a859-482235aa2695",
     "showTitle": false,
     "title": ""
    }
   },
   "outputs": [],
   "source": [
    "import numpy as np\n",
    "from pyspark.sql.functions import col, isnan, when, count\n",
    "\n",
    "def null_value_finder(dataframe):\n",
    "    dataframe.select([count(when(isnan(c) | col(c).isNull(), c)).alias(c) for c in dataframe.columns]\n",
    "    ).show()"
   ]
  },
  {
   "cell_type": "code",
   "execution_count": 0,
   "metadata": {
    "application/vnd.databricks.v1+cell": {
     "cellMetadata": {
      "byteLimit": 2048000,
      "rowLimit": 10000
     },
     "inputWidgets": {},
     "nuid": "5f08446a-2092-4502-ad51-f9b4f6f6bf6b",
     "showTitle": false,
     "title": ""
    }
   },
   "outputs": [
    {
     "output_type": "stream",
     "name": "stdout",
     "output_type": "stream",
     "text": [
      "+------------+----------------+--------------------+--------+-------------+--------------+\n|Order Number|      Order Date|           Item Name|Quantity|Product Price|Total products|\n+------------+----------------+--------------------+--------+-------------+--------------+\n|       16115|03/08/2019 20:01|       Plain Papadum|       1|          0.8|             7|\n|       16117|03/08/2019 20:17|       Mushroom Rice|       1|         3.95|             7|\n|       16116|03/08/2019 20:09|          Aloo Chaat|       1|         4.95|             5|\n|       16115|03/08/2019 20:01|      Chicken Pakora|       1|         5.95|             7|\n|       16118|03/08/2019 20:25|       Mushroom Rice|       1|         3.95|             6|\n|       16118|03/08/2019 20:25|       Mango Chutney|       1|          0.5|             6|\n|       16118|03/08/2019 20:25|         Garlic Naan|       1|         2.95|             6|\n|       16116|03/08/2019 20:09|      Chicken Pakora|       1|         5.95|             5|\n|       16117|03/08/2019 20:17|          Lamb Tikka|       1|         4.95|             7|\n|       16118|03/08/2019 20:25|       Plain Papadum|       2|          0.8|             6|\n|       16118|03/08/2019 20:25|    King Prawn Balti|       1|        12.95|             6|\n|       16116|03/08/2019 20:09|Chicken Chilli Ga...|       1|         9.95|             5|\n|       16116|03/08/2019 20:09|          Keema Naan|       1|         2.95|             5|\n|       16117|03/08/2019 20:17|             Chapati|       1|         1.95|             7|\n|       16117|03/08/2019 20:17|         Saag Paneer|       1|         5.95|             7|\n|       16118|03/08/2019 20:25| Paneer Tikka Masala|       1|         8.95|             6|\n|       16117|03/08/2019 20:17|Tandoori Chicken ...|       1|         4.95|             7|\n|       16116|03/08/2019 20:09|        Lamb Biryani|       1|         9.95|             5|\n|       16115|03/08/2019 20:01|       Mango Chutney|       1|          0.5|             7|\n|       16117|03/08/2019 20:17|     Vindaloo - Lamb|       1|         7.95|             7|\n+------------+----------------+--------------------+--------+-------------+--------------+\nonly showing top 20 rows\n\n"
     ]
    }
   ],
   "source": [
    "restaurant_1_orders.show()"
   ]
  },
  {
   "cell_type": "code",
   "execution_count": 0,
   "metadata": {
    "application/vnd.databricks.v1+cell": {
     "cellMetadata": {
      "byteLimit": 2048000,
      "rowLimit": 10000
     },
     "inputWidgets": {},
     "nuid": "8b9044dd-a4df-4e2b-86f9-9c900065fae6",
     "showTitle": false,
     "title": ""
    }
   },
   "outputs": [
    {
     "output_type": "stream",
     "name": "stdout",
     "output_type": "stream",
     "text": [
      "+--------+----------------+--------------------+--------+-------------+--------------+\n|Order ID|      Order Date|           Item Name|Quantity|Product Price|Total products|\n+--------+----------------+--------------------+--------+-------------+--------------+\n|   25582|03/08/2019 20:33|       Peshwari Naan|       1|         2.95|             5|\n|   25583|03/08/2019 21:58|             Paratha|       1|         2.95|            12|\n|   25582|03/08/2019 20:33|         Bottle Coke|       1|         2.95|             5|\n|   25583|03/08/2019 21:58|Tandoori Mixed Grill|       1|        11.95|            12|\n|   25583|03/08/2019 21:58|       Plain Papadum|       1|          0.8|            12|\n|   25583|03/08/2019 21:58|         Garlic Naan|       1|         2.95|            12|\n|   25583|03/08/2019 21:58|        Madras Sauce|       1|         3.95|            12|\n|   25582|03/08/2019 20:33|          Pilau Rice|       1|         2.95|             5|\n|   25581|03/08/2019 20:01|          Pilau Rice|       1|         2.95|             5|\n|   25581|03/08/2019 20:01|         Saag Paneer|       1|         5.95|             5|\n|   25583|03/08/2019 21:58|       Onion Chutney|       1|          0.5|            12|\n|   25582|03/08/2019 20:33|      Butter Chicken|       1|         8.95|             5|\n|   25581|03/08/2019 20:01|         Onion Bhaji|       1|         3.95|             5|\n|   25583|03/08/2019 21:58|Chicken Tikka Masala|       1|         8.95|            12|\n|   25583|03/08/2019 21:58|       Mango Chutney|       2|          0.5|            12|\n|   25583|03/08/2019 21:58|       Mushroom Rice|       2|         3.95|            12|\n|   25581|03/08/2019 20:01|             Chapati|       1|         1.95|             5|\n|   25582|03/08/2019 20:33|Tandoori King Pra...|       1|        12.95|             5|\n|   25583|03/08/2019 21:58|          Plain Rice|       1|         2.95|            12|\n|   25583|03/08/2019 21:58|          Mint Sauce|       1|          0.5|            12|\n+--------+----------------+--------------------+--------+-------------+--------------+\nonly showing top 20 rows\n\n"
     ]
    }
   ],
   "source": [
    "restaurant_2_orders.show()"
   ]
  },
  {
   "cell_type": "code",
   "execution_count": 0,
   "metadata": {
    "application/vnd.databricks.v1+cell": {
     "cellMetadata": {
      "byteLimit": 2048000,
      "rowLimit": 10000
     },
     "inputWidgets": {},
     "nuid": "674cc3e7-7ad2-44dc-adf1-2787b53159b6",
     "showTitle": false,
     "title": ""
    }
   },
   "outputs": [
    {
     "output_type": "stream",
     "name": "stdout",
     "output_type": "stream",
     "text": [
      "+------------+----------+---------+--------+-------------+--------------+\n|Order Number|Order Date|Item Name|Quantity|Product Price|Total products|\n+------------+----------+---------+--------+-------------+--------------+\n|           0|         0|        0|       0|            0|             0|\n+------------+----------+---------+--------+-------------+--------------+\n\n"
     ]
    }
   ],
   "source": [
    "null_value_finder(restaurant_1_orders)"
   ]
  },
  {
   "cell_type": "code",
   "execution_count": 0,
   "metadata": {
    "application/vnd.databricks.v1+cell": {
     "cellMetadata": {
      "byteLimit": 2048000,
      "rowLimit": 10000
     },
     "inputWidgets": {},
     "nuid": "cc02e8f4-2739-4ef2-b61a-5c02448b2321",
     "showTitle": false,
     "title": ""
    }
   },
   "outputs": [
    {
     "output_type": "stream",
     "name": "stdout",
     "output_type": "stream",
     "text": [
      "+--------+----------+---------+--------+-------------+--------------+\n|Order ID|Order Date|Item Name|Quantity|Product Price|Total products|\n+--------+----------+---------+--------+-------------+--------------+\n|       0|         0|        0|       0|            0|             0|\n+--------+----------+---------+--------+-------------+--------------+\n\n"
     ]
    }
   ],
   "source": [
    "null_value_finder(restaurant_2_orders)"
   ]
  },
  {
   "cell_type": "markdown",
   "metadata": {
    "application/vnd.databricks.v1+cell": {
     "cellMetadata": {
      "byteLimit": 2048000,
      "rowLimit": 10000
     },
     "inputWidgets": {},
     "nuid": "44f1b7c0-2891-4ec5-b57d-7fe9379838b0",
     "showTitle": false,
     "title": ""
    }
   },
   "source": [
    "### finding discrepencies between orders and menu from restaurant 1"
   ]
  },
  {
   "cell_type": "code",
   "execution_count": 0,
   "metadata": {
    "application/vnd.databricks.v1+cell": {
     "cellMetadata": {
      "byteLimit": 2048000,
      "rowLimit": 10000
     },
     "inputWidgets": {},
     "nuid": "0401e865-2a5e-42eb-9645-9c47fda8102a",
     "showTitle": false,
     "title": ""
    }
   },
   "outputs": [],
   "source": [
    "actual_menu_1 = restaurant_1_orders.select(\"Item Name\", \"Product Price\")\n",
    "expected_menu_1 = restaurant_1_products_price.select(\"Item Name\", \"Product Price\")"
   ]
  },
  {
   "cell_type": "code",
   "execution_count": 0,
   "metadata": {
    "application/vnd.databricks.v1+cell": {
     "cellMetadata": {
      "byteLimit": 2048000,
      "rowLimit": 10000
     },
     "inputWidgets": {},
     "nuid": "cdccd266-3c1d-44c3-8e56-252e3baff62a",
     "showTitle": false,
     "title": ""
    }
   },
   "outputs": [],
   "source": [
    "actual_menu_1 = actual_menu_1.dropDuplicates()\n",
    "expected_menu_1 = expected_menu_1.dropDuplicates()"
   ]
  },
  {
   "cell_type": "code",
   "execution_count": 0,
   "metadata": {
    "application/vnd.databricks.v1+cell": {
     "cellMetadata": {
      "byteLimit": 2048000,
      "rowLimit": 10000
     },
     "inputWidgets": {},
     "nuid": "55600a3f-232f-438c-88e3-a4a08d06a14b",
     "showTitle": false,
     "title": ""
    }
   },
   "outputs": [
    {
     "output_type": "stream",
     "name": "stdout",
     "output_type": "stream",
     "text": [
      "+-------------+--------------+\n|    Item Name|Mistaken Price|\n+-------------+--------------+\n|        Rogon|          9.95|\n|        Bhuna|          9.95|\n|         Saag|         12.95|\n|      Dhansak|         12.95|\n|        Korma|          9.95|\n|     Mushroom|          9.95|\n|      Dupiaza|          9.95|\n|Chicken Tikka|          7.95|\n|       Madras|         11.95|\n|        Bhuna|         12.95|\n|         Saag|          9.95|\n|      Dhansak|          9.95|\n|        Curry|         11.95|\n|      Dupiaza|         12.95|\n|  Sheek Kehab|          5.95|\n|     Vindaloo|         11.95|\n|        Curry|          8.95|\n|Chicken Tikka|          4.95|\n|     Vindaloo|          8.95|\n|       Pathia|          9.95|\n+-------------+--------------+\nonly showing top 20 rows\n\n"
     ]
    }
   ],
   "source": [
    "extra_items = actual_menu_1.subtract(expected_menu_1)\n",
    "extra_items = extra_items.withColumnRenamed(\"Product Price\", \"Mistaken Price\")\n",
    "extra_items.show()"
   ]
  },
  {
   "cell_type": "code",
   "execution_count": 0,
   "metadata": {
    "application/vnd.databricks.v1+cell": {
     "cellMetadata": {
      "byteLimit": 2048000,
      "rowLimit": 10000
     },
     "inputWidgets": {},
     "nuid": "0a4289c6-b3fc-49a8-afde-9ccde45833b4",
     "showTitle": false,
     "title": ""
    }
   },
   "outputs": [
    {
     "output_type": "stream",
     "name": "stdout",
     "output_type": "stream",
     "text": [
      "+-------------+------------+\n|         Drop|Actual Price|\n+-------------+------------+\n|   Plain Rice|        2.95|\n|   Onion Naan|        2.95|\n|  Lime Pickle|         0.5|\n|        Puree|        1.95|\n|Peshwari Naan|        2.95|\n|Mango Chutney|         0.5|\n|   Pilau Rice|        2.95|\n|   Mint Sauce|         0.5|\n|  Bottle Coke|        2.95|\n|    Red Sauce|         0.5|\n|  Green Salad|        2.95|\n|Tandoori Roti|         2.6|\n|      Chapati|        1.95|\n|   Keema Naan|        2.95|\n|      Paratha|        2.95|\n|Onion Chutney|         0.5|\n|Spicy Papadum|         0.8|\n|   Plain Naan|         2.6|\n|       Raitha|        2.95|\n|Plain Papadum|         0.8|\n+-------------+------------+\nonly showing top 20 rows\n\n"
     ]
    }
   ],
   "source": [
    "expected_menu = expected_menu_1.withColumnRenamed(\"Item Name\", \"Drop\").withColumnRenamed(\"Product Price\", \"Actual Price\")\n",
    "expected_menu.show()"
   ]
  },
  {
   "cell_type": "code",
   "execution_count": 0,
   "metadata": {
    "application/vnd.databricks.v1+cell": {
     "cellMetadata": {
      "byteLimit": 2048000,
      "rowLimit": 10000
     },
     "inputWidgets": {},
     "nuid": "5a219d7c-8b2f-420d-9be4-2c236dbe5b2d",
     "showTitle": false,
     "title": ""
    }
   },
   "outputs": [
    {
     "output_type": "stream",
     "name": "stdout",
     "output_type": "stream",
     "text": [
      "+-------------+--------------+-------------+------------+\n|    Item Name|Mistaken Price|         Drop|Actual Price|\n+-------------+--------------+-------------+------------+\n|       Pathia|         12.95|       Pathia|        8.95|\n|        Rogon|          9.95|        Rogon|        8.95|\n|        Bhuna|          9.95|        Bhuna|        8.95|\n|         Saag|         12.95|         Saag|        8.95|\n|      Dhansak|         12.95|      Dhansak|        8.95|\n|        Korma|          9.95|        Korma|        8.95|\n|     Mushroom|          9.95|     Mushroom|        8.95|\n|      Dupiaza|          9.95|      Dupiaza|        8.95|\n|Chicken Tikka|          7.95|Chicken Tikka|        3.95|\n|       Madras|         11.95|       Madras|        7.95|\n|        Korma|         12.95|        Korma|        8.95|\n|        Bhuna|         12.95|        Bhuna|        8.95|\n|         Saag|          9.95|         Saag|        8.95|\n|      Dhansak|          9.95|      Dhansak|        8.95|\n|        Curry|         11.95|        Curry|        7.95|\n|      Dupiaza|         12.95|      Dupiaza|        8.95|\n|  Sheek Kehab|          5.95|  Sheek Kehab|        4.95|\n|        Rogon|         12.95|        Rogon|        8.95|\n|     Vindaloo|         11.95|     Vindaloo|        7.95|\n|        Curry|          8.95|        Curry|        7.95|\n+-------------+--------------+-------------+------------+\nonly showing top 20 rows\n\n"
     ]
    }
   ],
   "source": [
    "df1 = extra_items.join(expected_menu, extra_items[\"Item Name\"] == expected_menu[\"Drop\"], \"inner\")\n",
    "df1.show()"
   ]
  },
  {
   "cell_type": "code",
   "execution_count": 0,
   "metadata": {
    "application/vnd.databricks.v1+cell": {
     "cellMetadata": {
      "byteLimit": 2048000,
      "rowLimit": 10000
     },
     "inputWidgets": {},
     "nuid": "08bdbac6-efdf-4365-9ef0-eb02ce2864e7",
     "showTitle": false,
     "title": ""
    }
   },
   "outputs": [],
   "source": [
    "df1 = df1.drop(\"Drop\")"
   ]
  },
  {
   "cell_type": "code",
   "execution_count": 0,
   "metadata": {
    "application/vnd.databricks.v1+cell": {
     "cellMetadata": {
      "byteLimit": 2048000,
      "rowLimit": 10000
     },
     "inputWidgets": {},
     "nuid": "1e057c06-75f5-4445-8f01-96f9a4991a32",
     "showTitle": false,
     "title": ""
    }
   },
   "outputs": [
    {
     "output_type": "display_data",
     "data": {
      "text/html": [
       "<style scoped>\n",
       "  .table-result-container {\n",
       "    max-height: 300px;\n",
       "    overflow: auto;\n",
       "  }\n",
       "  table, th, td {\n",
       "    border: 1px solid black;\n",
       "    border-collapse: collapse;\n",
       "  }\n",
       "  th, td {\n",
       "    padding: 5px;\n",
       "  }\n",
       "  th {\n",
       "    text-align: left;\n",
       "  }\n",
       "</style><div class='table-result-container'><table class='table-result'><thead style='background-color: white'><tr><th>Item Name</th><th>Mistaken Price</th><th>Actual Price</th></tr></thead><tbody><tr><td>Pathia</td><td>12.95</td><td>8.95</td></tr><tr><td>Rogon</td><td>9.95</td><td>8.95</td></tr><tr><td>Bhuna</td><td>9.95</td><td>8.95</td></tr><tr><td>Saag</td><td>12.95</td><td>8.95</td></tr><tr><td>Dhansak</td><td>12.95</td><td>8.95</td></tr><tr><td>Korma</td><td>9.95</td><td>8.95</td></tr><tr><td>Mushroom</td><td>9.95</td><td>8.95</td></tr><tr><td>Dupiaza</td><td>9.95</td><td>8.95</td></tr><tr><td>Chicken Tikka</td><td>7.95</td><td>3.95</td></tr><tr><td>Madras</td><td>11.95</td><td>7.95</td></tr><tr><td>Korma</td><td>12.95</td><td>8.95</td></tr><tr><td>Bhuna</td><td>12.95</td><td>8.95</td></tr><tr><td>Saag</td><td>9.95</td><td>8.95</td></tr><tr><td>Dhansak</td><td>9.95</td><td>8.95</td></tr><tr><td>Curry</td><td>11.95</td><td>7.95</td></tr><tr><td>Dupiaza</td><td>12.95</td><td>8.95</td></tr><tr><td>Sheek Kehab</td><td>5.95</td><td>4.95</td></tr><tr><td>Rogon</td><td>12.95</td><td>8.95</td></tr><tr><td>Vindaloo</td><td>11.95</td><td>7.95</td></tr><tr><td>Curry</td><td>8.95</td><td>7.95</td></tr><tr><td>Chicken Tikka</td><td>4.95</td><td>3.95</td></tr><tr><td>Vindaloo</td><td>8.95</td><td>7.95</td></tr><tr><td>Pathia</td><td>9.95</td><td>8.95</td></tr><tr><td>Madras</td><td>8.95</td><td>7.95</td></tr></tbody></table></div>"
      ]
     },
     "metadata": {
      "application/vnd.databricks.v1+output": {
       "addedWidgets": {},
       "aggData": [],
       "aggError": "",
       "aggOverflow": false,
       "aggSchema": [],
       "aggSeriesLimitReached": false,
       "aggType": "",
       "arguments": {},
       "columnCustomDisplayInfos": {},
       "data": [
        [
         "Pathia",
         12.95,
         8.95
        ],
        [
         "Rogon",
         9.95,
         8.95
        ],
        [
         "Bhuna",
         9.95,
         8.95
        ],
        [
         "Saag",
         12.95,
         8.95
        ],
        [
         "Dhansak",
         12.95,
         8.95
        ],
        [
         "Korma",
         9.95,
         8.95
        ],
        [
         "Mushroom",
         9.95,
         8.95
        ],
        [
         "Dupiaza",
         9.95,
         8.95
        ],
        [
         "Chicken Tikka",
         7.95,
         3.95
        ],
        [
         "Madras",
         11.95,
         7.95
        ],
        [
         "Korma",
         12.95,
         8.95
        ],
        [
         "Bhuna",
         12.95,
         8.95
        ],
        [
         "Saag",
         9.95,
         8.95
        ],
        [
         "Dhansak",
         9.95,
         8.95
        ],
        [
         "Curry",
         11.95,
         7.95
        ],
        [
         "Dupiaza",
         12.95,
         8.95
        ],
        [
         "Sheek Kehab",
         5.95,
         4.95
        ],
        [
         "Rogon",
         12.95,
         8.95
        ],
        [
         "Vindaloo",
         11.95,
         7.95
        ],
        [
         "Curry",
         8.95,
         7.95
        ],
        [
         "Chicken Tikka",
         4.95,
         3.95
        ],
        [
         "Vindaloo",
         8.95,
         7.95
        ],
        [
         "Pathia",
         9.95,
         8.95
        ],
        [
         "Madras",
         8.95,
         7.95
        ]
       ],
       "datasetInfos": [],
       "dbfsResultPath": null,
       "isJsonSchema": true,
       "metadata": {},
       "overflow": false,
       "plotOptions": {
        "customPlotOptions": {},
        "displayType": "table",
        "pivotAggregation": null,
        "pivotColumns": null,
        "xColumns": null,
        "yColumns": null
       },
       "removedWidgets": [],
       "schema": [
        {
         "metadata": "{}",
         "name": "Item Name",
         "type": "\"string\""
        },
        {
         "metadata": "{}",
         "name": "Mistaken Price",
         "type": "\"double\""
        },
        {
         "metadata": "{}",
         "name": "Actual Price",
         "type": "\"double\""
        }
       ],
       "type": "table"
      }
     },
     "output_type": "display_data"
    }
   ],
   "source": [
    "display(df1)"
   ]
  },
  {
   "cell_type": "markdown",
   "metadata": {
    "application/vnd.databricks.v1+cell": {
     "cellMetadata": {
      "byteLimit": 2048000,
      "rowLimit": 10000
     },
     "inputWidgets": {},
     "nuid": "4879b741-ee33-450f-b4a2-499813bb94e9",
     "showTitle": false,
     "title": ""
    }
   },
   "source": [
    "### removing the mistaken item prices replacing them with the correct prices"
   ]
  },
  {
   "cell_type": "code",
   "execution_count": 0,
   "metadata": {
    "application/vnd.databricks.v1+cell": {
     "cellMetadata": {
      "byteLimit": 2048000,
      "rowLimit": 10000
     },
     "inputWidgets": {},
     "nuid": "5fe867ea-4c8d-4fec-b156-890538e7afa0",
     "showTitle": false,
     "title": ""
    }
   },
   "outputs": [
    {
     "output_type": "stream",
     "name": "stdout",
     "output_type": "stream",
     "text": [
      "Out[23]: DataFrame[Item Name: string, Mistaken Price: double, Actual Price: double]"
     ]
    }
   ],
   "source": [
    "restaurant_1_orders\n",
    "df1"
   ]
  },
  {
   "cell_type": "code",
   "execution_count": 0,
   "metadata": {
    "application/vnd.databricks.v1+cell": {
     "cellMetadata": {
      "byteLimit": 2048000,
      "rowLimit": 10000
     },
     "inputWidgets": {},
     "nuid": "5978bd88-6ae7-4f09-9b79-26df9eae045b",
     "showTitle": false,
     "title": ""
    }
   },
   "outputs": [
    {
     "output_type": "stream",
     "name": "stdout",
     "output_type": "stream",
     "text": [
      "Out[24]: ['Order Number',\n 'Order Date',\n 'Item Name',\n 'Quantity',\n 'Product Price',\n 'Total products']"
     ]
    }
   ],
   "source": [
    "restaurant_1_orders.columns"
   ]
  },
  {
   "cell_type": "code",
   "execution_count": 0,
   "metadata": {
    "application/vnd.databricks.v1+cell": {
     "cellMetadata": {
      "byteLimit": 2048000,
      "rowLimit": 10000
     },
     "inputWidgets": {},
     "nuid": "f42708f8-05a6-43ee-b0d5-d0443e5124d9",
     "showTitle": false,
     "title": ""
    }
   },
   "outputs": [
    {
     "output_type": "stream",
     "name": "stdout",
     "output_type": "stream",
     "text": [
      "+------------+----------------+--------------------+--------+-------------+--------------+\n|Order Number|      Order Date|           Item Name|Quantity|Product Price|Total products|\n+------------+----------------+--------------------+--------+-------------+--------------+\n|       16115|03/08/2019 20:01|       Plain Papadum|       1|          0.8|             7|\n|       16117|03/08/2019 20:17|       Mushroom Rice|       1|         3.95|             7|\n|       16116|03/08/2019 20:09|          Aloo Chaat|       1|         4.95|             5|\n|       16115|03/08/2019 20:01|      Chicken Pakora|       1|         5.95|             7|\n|       16118|03/08/2019 20:25|       Mushroom Rice|       1|         3.95|             6|\n|       16118|03/08/2019 20:25|       Mango Chutney|       1|          0.5|             6|\n|       16118|03/08/2019 20:25|         Garlic Naan|       1|         2.95|             6|\n|       16116|03/08/2019 20:09|      Chicken Pakora|       1|         5.95|             5|\n|       16117|03/08/2019 20:17|          Lamb Tikka|       1|         4.95|             7|\n|       16118|03/08/2019 20:25|       Plain Papadum|       2|          0.8|             6|\n|       16118|03/08/2019 20:25|    King Prawn Balti|       1|        12.95|             6|\n|       16116|03/08/2019 20:09|Chicken Chilli Ga...|       1|         9.95|             5|\n|       16116|03/08/2019 20:09|          Keema Naan|       1|         2.95|             5|\n|       16117|03/08/2019 20:17|             Chapati|       1|         1.95|             7|\n|       16117|03/08/2019 20:17|         Saag Paneer|       1|         5.95|             7|\n|       16118|03/08/2019 20:25| Paneer Tikka Masala|       1|         8.95|             6|\n|       16117|03/08/2019 20:17|Tandoori Chicken ...|       1|         4.95|             7|\n|       16116|03/08/2019 20:09|        Lamb Biryani|       1|         9.95|             5|\n|       16115|03/08/2019 20:01|       Mango Chutney|       1|          0.5|             7|\n|       16117|03/08/2019 20:17|     Vindaloo - Lamb|       1|         7.95|             7|\n+------------+----------------+--------------------+--------+-------------+--------------+\nonly showing top 20 rows\n\n"
     ]
    }
   ],
   "source": [
    "restaurant_1_orders.show()"
   ]
  },
  {
   "cell_type": "markdown",
   "metadata": {
    "application/vnd.databricks.v1+cell": {
     "cellMetadata": {
      "byteLimit": 2048000,
      "rowLimit": 10000
     },
     "inputWidgets": {},
     "nuid": "caf69a1f-3c35-48ae-9396-854a7c316ba3",
     "showTitle": false,
     "title": ""
    }
   },
   "source": [
    "  - join the menu prices with the actual prices for both tables\n",
    "  - find out the most popular items in each category\n",
    "  - find the most popular time of day, using the between command"
   ]
  },
  {
   "cell_type": "code",
   "execution_count": 0,
   "metadata": {
    "application/vnd.databricks.v1+cell": {
     "cellMetadata": {
      "byteLimit": 2048000,
      "rowLimit": 10000
     },
     "inputWidgets": {},
     "nuid": "3479489e-8848-4f7f-8b7e-356733e97f73",
     "showTitle": false,
     "title": ""
    }
   },
   "outputs": [],
   "source": [
    "restaurant_1_products_price = restaurant_1_products_price.withColumnRenamed(\"Item Name\", \"Menu_Item\").withColumnRenamed(\"Product Price\", \"Correct_Price\")"
   ]
  },
  {
   "cell_type": "code",
   "execution_count": 0,
   "metadata": {
    "application/vnd.databricks.v1+cell": {
     "cellMetadata": {
      "byteLimit": 2048000,
      "rowLimit": 10000
     },
     "inputWidgets": {},
     "nuid": "50f1f7f8-06c9-49cc-950d-e8d08faab1ec",
     "showTitle": false,
     "title": ""
    }
   },
   "outputs": [],
   "source": [
    "joined_order_1 = restaurant_1_orders.join(restaurant_1_products_price, restaurant_1_orders[\"Item Name\"] == restaurant_1_products_price[\"Menu_Item\"], \"inner\")"
   ]
  },
  {
   "cell_type": "code",
   "execution_count": 0,
   "metadata": {
    "application/vnd.databricks.v1+cell": {
     "cellMetadata": {
      "byteLimit": 2048000,
      "rowLimit": 10000
     },
     "collapsed": true,
     "inputWidgets": {},
     "nuid": "af5a0495-98ea-4756-a0e8-e686b09f584c",
     "showTitle": false,
     "title": ""
    }
   },
   "outputs": [],
   "source": [
    "joined_order_1 = joined_order_1.drop(\"Product Price\", \"Item Name\")"
   ]
  },
  {
   "cell_type": "code",
   "execution_count": 0,
   "metadata": {
    "application/vnd.databricks.v1+cell": {
     "cellMetadata": {
      "byteLimit": 2048000,
      "rowLimit": 10000
     },
     "inputWidgets": {},
     "nuid": "9e20991e-57d9-429c-aea3-41153eb9c3f7",
     "showTitle": false,
     "title": ""
    }
   },
   "outputs": [
    {
     "output_type": "stream",
     "name": "stdout",
     "output_type": "stream",
     "text": [
      "+------------+----------------+--------+--------------+--------------------+-------------+\n|Order Number|      Order Date|Quantity|Total products|           Menu_Item|Correct_Price|\n+------------+----------------+--------+--------------+--------------------+-------------+\n|         630|01/09/2015 14:42|       1|             3|         Onion Bhaji|         3.95|\n|         647|08/09/2015 17:12|       1|             3|         Onion Bhaji|         3.95|\n|         648|08/09/2015 17:31|       1|             1|         Onion Bhaji|         3.95|\n|         651|08/09/2015 17:56|       1|             4|         Onion Bhaji|         3.95|\n|         764|09/09/2015 09:31|       1|             3|         Onion Bhaji|         3.95|\n|         838|09/09/2015 11:28|       1|             4|         Onion Bhaji|         3.95|\n|         840|09/09/2015 11:35|       1|             3|         Onion Bhaji|         3.95|\n|         857|09/09/2015 12:48|       1|             4|         Onion Bhaji|         3.95|\n|         874|09/09/2015 14:41|       1|             3|         Onion Bhaji|         3.95|\n|         894|09/09/2015 15:52|       1|             4|         Onion Bhaji|         3.95|\n|        1212|29/09/2015 15:20|       3|             3|       Chicken Tikka|         3.95|\n|        1212|29/09/2015 15:20|       1|             3|       Chicken Tikka|         3.95|\n|        1212|29/09/2015 15:20|       1|             3|Tandoori Chicken ...|         4.95|\n|        1216|29/09/2015 15:36|       1|             2|       Tandoori Fish|         5.95|\n|        1216|29/09/2015 15:36|       2|             2|    Vegetable Samosa|         4.95|\n|        1219|29/09/2015 16:16|       1|             1|    Vegetable Samosa|         4.95|\n|        1220|30/09/2015 10:36|       1|             3|Tandoori Chicken ...|         4.95|\n|        1220|30/09/2015 10:36|       1|             3|    Vegetable Samosa|         4.95|\n|        1220|30/09/2015 10:36|       1|             3|       Tandoori Fish|         5.95|\n|        1221|30/09/2015 15:38|       1|             6|        Royal Paneer|         5.95|\n+------------+----------------+--------+--------------+--------------------+-------------+\nonly showing top 20 rows\n\n"
     ]
    }
   ],
   "source": [
    "joined_order_1.orderBy(\"Order Number\", ascending=True).show()"
   ]
  },
  {
   "cell_type": "markdown",
   "metadata": {
    "application/vnd.databricks.v1+cell": {
     "cellMetadata": {
      "byteLimit": 2048000,
      "rowLimit": 10000
     },
     "inputWidgets": {},
     "nuid": "e5c4a824-73b0-4799-969f-58bef4356138",
     "showTitle": false,
     "title": ""
    }
   },
   "source": [
    "### Repeating the same processes for restaurant two\n"
   ]
  },
  {
   "cell_type": "code",
   "execution_count": 0,
   "metadata": {
    "application/vnd.databricks.v1+cell": {
     "cellMetadata": {
      "byteLimit": 2048000,
      "rowLimit": 10000
     },
     "inputWidgets": {},
     "nuid": "e82d12d6-6b17-4656-b9fb-ad6aee48bd6e",
     "showTitle": false,
     "title": ""
    }
   },
   "outputs": [
    {
     "output_type": "stream",
     "name": "stdout",
     "output_type": "stream",
     "text": [
      "+--------+----------------+--------------------+--------+-------------+--------------+\n|Order ID|      Order Date|           Item Name|Quantity|Product Price|Total products|\n+--------+----------------+--------------------+--------+-------------+--------------+\n|   25582|03/08/2019 20:33|       Peshwari Naan|       1|         2.95|             5|\n|   25583|03/08/2019 21:58|             Paratha|       1|         2.95|            12|\n|   25582|03/08/2019 20:33|         Bottle Coke|       1|         2.95|             5|\n|   25583|03/08/2019 21:58|Tandoori Mixed Grill|       1|        11.95|            12|\n|   25583|03/08/2019 21:58|       Plain Papadum|       1|          0.8|            12|\n|   25583|03/08/2019 21:58|         Garlic Naan|       1|         2.95|            12|\n|   25583|03/08/2019 21:58|        Madras Sauce|       1|         3.95|            12|\n|   25582|03/08/2019 20:33|          Pilau Rice|       1|         2.95|             5|\n|   25581|03/08/2019 20:01|          Pilau Rice|       1|         2.95|             5|\n|   25581|03/08/2019 20:01|         Saag Paneer|       1|         5.95|             5|\n|   25583|03/08/2019 21:58|       Onion Chutney|       1|          0.5|            12|\n|   25582|03/08/2019 20:33|      Butter Chicken|       1|         8.95|             5|\n|   25581|03/08/2019 20:01|         Onion Bhaji|       1|         3.95|             5|\n|   25583|03/08/2019 21:58|Chicken Tikka Masala|       1|         8.95|            12|\n|   25583|03/08/2019 21:58|       Mango Chutney|       2|          0.5|            12|\n|   25583|03/08/2019 21:58|       Mushroom Rice|       2|         3.95|            12|\n|   25581|03/08/2019 20:01|             Chapati|       1|         1.95|             5|\n|   25582|03/08/2019 20:33|Tandoori King Pra...|       1|        12.95|             5|\n|   25583|03/08/2019 21:58|          Plain Rice|       1|         2.95|            12|\n|   25583|03/08/2019 21:58|          Mint Sauce|       1|          0.5|            12|\n+--------+----------------+--------------------+--------+-------------+--------------+\nonly showing top 20 rows\n\n"
     ]
    }
   ],
   "source": [
    "restaurant_2_orders.show()"
   ]
  },
  {
   "cell_type": "code",
   "execution_count": 0,
   "metadata": {
    "application/vnd.databricks.v1+cell": {
     "cellMetadata": {
      "byteLimit": 2048000,
      "rowLimit": 10000
     },
     "inputWidgets": {},
     "nuid": "fda5eb8d-38dc-41bc-a881-e14c6399e05c",
     "showTitle": false,
     "title": ""
    }
   },
   "outputs": [],
   "source": [
    "actual_orders_2 = restaurant_2_orders.select(\"Item Name\", \"Product Price\")\n",
    "expected_menu_2 = restaurant_2_products_price.select(\"Item Name\", \"Product Price\")\n",
    "actual_orders_2 = actual_orders_2.dropDuplicates()\n",
    "expected_menu_2 = expected_menu_2.dropDuplicates()"
   ]
  },
  {
   "cell_type": "code",
   "execution_count": 0,
   "metadata": {
    "application/vnd.databricks.v1+cell": {
     "cellMetadata": {
      "byteLimit": 2048000,
      "rowLimit": 10000
     },
     "inputWidgets": {},
     "nuid": "c5087312-114b-46d9-a48c-96730e76e37f",
     "showTitle": false,
     "title": ""
    }
   },
   "outputs": [
    {
     "output_type": "stream",
     "name": "stdout",
     "output_type": "stream",
     "text": [
      "+------------------+--------------+\n|         Item Name|Mistaken Price|\n+------------------+--------------+\n|   Vindaloo - lamb|          7.95|\n|Vindaloo - chicken|          7.95|\n|     Madras - lamb|          7.95|\n|  Madras - chicken|          7.95|\n|      Curry - lamb|          7.95|\n|   Curry - chicken|          7.95|\n|      Korma - lamb|          8.95|\n|      Bhuna - lamb|          8.95|\n|  Pathia - chicken|          8.95|\n|   Cylon - chicken|          8.95|\n|     Curry - prawn|          8.95|\n|Mushroom - chicken|          8.95|\n|   Mushroom - lamb|          8.95|\n|   Methi - chicken|          8.95|\n|    Dupiaza - lamb|          8.95|\n|    Dhansak - lamb|          8.95|\n|       Saag - lamb|          8.95|\n| Dupiaza - chicken|          8.95|\n|   Rogon - chicken|          8.95|\n|      Rogon - lamb|          8.95|\n+------------------+--------------+\nonly showing top 20 rows\n\n"
     ]
    }
   ],
   "source": [
    "mistaken_items_2 = actual_orders_2.subtract(expected_menu_2)\n",
    "mistaken_items_2 = mistaken_items_2.withColumnRenamed(\"Product Price\", \"Mistaken Price\")\n",
    "mistaken_items_2.show()"
   ]
  },
  {
   "cell_type": "code",
   "execution_count": 0,
   "metadata": {
    "application/vnd.databricks.v1+cell": {
     "cellMetadata": {
      "byteLimit": 2048000,
      "rowLimit": 10000
     },
     "inputWidgets": {},
     "nuid": "0571c5f2-4d96-4b3e-b16c-575f2fa880eb",
     "showTitle": false,
     "title": ""
    }
   },
   "outputs": [
    {
     "output_type": "display_data",
     "data": {
      "text/html": [
       "<style scoped>\n",
       "  .table-result-container {\n",
       "    max-height: 300px;\n",
       "    overflow: auto;\n",
       "  }\n",
       "  table, th, td {\n",
       "    border: 1px solid black;\n",
       "    border-collapse: collapse;\n",
       "  }\n",
       "  th, td {\n",
       "    padding: 5px;\n",
       "  }\n",
       "  th {\n",
       "    text-align: left;\n",
       "  }\n",
       "</style><div class='table-result-container'><table class='table-result'><thead style='background-color: white'><tr><th>Item Name</th><th>Mistaken Price</th><th>Actual Price</th></tr></thead><tbody><tr><td>Mushroom</td><td>12.95</td><td>8.95</td></tr><tr><td>Pathia</td><td>12.95</td><td>8.95</td></tr><tr><td>Rogon</td><td>9.95</td><td>8.95</td></tr><tr><td>Bhuna</td><td>9.95</td><td>8.95</td></tr><tr><td>Saag</td><td>12.95</td><td>8.95</td></tr><tr><td>Dhansak</td><td>12.95</td><td>8.95</td></tr><tr><td>Korma</td><td>9.95</td><td>8.95</td></tr><tr><td>Dupiaza</td><td>9.95</td><td>8.95</td></tr><tr><td>Madras</td><td>11.95</td><td>7.95</td></tr><tr><td>Korma</td><td>12.95</td><td>8.95</td></tr><tr><td>Bhuna</td><td>12.95</td><td>8.95</td></tr><tr><td>Bombay</td><td>9.95</td><td>8.95</td></tr><tr><td>Kurma</td><td>9.95</td><td>8.95</td></tr><tr><td>Saag</td><td>9.95</td><td>8.95</td></tr><tr><td>Dhansak</td><td>9.95</td><td>8.95</td></tr><tr><td>Curry</td><td>11.95</td><td>7.95</td></tr><tr><td>Dupiaza</td><td>12.95</td><td>8.95</td></tr><tr><td>Malaya</td><td>9.95</td><td>8.95</td></tr><tr><td>Vindaloo</td><td>11.95</td><td>7.95</td></tr><tr><td>Kurma</td><td>12.95</td><td>8.95</td></tr><tr><td>Curry</td><td>8.95</td><td>7.95</td></tr><tr><td>Vindaloo</td><td>8.95</td><td>7.95</td></tr><tr><td>Pathia</td><td>9.95</td><td>8.95</td></tr><tr><td>Madras</td><td>8.95</td><td>7.95</td></tr></tbody></table></div>"
      ]
     },
     "metadata": {
      "application/vnd.databricks.v1+output": {
       "addedWidgets": {},
       "aggData": [],
       "aggError": "",
       "aggOverflow": false,
       "aggSchema": [],
       "aggSeriesLimitReached": false,
       "aggType": "",
       "arguments": {},
       "columnCustomDisplayInfos": {},
       "data": [
        [
         "Mushroom",
         12.95,
         8.95
        ],
        [
         "Pathia",
         12.95,
         8.95
        ],
        [
         "Rogon",
         9.95,
         8.95
        ],
        [
         "Bhuna",
         9.95,
         8.95
        ],
        [
         "Saag",
         12.95,
         8.95
        ],
        [
         "Dhansak",
         12.95,
         8.95
        ],
        [
         "Korma",
         9.95,
         8.95
        ],
        [
         "Dupiaza",
         9.95,
         8.95
        ],
        [
         "Madras",
         11.95,
         7.95
        ],
        [
         "Korma",
         12.95,
         8.95
        ],
        [
         "Bhuna",
         12.95,
         8.95
        ],
        [
         "Bombay",
         9.95,
         8.95
        ],
        [
         "Kurma",
         9.95,
         8.95
        ],
        [
         "Saag",
         9.95,
         8.95
        ],
        [
         "Dhansak",
         9.95,
         8.95
        ],
        [
         "Curry",
         11.95,
         7.95
        ],
        [
         "Dupiaza",
         12.95,
         8.95
        ],
        [
         "Malaya",
         9.95,
         8.95
        ],
        [
         "Vindaloo",
         11.95,
         7.95
        ],
        [
         "Kurma",
         12.95,
         8.95
        ],
        [
         "Curry",
         8.95,
         7.95
        ],
        [
         "Vindaloo",
         8.95,
         7.95
        ],
        [
         "Pathia",
         9.95,
         8.95
        ],
        [
         "Madras",
         8.95,
         7.95
        ]
       ],
       "datasetInfos": [],
       "dbfsResultPath": null,
       "isJsonSchema": true,
       "metadata": {},
       "overflow": false,
       "plotOptions": {
        "customPlotOptions": {},
        "displayType": "table",
        "pivotAggregation": null,
        "pivotColumns": null,
        "xColumns": null,
        "yColumns": null
       },
       "removedWidgets": [],
       "schema": [
        {
         "metadata": "{}",
         "name": "Item Name",
         "type": "\"string\""
        },
        {
         "metadata": "{}",
         "name": "Mistaken Price",
         "type": "\"double\""
        },
        {
         "metadata": "{}",
         "name": "Actual Price",
         "type": "\"double\""
        }
       ],
       "type": "table"
      }
     },
     "output_type": "display_data"
    }
   ],
   "source": [
    "expected_menu_2 = expected_menu_2.withColumnRenamed(\"Item Name\", \"Drop\").withColumnRenamed(\"Product Price\", \"Actual Price\")\n",
    "df2 = mistaken_items_2.join(expected_menu_2, mistaken_items_2[\"Item Name\"] == expected_menu_2[\"Drop\"], \"inner\")\n",
    "df2 = df2.drop(\"Drop\")\n",
    "display(df2)"
   ]
  },
  {
   "cell_type": "code",
   "execution_count": 0,
   "metadata": {
    "application/vnd.databricks.v1+cell": {
     "cellMetadata": {
      "byteLimit": 2048000,
      "rowLimit": 10000
     },
     "inputWidgets": {},
     "nuid": "573b5c3a-6677-46c4-a7ec-fd0d6d996897",
     "showTitle": false,
     "title": ""
    }
   },
   "outputs": [
    {
     "output_type": "stream",
     "name": "stdout",
     "output_type": "stream",
     "text": [
      "+--------+----------------+--------+--------------+--------------------+-------------+\n|Order ID|      Order Date|Quantity|Total products|           Menu_Item|Correct_Price|\n+--------+----------------+--------+--------------+--------------------+-------------+\n|    2096|16/12/2015 19:14|       1|             8|Chicken Tikka Jal...|         8.95|\n|    2096|16/12/2015 19:14|       1|             8|          Plain Rice|         2.95|\n|    2096|16/12/2015 19:14|       1|             8|         Kulcha Naan|         2.95|\n|    2096|16/12/2015 19:14|       1|             8|           Aloo Gobi|         5.95|\n|    2096|16/12/2015 19:14|       1|             8|          Keema Naan|         2.95|\n|    2096|16/12/2015 19:14|       1|             8|         Bombay Aloo|         5.95|\n|    2096|16/12/2015 19:14|       1|             8|       Peshwari Naan|         2.95|\n|    4487|27/05/2016 16:42|       1|            10|          Mint Sauce|          0.5|\n|    4487|27/05/2016 16:42|       1|            10|         Bombay Aloo|         5.95|\n|    4487|27/05/2016 16:42|       1|            10|       Mango Chutney|          0.5|\n|    4487|27/05/2016 16:42|       1|            10|    Tandoori Chicken|         4.95|\n|    4487|27/05/2016 16:42|       1|            10|               Curry|         7.95|\n|    4487|27/05/2016 16:42|       1|            10|         Lime Pickle|          0.5|\n|    4487|27/05/2016 16:42|       1|            10|          Lemon Rice|         3.95|\n|    4487|27/05/2016 16:42|       4|            10|       Plain Papadum|          0.8|\n|    4487|27/05/2016 16:42|       1|            10|       Onion Chutney|          0.5|\n|    4487|27/05/2016 16:42|       1|            10|Tandoori Fish Karahi|        11.95|\n|    4488|27/05/2016 17:19|       1|             5|      Butter Chicken|         8.95|\n|    4488|27/05/2016 17:19|       1|             5|         Saag Paneer|         5.95|\n|    4488|27/05/2016 17:19|       2|             5|       Mushroom Rice|         3.95|\n+--------+----------------+--------+--------------+--------------------+-------------+\nonly showing top 20 rows\n\n"
     ]
    }
   ],
   "source": [
    "restaurant_2_products_price = restaurant_2_products_price.withColumnRenamed(\"Item Name\", \"Menu_Item\").withColumnRenamed(\"Product Price\", \"Correct_Price\")\n",
    "joined_order_2 = restaurant_2_orders.join(restaurant_2_products_price, restaurant_2_orders[\"Item Name\"] == restaurant_2_products_price[\"Menu_Item\"], \"inner\")\n",
    "joined_order_2 = joined_order_2.drop(\"Product Price\", \"Item Name\") \n",
    "joined_order_2.orderBy(\"Order ID\", ascending=True).show()"
   ]
  },
  {
   "cell_type": "markdown",
   "metadata": {
    "application/vnd.databricks.v1+cell": {
     "cellMetadata": {
      "byteLimit": 2048000,
      "rowLimit": 10000
     },
     "inputWidgets": {},
     "nuid": "dce0c2e3-9afe-43e4-9e8a-60c15afb5490",
     "showTitle": false,
     "title": ""
    }
   },
   "source": [
    "### Data Exploration and Analysis - Which Curries, Startes and Drinks are most popular at each restaurant\n"
   ]
  },
  {
   "cell_type": "code",
   "execution_count": 0,
   "metadata": {
    "application/vnd.databricks.v1+cell": {
     "cellMetadata": {
      "byteLimit": 2048000,
      "rowLimit": 10000
     },
     "inputWidgets": {},
     "nuid": "cebce749-f020-46fe-9a04-b1fd02032400",
     "showTitle": false,
     "title": ""
    }
   },
   "outputs": [
    {
     "output_type": "stream",
     "name": "stdout",
     "output_type": "stream",
     "text": [
      "+--------+----------------+--------+--------------+--------------------+-------------+------------------+\n|Order ID|      Order Date|Quantity|Total products|           Menu_Item|Correct_Price|        Total_Paid|\n+--------+----------------+--------+--------------+--------------------+-------------+------------------+\n|   24419|08/06/2019 16:22|       7|            11| King Prawn Shaslick|        12.95| 90.64999999999999|\n|   13900|07/01/2018 15:57|       7|             1|  Sheek Kebab (Main)|         8.95| 62.64999999999999|\n|   23349|19/04/2019 19:25|       6|             4|Chicken Tikka (Main)|         8.95|53.699999999999996|\n|   18847|17/09/2018 14:55|       5|             1|     Chicken Biryani|         9.95|             49.75|\n|    5410|02/09/2016 17:35|       4|             2|Tandoori Mixed Grill|        11.95|              47.8|\n|    8256|18/02/2017 20:52|       4|             3|Tandoori Mixed Grill|        11.95|              47.8|\n|   19994|09/11/2018 18:27|       4|             3|Tandoori Mixed Grill|        11.95|              47.8|\n|    4903|29/07/2016 17:42|       4|             2|Tandoori Mixed Grill|        11.95|              47.8|\n|    4873|27/07/2016 18:02|       4|             2|Tandoori Mixed Grill|        11.95|              47.8|\n|   17904|03/08/2018 19:21|       5|             6|Chicken Tikka (Main)|         8.95|             44.75|\n|   19998|09/11/2018 18:54|       5|             8|Tandoori Chicken ...|         8.95|             44.75|\n|   21512|25/01/2019 18:13|       5|             8|Chicken Tikka (Main)|         8.95|             44.75|\n|   16912|09/06/2018 17:53|       5|            12|Chicken Tikka (Main)|         8.95|             44.75|\n|   20488|07/12/2018 17:45|       5|            13|Chicken Tikka (Main)|         8.95|             44.75|\n|   21643|31/01/2019 19:10|       5|             8|Chicken Tikka (Main)|         8.95|             44.75|\n|   20407|01/12/2018 18:10|       5|            10|Chicken Tikka (Main)|         8.95|             44.75|\n|   14313|29/01/2018 18:53|       5|             7|Chicken Tikka Masala|         8.95|             44.75|\n|   23442|24/04/2019 18:42|       5|            10|Chicken Tikka (Main)|         8.95|             44.75|\n|   22606|15/03/2019 19:38|       5|             9|Chicken Tikka (Main)|         8.95|             44.75|\n|   17250|27/06/2018 18:51|       5|            10|Chicken Tikka (Main)|         8.95|             44.75|\n+--------+----------------+--------+--------------+--------------------+-------------+------------------+\nonly showing top 20 rows\n\n+------------+----------------+--------+--------------+--------------------+-------------+------------------+\n|Order Number|      Order Date|Quantity|Total products|           Menu_Item|Correct_Price|        Total_Paid|\n+------------+----------------+--------+--------------+--------------------+-------------+------------------+\n|       15840|18/07/2019 18:38|      51|             1| King Prawn Shaslick|        12.95| 660.4499999999999|\n|        6769|18/09/2017 16:54|      25|             8|Chicken Tikka Masala|         8.95|223.74999999999997|\n|        6769|18/09/2017 16:54|      25|             8|               Korma|         8.95|223.74999999999997|\n|        6769|18/09/2017 16:54|      20|             8|     Chicken Biryani|         9.95|             199.0|\n|        6769|18/09/2017 16:54|      20|             8|   Vegetable Biryani|         9.95|             199.0|\n|        6769|18/09/2017 16:54|      20|             8| Paneer Tikka Masala|         8.95|             179.0|\n|        6769|18/09/2017 16:54|      20|             8|          Tarka Dall|         5.95|             119.0|\n|        6768|18/09/2017 16:33|      20|             9|        Royal Paneer|         5.95|             119.0|\n|        6768|18/09/2017 16:33|      20|             9|         Meat Samosa|         3.95|              79.0|\n|        6768|18/09/2017 16:33|      20|             9|        Onion Bhajee|         3.95|              79.0|\n|        6768|18/09/2017 16:33|      20|             9|     Stuffed Paratha|         3.95|              79.0|\n|        6768|18/09/2017 16:33|      30|             9|          Plain Naan|          2.6|              78.0|\n|        6768|18/09/2017 16:33|      15|             9|         Sheek Kebab|         4.95|             74.25|\n|       11918|07/11/2018 17:53|       4|             2| House Red wine 75cl|        17.95|              71.8|\n|        6168|25/07/2017 11:47|       8|             6|               Rogon|         8.95|              71.6|\n|       15372|16/06/2019 18:17|       6|             5|      Butter Chicken|         9.95|59.699999999999996|\n|       12369|07/12/2018 21:36|       6|             3|     Chicken Biryani|         9.95|59.699999999999996|\n|        6768|18/09/2017 16:33|      20|             9|             Paratha|         2.95|              59.0|\n|        6768|18/09/2017 16:33|      20|             9|              Raitha|         2.95|              59.0|\n|        6768|18/09/2017 16:33|      20|             9|         Green Salad|         2.95|              59.0|\n+------------+----------------+--------+--------------+--------------------+-------------+------------------+\nonly showing top 20 rows\n\n"
     ]
    }
   ],
   "source": [
    "joined_order_2 = joined_order_2.withColumn(\"Total_Paid\", joined_order_2.Quantity * joined_order_2.Correct_Price)\n",
    "joined_order_2.orderBy(\"Total_Paid\", ascending=False).show()\n",
    "joined_order_1 = joined_order_1.withColumn(\"Total_Paid\", joined_order_1.Quantity * joined_order_1.Correct_Price)\n",
    "joined_order_1.orderBy(\"Total_Paid\", ascending=False).show()"
   ]
  },
  {
   "cell_type": "markdown",
   "metadata": {
    "application/vnd.databricks.v1+cell": {
     "cellMetadata": {
      "byteLimit": 2048000,
      "rowLimit": 10000
     },
     "inputWidgets": {},
     "nuid": "d62f3ee1-acde-4f88-bbf5-a6701594b0b4",
     "showTitle": false,
     "title": ""
    }
   },
   "source": [
    "- problems with restaurant 1, orders of 51 King prawn shashlicks, 6769 has ordered 130 curries. Removal of some Order Numbers is in order. "
   ]
  },
  {
   "cell_type": "code",
   "execution_count": 0,
   "metadata": {
    "application/vnd.databricks.v1+cell": {
     "cellMetadata": {
      "byteLimit": 2048000,
      "rowLimit": 10000
     },
     "inputWidgets": {},
     "nuid": "bfe7ecd3-a9da-43c4-9e0e-1e298405ed26",
     "showTitle": false,
     "title": ""
    }
   },
   "outputs": [
    {
     "output_type": "stream",
     "name": "stdout",
     "output_type": "stream",
     "text": [
      "+--------+------------------------+\n|Order ID|Overall Paid By Order ID|\n+--------+------------------------+\n|    7952|                   283.3|\n|   13246|                   234.5|\n|   19569|      183.65000000000003|\n|   22328|      182.35000000000002|\n|   14224|                  177.55|\n|   24856|      175.95000000000002|\n|   21984|                  171.05|\n|    5170|      167.60000000000002|\n|   24855|                   167.0|\n|   24419|                   161.1|\n|   19962|      160.60000000000002|\n|   11656|                  158.45|\n|   17705|      158.20000000000002|\n|    5429|                   158.0|\n|    9511|                  157.05|\n|   24878|                  155.25|\n|   19563|      154.35000000000002|\n|   21228|      151.10000000000002|\n|   17228|                   149.7|\n|   16495|                  149.05|\n+--------+------------------------+\nonly showing top 20 rows\n\n"
     ]
    }
   ],
   "source": [
    "from pyspark.sql.functions import sum\n",
    "joined_order_2.groupBy(\"Order ID\").agg(sum(\"Total_Paid\").alias(\"Overall Paid By Order ID\")).orderBy(\"Overall Paid By Order ID\", ascending = False).show()\n",
    "## Order IDs with the most money spent in restaurant 2"
   ]
  },
  {
   "cell_type": "code",
   "execution_count": 0,
   "metadata": {
    "application/vnd.databricks.v1+cell": {
     "cellMetadata": {
      "byteLimit": 2048000,
      "rowLimit": 10000
     },
     "inputWidgets": {},
     "nuid": "e8b027ef-8dc7-4e29-90da-79fb5b29e4b2",
     "showTitle": false,
     "title": ""
    }
   },
   "outputs": [
    {
     "output_type": "stream",
     "name": "stdout",
     "output_type": "stream",
     "text": [
      "+--------------------+-----------------------------+\n|           Menu_Item|Total Paid for each Menu Item|\n+--------------------+-----------------------------+\n|          Mint Sauce|                        920.0|\n|  Bengal Fish Karahi|                        233.1|\n|      Dupiaza - Lamb|            331.1499999999999|\n|Perrier Water (75...|                        67.15|\n|    Lamb Tikka Balti|            744.5999999999996|\n|   Vegetable Biryani|           3631.7500000000095|\n|     Mushroom Bhajee|           1993.2500000000055|\n|     Bhuna - Chicken|            1888.450000000003|\n|           Saag Aloo|            7342.299999999928|\n|             Dhansak|            3463.650000000011|\n|        Madras Sauce|            533.2499999999993|\n| Prier Water (750ml)|                        43.45|\n|            Vindaloo|           2218.0500000000047|\n|        Onion Bhajee|           10850.649999999776|\n|         Prawn Puree|            2059.200000000006|\n|  Korma - King Prawn|                        259.0|\n|        Saag - Prawn|                         99.5|\n|             Dupiaza|            1691.550000000002|\n|     Chicken Biryani|            7671.449999999962|\n|   Lamb Tikka (Main)|           1360.4000000000008|\n+--------------------+-----------------------------+\nonly showing top 20 rows\n\n"
     ]
    }
   ],
   "source": [
    "top_orders_2 = joined_order_2.groupBy(\"Menu_Item\").agg(sum(\"Total_Paid\").alias(\"Total Paid for each Menu Item\"))\n",
    "top_orders_1 = joined_order_1.groupBy(\"Menu_Item\").agg(sum(\"Total_Paid\").alias(\"Total Paid for each Menu Item\"))\n",
    "# Grouping by Menu Item and summing the total money spent up\n",
    "top_orders_1.show()"
   ]
  },
  {
   "cell_type": "code",
   "execution_count": 0,
   "metadata": {
    "application/vnd.databricks.v1+cell": {
     "cellMetadata": {
      "byteLimit": 2048000,
      "rowLimit": 10000
     },
     "inputWidgets": {},
     "nuid": "ad9032d2-8193-461b-8e61-07330af97c5f",
     "showTitle": false,
     "title": ""
    }
   },
   "outputs": [
    {
     "output_type": "stream",
     "name": "stdout",
     "output_type": "stream",
     "text": [
      "Out[38]: [Row(Menu_Item='Mint Sauce', Correct_Price=0.5),\n Row(Menu_Item='Lime Pickle', Correct_Price=0.5),\n Row(Menu_Item='Mango Chutney', Correct_Price=0.5),\n Row(Menu_Item='Red Sauce', Correct_Price=0.5),\n Row(Menu_Item='Onion Chutney', Correct_Price=0.5),\n Row(Menu_Item='Plain Papadum', Correct_Price=0.8),\n Row(Menu_Item='Spicy Papadum', Correct_Price=0.8),\n Row(Menu_Item='Chapati', Correct_Price=1.95),\n Row(Menu_Item='Puree', Correct_Price=1.95),\n Row(Menu_Item='Tandoori Roti', Correct_Price=2.6),\n Row(Menu_Item='Plain Naan', Correct_Price=2.6),\n Row(Menu_Item='Raitha', Correct_Price=2.95),\n Row(Menu_Item='Keema Naan', Correct_Price=2.95),\n Row(Menu_Item='Peshwari Naan', Correct_Price=2.95),\n Row(Menu_Item='Pilau Rice', Correct_Price=2.95),\n Row(Menu_Item='Green Salad', Correct_Price=2.95),\n Row(Menu_Item='Bottle Coke', Correct_Price=2.95),\n Row(Menu_Item='Plain Rice', Correct_Price=2.95),\n Row(Menu_Item='Garlic Naan', Correct_Price=2.95),\n Row(Menu_Item='Onion Naan', Correct_Price=2.95),\n Row(Menu_Item='Paratha', Correct_Price=2.95),\n Row(Menu_Item='Bottle Diet Coke', Correct_Price=2.95),\n Row(Menu_Item='Kulcha Naan', Correct_Price=2.95),\n Row(Menu_Item='Lemonade 1.5 ltr', Correct_Price=2.95),\n Row(Menu_Item='Diet Coke 1.5 ltr', Correct_Price=2.95),\n Row(Menu_Item='Coke 1.5 ltr', Correct_Price=2.95),\n Row(Menu_Item='Dhansak Sauce', Correct_Price=3.95),\n Row(Menu_Item='Onion Bhajee', Correct_Price=3.95),\n Row(Menu_Item='Lemon Rice', Correct_Price=3.95),\n Row(Menu_Item='French Fries', Correct_Price=3.95),\n Row(Menu_Item='Garlic Rice', Correct_Price=3.95),\n Row(Menu_Item='Onion Rice', Correct_Price=3.95),\n Row(Menu_Item='Perrier Water (750ml)', Correct_Price=3.95),\n Row(Menu_Item='Special Fried Rice', Correct_Price=3.95),\n Row(Menu_Item='Meat Samosa', Correct_Price=3.95),\n Row(Menu_Item='Mushroom Rice', Correct_Price=3.95),\n Row(Menu_Item='Korma Sauce', Correct_Price=3.95),\n Row(Menu_Item='Vegetable Rice', Correct_Price=3.95),\n Row(Menu_Item='Egg Rice', Correct_Price=3.95),\n Row(Menu_Item='Curry Sauce', Correct_Price=3.95),\n Row(Menu_Item='Egg Paratha', Correct_Price=3.95),\n Row(Menu_Item='Keema Rice', Correct_Price=3.95),\n Row(Menu_Item='Stuffed Paratha', Correct_Price=3.95),\n Row(Menu_Item='COBRA (330ML)', Correct_Price=3.95),\n Row(Menu_Item='Saag Rice', Correct_Price=3.95),\n Row(Menu_Item='Masala Sauce', Correct_Price=3.95),\n Row(Menu_Item='Madras Sauce', Correct_Price=3.95),\n Row(Menu_Item='Vindaloo Sauce', Correct_Price=3.95),\n Row(Menu_Item='Bengal Salad', Correct_Price=3.95),\n Row(Menu_Item='Still Water (750ml)', Correct_Price=3.95),\n Row(Menu_Item='Prier Water (750ml)', Correct_Price=3.95),\n Row(Menu_Item='Onion Bhaji', Correct_Price=3.95),\n Row(Menu_Item='Chicken Tikka', Correct_Price=3.95),\n Row(Menu_Item='Aloo Chaat', Correct_Price=4.95),\n Row(Menu_Item='Tandoori Chicken (1/4)', Correct_Price=4.95),\n Row(Menu_Item='Chicken Chaat', Correct_Price=4.95),\n Row(Menu_Item='Prawn Puree', Correct_Price=4.95),\n Row(Menu_Item='Lamb Tikka', Correct_Price=4.95),\n Row(Menu_Item='Vegetable Roll', Correct_Price=4.95),\n Row(Menu_Item='Sheek Kebab', Correct_Price=4.95),\n Row(Menu_Item='Sheek Kehab', Correct_Price=4.95),\n Row(Menu_Item='Vegetable Samosa', Correct_Price=4.95),\n Row(Menu_Item='King Prawn Puree', Correct_Price=5.95),\n Row(Menu_Item='Bhindi Bhajee', Correct_Price=5.95),\n Row(Menu_Item='Tarka Dall', Correct_Price=5.95),\n Row(Menu_Item='Saag Paneer', Correct_Price=5.95),\n Row(Menu_Item='Baingan Hari Mirch', Correct_Price=5.95),\n Row(Menu_Item='Chicken Pakora', Correct_Price=5.95),\n Row(Menu_Item='COBRA ( LARGE )', Correct_Price=5.95),\n Row(Menu_Item='Royal Paneer', Correct_Price=5.95),\n Row(Menu_Item='Muttar Paneer', Correct_Price=5.95),\n Row(Menu_Item='Chana Masala', Correct_Price=5.95),\n Row(Menu_Item='Bombay Aloo', Correct_Price=5.95),\n Row(Menu_Item='Saag Aloo', Correct_Price=5.95),\n Row(Menu_Item='Aloo Methi', Correct_Price=5.95),\n Row(Menu_Item='Saag Bhajee', Correct_Price=5.95),\n Row(Menu_Item='Cauliflower Bhajee', Correct_Price=5.95),\n Row(Menu_Item='Saag Dall', Correct_Price=5.95),\n Row(Menu_Item='Aloo Gobi', Correct_Price=5.95),\n Row(Menu_Item='Mixed Vegetable Curry', Correct_Price=5.95),\n Row(Menu_Item='Mushroom Bhajee', Correct_Price=5.95),\n Row(Menu_Item='Mixed Starter', Correct_Price=5.95),\n Row(Menu_Item='Tandoori Fish', Correct_Price=5.95),\n Row(Menu_Item='Brinjal Bhajee', Correct_Price=5.95),\n Row(Menu_Item='Vegetable Mysore', Correct_Price=5.95),\n Row(Menu_Item='King Prawn Butterfly', Correct_Price=5.95),\n Row(Menu_Item='Dall Samba', Correct_Price=5.95),\n Row(Menu_Item='COBRA (660ML)', Correct_Price=5.95),\n Row(Menu_Item='Chicken Chaat Main', Correct_Price=7.9),\n Row(Menu_Item='Madras - Chicken', Correct_Price=7.95),\n Row(Menu_Item='Madras - Lamb', Correct_Price=7.95),\n Row(Menu_Item='Curry - Chicken', Correct_Price=7.95),\n Row(Menu_Item='Vindaloo - Chicken', Correct_Price=7.95),\n Row(Menu_Item='Madras - Chicken Tikka', Correct_Price=7.95),\n Row(Menu_Item='Curry - Lamb', Correct_Price=7.95),\n Row(Menu_Item='Curry - Chicken Tikka', Correct_Price=7.95),\n Row(Menu_Item='Vindaloo - Chicken Tikka', Correct_Price=7.95),\n Row(Menu_Item='Vindaloo - Lamb', Correct_Price=7.95),\n Row(Menu_Item='Madras', Correct_Price=7.95),\n Row(Menu_Item='Curry', Correct_Price=7.95),\n Row(Menu_Item='Vindaloo', Correct_Price=7.95),\n Row(Menu_Item='Korma - Chicken', Correct_Price=8.95),\n Row(Menu_Item='Chicken Tikka Masala', Correct_Price=8.95),\n Row(Menu_Item='Pathia - Chicken Tikka', Correct_Price=8.95),\n Row(Menu_Item='Chicken Tikka Jalfrezi', Correct_Price=8.95),\n Row(Menu_Item='Methi - Lamb', Correct_Price=8.95),\n Row(Menu_Item='Tandoori Chicken (Main)', Correct_Price=8.95),\n Row(Menu_Item='Bhuna - Chicken', Correct_Price=8.95),\n Row(Menu_Item='Korma - Chicken Tikka', Correct_Price=8.95),\n Row(Menu_Item='Chicken Tikka (Main)', Correct_Price=8.95),\n Row(Menu_Item='Paneer Tikka Masala', Correct_Price=8.95),\n Row(Menu_Item='Dupiaza - Chicken', Correct_Price=8.95),\n Row(Menu_Item='Bhuna - Chicken Tikka', Correct_Price=8.95),\n Row(Menu_Item='Pathia - Lamb', Correct_Price=8.95),\n Row(Menu_Item='Chicken Karahi', Correct_Price=8.95),\n Row(Menu_Item='Bhuna - Lamb', Correct_Price=8.95),\n Row(Menu_Item='Dhansak - Chicken Tikka', Correct_Price=8.95),\n Row(Menu_Item='Dhansak - Chicken', Correct_Price=8.95),\n Row(Menu_Item='Rogon - Lamb', Correct_Price=8.95),\n Row(Menu_Item='Chicken Tikka Pasanda', Correct_Price=8.95),\n Row(Menu_Item='Pathia - Chicken', Correct_Price=8.95),\n Row(Menu_Item='Lamb Tikka Masala', Correct_Price=8.95),\n Row(Menu_Item='Lamb Tikka Jalfrezi', Correct_Price=8.95),\n Row(Menu_Item='Lamb Karahi', Correct_Price=8.95),\n Row(Menu_Item='Madras - Prawn', Correct_Price=8.95),\n Row(Menu_Item='Lamb Tikka (Main)', Correct_Price=8.95),\n Row(Menu_Item='Lamb Tikka Pasanda', Correct_Price=8.95),\n Row(Menu_Item='Lamb Tikka Garlic', Correct_Price=8.95),\n Row(Menu_Item='Chicken Tikka Garlic', Correct_Price=8.95),\n Row(Menu_Item='Chicken Tikka Chilli Masala', Correct_Price=8.95),\n Row(Menu_Item='Dupiaza - Chicken Tikka', Correct_Price=8.95),\n Row(Menu_Item='Mushroom - Chicken', Correct_Price=8.95),\n Row(Menu_Item='Dhansak - Lamb', Correct_Price=8.95),\n Row(Menu_Item='Sheek Kebab (Main)', Correct_Price=8.95),\n Row(Menu_Item='Saag - Chicken', Correct_Price=8.95),\n Row(Menu_Item='Tandoori Chicken Masala', Correct_Price=8.95),\n Row(Menu_Item='Saag - Chicken Tikka', Correct_Price=8.95),\n Row(Menu_Item='Dupiaza - Lamb', Correct_Price=8.95),\n Row(Menu_Item='Curry - Prawn', Correct_Price=8.95),\n Row(Menu_Item='Saag - Lamb', Correct_Price=8.95),\n Row(Menu_Item='Korma - Lamb', Correct_Price=8.95),\n Row(Menu_Item='Mushroom - Lamb', Correct_Price=8.95),\n Row(Menu_Item='Rogon - Chicken Tikka', Correct_Price=8.95),\n Row(Menu_Item='Lamb Tikka Chilli Masala', Correct_Price=8.95),\n Row(Menu_Item='Vindaloo - Prawn', Correct_Price=8.95),\n Row(Menu_Item='Methi - Chicken Tikka', Correct_Price=8.95),\n Row(Menu_Item='Vegetable Karahi', Correct_Price=8.95),\n Row(Menu_Item='Rogon - Chicken', Correct_Price=8.95),\n Row(Menu_Item='Mushroom - Chicken Tikka', Correct_Price=8.95),\n Row(Menu_Item='Methi - Chicken', Correct_Price=8.95),\n Row(Menu_Item='Lamb Tikka Jeera', Correct_Price=8.95),\n Row(Menu_Item='Chicken Tikka Jeera', Correct_Price=8.95),\n Row(Menu_Item='Bhuna', Correct_Price=8.95),\n Row(Menu_Item='Saag', Correct_Price=8.95),\n Row(Menu_Item='Dhansak', Correct_Price=8.95),\n Row(Menu_Item='Pathia', Correct_Price=8.95),\n Row(Menu_Item='Korma', Correct_Price=8.95),\n Row(Menu_Item='Dupiaza', Correct_Price=8.95),\n Row(Menu_Item='Methi', Correct_Price=8.95),\n Row(Menu_Item='Rogon', Correct_Price=8.95),\n Row(Menu_Item='Mushroom', Correct_Price=8.95),\n Row(Menu_Item='Tandoori Chicken', Correct_Price=8.95),\n Row(Menu_Item='Chicken Shashlick', Correct_Price=9.95),\n Row(Menu_Item='Chicken Roshni', Correct_Price=9.95),\n Row(Menu_Item='Chicken Balti', Correct_Price=9.95),\n Row(Menu_Item='Lamb Balti', Correct_Price=9.95),\n Row(Menu_Item='Butter Chicken', Correct_Price=9.95),\n Row(Menu_Item='Lamb Hari Mirch', Correct_Price=9.95),\n Row(Menu_Item='Chicken Chilli Garlic', Correct_Price=9.95),\n Row(Menu_Item='Lamb Biryani', Correct_Price=9.95),\n Row(Menu_Item='Vegetable Biryani', Correct_Price=9.95),\n Row(Menu_Item='Chicken Rezala', Correct_Price=9.95),\n Row(Menu_Item='Lamb Rezala', Correct_Price=9.95),\n Row(Menu_Item='Chicken Tikka Karahi', Correct_Price=9.95),\n Row(Menu_Item='Chicken Hari Mirch', Correct_Price=9.95),\n Row(Menu_Item='Chicken Biryani', Correct_Price=9.95),\n Row(Menu_Item='Lamb Shashlick', Correct_Price=9.95),\n Row(Menu_Item='Bhuna - Prawn', Correct_Price=9.95),\n Row(Menu_Item='Chicken Haryali', Correct_Price=9.95),\n Row(Menu_Item='Lamb Chilli Garlic', Correct_Price=9.95),\n Row(Menu_Item='Paneer Shaslick', Correct_Price=9.95),\n Row(Menu_Item='Chicken Mysore', Correct_Price=9.95),\n Row(Menu_Item='Paneer Tikka Karahi', Correct_Price=9.95),\n Row(Menu_Item='Lamb Achar', Correct_Price=9.95),\n Row(Menu_Item='Paneer Tikka Sizzler', Correct_Price=9.95),\n Row(Menu_Item='Chicken Tikka Sizzler', Correct_Price=9.95),\n Row(Menu_Item='Lal Mirch Chicken', Correct_Price=9.95),\n Row(Menu_Item='Lamb Tikka Karahi', Correct_Price=9.95),\n Row(Menu_Item='Prawn Karahi', Correct_Price=9.95),\n Row(Menu_Item='Lal Mirch Lamb', Correct_Price=9.95),\n Row(Menu_Item='Korma - Prawn', Correct_Price=9.95),\n Row(Menu_Item='Lamb Haryali', Correct_Price=9.95),\n Row(Menu_Item='Lamb Sylhet', Correct_Price=9.95),\n Row(Menu_Item='Vegetable Balti', Correct_Price=9.95),\n Row(Menu_Item='Dhansak - Prawn', Correct_Price=9.95),\n Row(Menu_Item='Lamb Mysore', Correct_Price=9.95),\n Row(Menu_Item='Chicken Sylhet', Correct_Price=9.95),\n Row(Menu_Item='Lamb Tikka Sizzler', Correct_Price=9.95),\n Row(Menu_Item='Pathia - Prawn', Correct_Price=9.95),\n Row(Menu_Item='Chicken Achar', Correct_Price=9.95),\n Row(Menu_Item='Dupiaza - Prawn', Correct_Price=9.95),\n Row(Menu_Item='Lamb Roshni', Correct_Price=9.95),\n Row(Menu_Item='Saag - Prawn', Correct_Price=9.95),\n Row(Menu_Item='Methi - Prawn', Correct_Price=9.95),\n Row(Menu_Item='Rogon - Prawn', Correct_Price=9.95),\n Row(Menu_Item='Mushroom - Prawn', Correct_Price=9.95),\n Row(Menu_Item='Lamb Tikka Biryani', Correct_Price=10.95),\n Row(Menu_Item='Chicken Tikka Balti', Correct_Price=10.95),\n Row(Menu_Item='Lamb Tikka Balti', Correct_Price=10.95),\n Row(Menu_Item='Prawn Biryani', Correct_Price=10.95),\n Row(Menu_Item='Paneer Tikka Balti', Correct_Price=10.95),\n Row(Menu_Item='Chicken Tikka Biryani', Correct_Price=10.95),\n Row(Menu_Item='Persian Lamb Biryani', Correct_Price=10.95),\n Row(Menu_Item='Prawn Balti', Correct_Price=10.95),\n Row(Menu_Item='Persian Chicken Biryani', Correct_Price=10.95),\n Row(Menu_Item='Lamb Persian', Correct_Price=10.95),\n Row(Menu_Item='Tandoori Mixed Grill', Correct_Price=11.95),\n Row(Menu_Item='Curry - King Prawn', Correct_Price=11.95),\n Row(Menu_Item='Madras - King Prawn', Correct_Price=11.95),\n Row(Menu_Item='Tandoori Fish (Main)', Correct_Price=11.95),\n Row(Menu_Item='Vindaloo - King Prawn', Correct_Price=11.95),\n Row(Menu_Item='Tandoori King Prawn Garlic', Correct_Price=12.95),\n Row(Menu_Item='Chicken Shashlick Curry', Correct_Price=12.95),\n Row(Menu_Item='King Prawn Hari Mirch', Correct_Price=12.95),\n Row(Menu_Item='Hazary Lamb Chilli Garlic', Correct_Price=12.95),\n Row(Menu_Item='Lamb Shashlick Curry', Correct_Price=12.95),\n Row(Menu_Item='King Prawn Shaslick', Correct_Price=12.95),\n Row(Menu_Item='Dhansak - King Prawn', Correct_Price=12.95),\n Row(Menu_Item='Bengal King Prawn', Correct_Price=12.95),\n Row(Menu_Item='Korma - King Prawn', Correct_Price=12.95),\n Row(Menu_Item='Bhuna - King Prawn', Correct_Price=12.95),\n Row(Menu_Item='Hazary Lamb', Correct_Price=12.95),\n Row(Menu_Item='Bengal Fish Biryani', Correct_Price=12.95),\n Row(Menu_Item='Tandoori King Prawn Masala', Correct_Price=12.95),\n Row(Menu_Item='King Prawn Biryani', Correct_Price=12.95),\n Row(Menu_Item='Saag - King Prawn', Correct_Price=12.95),\n Row(Menu_Item='Dupiaza - King Prawn', Correct_Price=12.95),\n Row(Menu_Item='Pathia - King Prawn', Correct_Price=12.95),\n Row(Menu_Item='Bengal Fry Fish', Correct_Price=12.95),\n Row(Menu_Item='King Prawn Balti', Correct_Price=12.95),\n Row(Menu_Item='Bengal Fish Karahi', Correct_Price=12.95),\n Row(Menu_Item='Rogon - King Prawn', Correct_Price=12.95),\n Row(Menu_Item='Mushroom - King Prawn', Correct_Price=12.95),\n Row(Menu_Item='King Prawn Karahi', Correct_Price=12.95),\n Row(Menu_Item='Methi - King Prawn', Correct_Price=12.95),\n Row(Menu_Item='Kurma', Correct_Price=12.95),\n Row(Menu_Item='House Red wine 75cl', Correct_Price=17.95),\n Row(Menu_Item='House white wine 75cl', Correct_Price=17.95)]"
     ]
    }
   ],
   "source": [
    "restaurant_2_products_price.head(302)\n",
    "restaurant_1_products_price.head(248)"
   ]
  },
  {
   "cell_type": "markdown",
   "metadata": {
    "application/vnd.databricks.v1+cell": {
     "cellMetadata": {
      "byteLimit": 2048000,
      "rowLimit": 10000
     },
     "inputWidgets": {},
     "nuid": "3d7d81b4-62ec-482b-8a8f-e78e9bd75426",
     "showTitle": false,
     "title": ""
    }
   },
   "source": [
    "- make 3 separate dataframes each to store one of (Mains, Starters and Drinks)\n",
    "- so I can compare the top 5 dishes or drinks in each category between the two different restaurants based on the sales"
   ]
  },
  {
   "cell_type": "code",
   "execution_count": 0,
   "metadata": {
    "application/vnd.databricks.v1+cell": {
     "cellMetadata": {
      "byteLimit": 2048000,
      "rowLimit": 10000
     },
     "inputWidgets": {},
     "nuid": "024e1b11-10f2-4d84-8083-45c5cf730bb0",
     "showTitle": false,
     "title": ""
    }
   },
   "outputs": [
    {
     "output_type": "stream",
     "name": "stdout",
     "output_type": "stream",
     "text": [
      "+-------------+-------------+\n|    Menu_Item|Correct_Price|\n+-------------+-------------+\n|   Mint Sauce|          0.5|\n|  Lime Pickle|          0.5|\n|Mango Chutney|          0.5|\n|    Red Sauce|          0.5|\n|Onion Chutney|          0.5|\n|Plain Papadum|          0.8|\n|Spicy Papadum|          0.8|\n|      Chapati|         1.95|\n|        Puree|         1.95|\n|Tandoori Roti|          2.6|\n|   Plain Naan|          2.6|\n|       Raitha|         2.95|\n|   Keema Naan|         2.95|\n|Peshwari Naan|         2.95|\n|   Pilau Rice|         2.95|\n|  Green Salad|         2.95|\n|  Bottle Coke|         2.95|\n|   Plain Rice|         2.95|\n|  Garlic Naan|         2.95|\n|   Onion Naan|         2.95|\n+-------------+-------------+\nonly showing top 20 rows\n\n"
     ]
    }
   ],
   "source": [
    "starters_restaurant_1 = restaurant_1_products_price.select(\"Menu_Item\", \"Correct_Price\").where(restaurant_1_products_price.Correct_Price.between(0, 7.00))\n",
    "starters_restaurant_1.show()\n",
    "### created starters only menu, with a few drinks inside still that need to be removed, firstly will make mains menu and drinks menu."
   ]
  },
  {
   "cell_type": "code",
   "execution_count": 0,
   "metadata": {
    "application/vnd.databricks.v1+cell": {
     "cellMetadata": {
      "byteLimit": 2048000,
      "rowLimit": 10000
     },
     "inputWidgets": {},
     "nuid": "24968f1d-f8d7-4e89-b429-0c9b9e3cc385",
     "showTitle": false,
     "title": ""
    }
   },
   "outputs": [
    {
     "output_type": "stream",
     "name": "stdout",
     "output_type": "stream",
     "text": [
      "+--------------------+-------------+\n|           Menu_Item|Correct_Price|\n+--------------------+-------------+\n|  Chicken Chaat Main|          7.9|\n|    Madras - Chicken|         7.95|\n|       Madras - Lamb|         7.95|\n|     Curry - Chicken|         7.95|\n|  Vindaloo - Chicken|         7.95|\n|Madras - Chicken ...|         7.95|\n|        Curry - Lamb|         7.95|\n|Curry - Chicken T...|         7.95|\n|Vindaloo - Chicke...|         7.95|\n|     Vindaloo - Lamb|         7.95|\n|              Madras|         7.95|\n|               Curry|         7.95|\n|            Vindaloo|         7.95|\n|     Korma - Chicken|         8.95|\n|Chicken Tikka Masala|         8.95|\n|Pathia - Chicken ...|         8.95|\n|Chicken Tikka Jal...|         8.95|\n|        Methi - Lamb|         8.95|\n|Tandoori Chicken ...|         8.95|\n|     Bhuna - Chicken|         8.95|\n+--------------------+-------------+\nonly showing top 20 rows\n\n"
     ]
    }
   ],
   "source": [
    "mains_restaurant_1 = restaurant_1_products_price.select(\"Menu_Item\", \"Correct_Price\").where(restaurant_1_products_price.Correct_Price.between(7.90, 12.95))\n",
    "mains_restaurant_1.show()"
   ]
  },
  {
   "cell_type": "code",
   "execution_count": 0,
   "metadata": {
    "application/vnd.databricks.v1+cell": {
     "cellMetadata": {
      "byteLimit": 2048000,
      "rowLimit": 10000
     },
     "inputWidgets": {},
     "nuid": "95d627f3-b742-4dcc-8a8b-2d6ebff02f4a",
     "showTitle": false,
     "title": ""
    }
   },
   "outputs": [
    {
     "output_type": "stream",
     "name": "stdout",
     "output_type": "stream",
     "text": [
      "+--------------------+-------------+\n|           Menu_Item|Correct_Price|\n+--------------------+-------------+\n|    Bottle Diet Coke|         2.95|\n|    Lemonade 1.5 ltr|         2.95|\n|   Diet Coke 1.5 ltr|         2.95|\n|        Coke 1.5 ltr|         2.95|\n|Perrier Water (75...|         3.95|\n| Still Water (750ml)|         3.95|\n| Prier Water (750ml)|         3.95|\n|     COBRA ( LARGE )|         5.95|\n|       COBRA (660ML)|         5.95|\n| House Red wine 75cl|        17.95|\n|House white wine ...|        17.95|\n+--------------------+-------------+\n\n"
     ]
    }
   ],
   "source": [
    "drinks = ['COBRA ( LARGE )', 'COBRA (660ML)', 'Prier Water (750ml)', 'Still Water (750ml)', 'COBRA (330ml)', 'Perrier Water (750ml)', 'Coke 1.5 ltr', 'Diet Coke 1.5 ltr', 'Lemonade 1.5 ltr', 'Bottle Diet Coke', 'House Red wine 75cl', 'House white wine 75cl']\n",
    "drinks_restaurant_1 = restaurant_1_products_price.filter(restaurant_1_products_price['Menu_Item'].isin(drinks))\n",
    "drinks_restaurant_1.show()"
   ]
  },
  {
   "cell_type": "code",
   "execution_count": 0,
   "metadata": {
    "application/vnd.databricks.v1+cell": {
     "cellMetadata": {
      "byteLimit": 2048000,
      "rowLimit": 10000
     },
     "inputWidgets": {},
     "nuid": "f07cb99b-7e0b-43cd-b2bb-d634c67d3eae",
     "showTitle": false,
     "title": ""
    }
   },
   "outputs": [],
   "source": [
    "starters_restaurant_2 = restaurant_2_products_price.select(\"Menu_Item\", \"Correct_Price\").where(restaurant_2_products_price.Correct_Price.between(0, 5.95))\n",
    "mains_restaurant_2 = restaurant_2_products_price.select(\"Menu_Item\", \"Correct_Price\").where(restaurant_2_products_price.Correct_Price.between(6.95, 12.95))\n",
    "drinks_2 = ['COBRA ( LARGE )', 'COBRA (660ML)', 'Prier Water (750ml)', 'Still Water (750ml)', 'COBRA (330ml)', 'Perrier Water (750ml)', 'Coke 1.5 ltr', 'Diet Coke 1.5 ltr', 'Lemonade 1.5 ltr', 'Bottle Diet Coke', 'House Red wine 75cl', 'House white wine 75cl']\n",
    "drinks_restaurant_2 = restaurant_2_products_price.filter(restaurant_2_products_price['Menu_Item'].isin(drinks_2))"
   ]
  },
  {
   "cell_type": "code",
   "execution_count": 0,
   "metadata": {
    "application/vnd.databricks.v1+cell": {
     "cellMetadata": {
      "byteLimit": 2048000,
      "rowLimit": 10000
     },
     "inputWidgets": {},
     "nuid": "e379ec7d-72b4-423e-81d3-3b513b6d04c8",
     "showTitle": false,
     "title": ""
    }
   },
   "outputs": [],
   "source": [
    "starters_restaurant_1_joined = starters_restaurant_1.join(top_orders_1, starters_restaurant_1.Menu_Item == top_orders_1.Menu_Item, \"inner\")\n",
    "starters_restaurant_2_joined = starters_restaurant_2.join(top_orders_2, starters_restaurant_2.Menu_Item == top_orders_2.Menu_Item, \"inner\")\n",
    "mains_restaurant_1_joined = mains_restaurant_1.join(top_orders_1, mains_restaurant_1.Menu_Item == top_orders_1.Menu_Item, \"inner\")\n",
    "mains_restaurant_2_joined = mains_restaurant_2.join(top_orders_2, mains_restaurant_2.Menu_Item == top_orders_2.Menu_Item, \"inner\")\n",
    "drinks_restaurant_1_joined = drinks_restaurant_1.join(top_orders_1, drinks_restaurant_1.Menu_Item == top_orders_1.Menu_Item, \"inner\")\n",
    "drinks_restaurant_2_joined = drinks_restaurant_2.join(top_orders_2, drinks_restaurant_2.Menu_Item == top_orders_2.Menu_Item, \"inner\")\n",
    "### combining the total spent on each menu item with the separate menus to create some graphs"
   ]
  },
  {
   "cell_type": "code",
   "execution_count": 0,
   "metadata": {
    "application/vnd.databricks.v1+cell": {
     "cellMetadata": {
      "byteLimit": 2048000,
      "rowLimit": 10000
     },
     "inputWidgets": {},
     "nuid": "d77c4598-c6e9-4a5f-8e4f-1bff24ffbb70",
     "showTitle": false,
     "title": ""
    }
   },
   "outputs": [
    {
     "output_type": "stream",
     "name": "stdout",
     "output_type": "stream",
     "text": [
      "+------------+-------------+------------+-----------------------------+\n|   Menu_Item|Correct_Price|   Menu_Item|Total Paid for each Menu Item|\n+------------+-------------+------------+-----------------------------+\n|  Pilau Rice|         2.95|  Pilau Rice|           18782.649999999838|\n|  Plain Naan|          2.6|  Plain Naan|           12953.200000000208|\n| Bombay Aloo|         5.95| Bombay Aloo|            10894.44999999983|\n|Onion Bhajee|         3.95|Onion Bhajee|           10850.649999999776|\n| Garlic Naan|         2.95| Garlic Naan|            9788.099999999806|\n+------------+-------------+------------+-----------------------------+\nonly showing top 5 rows\n\n+-------------+-------------+-------------+-----------------------------+\n|    Menu_Item|Correct_Price|    Menu_Item|Total Paid for each Menu Item|\n+-------------+-------------+-------------+-----------------------------+\n|   Pilau Rice|         2.95|   Pilau Rice|            34668.40000000031|\n|  Bombay Aloo|         5.95|  Bombay Aloo|            25799.19999999997|\n|         Naan|          2.5|         Naan|                      21817.5|\n|  Onion Bhaji|         3.95|  Onion Bhaji|           15661.749999999676|\n|Plain Papadum|          0.8|Plain Papadum|           14443.200000000055|\n+-------------+-------------+-------------+-----------------------------+\nonly showing top 5 rows\n\n"
     ]
    }
   ],
   "source": [
    "starters_restaurant_1_joined.orderBy(\"Total Paid for each Menu Item\", ascending=False).show(5)\n",
    "starters_restaurant_2_joined.orderBy(\"Total Paid for each Menu Item\", ascending=False).show(5)"
   ]
  },
  {
   "cell_type": "code",
   "execution_count": 0,
   "metadata": {
    "application/vnd.databricks.v1+cell": {
     "cellMetadata": {
      "byteLimit": 2048000,
      "rowLimit": 10000
     },
     "inputWidgets": {},
     "nuid": "ac6d6862-11cb-4139-8515-12425cc3031d",
     "showTitle": false,
     "title": ""
    }
   },
   "outputs": [
    {
     "output_type": "stream",
     "name": "stdout",
     "output_type": "stream",
     "text": [
      "+--------------------+-------------+--------------------+-----------------------------+\n|           Menu_Item|Correct_Price|           Menu_Item|Total Paid for each Menu Item|\n+--------------------+-------------+--------------------+-----------------------------+\n|Chicken Tikka Masala|         8.95|Chicken Tikka Masala|           22133.350000000122|\n|               Korma|         8.95|               Korma|            12046.69999999988|\n|      Butter Chicken|         9.95|      Butter Chicken|            10626.59999999991|\n|     Korma - Chicken|         8.95|     Korma - Chicken|            9764.449999999928|\n|Tandoori Mixed Grill|        11.95|Tandoori Mixed Grill|            8544.249999999953|\n+--------------------+-------------+--------------------+-----------------------------+\nonly showing top 5 rows\n\n+--------------------+-------------+--------------------+-----------------------------+\n|           Menu_Item|Correct_Price|           Menu_Item|Total Paid for each Menu Item|\n+--------------------+-------------+--------------------+-----------------------------+\n|Chicken Tikka Masala|         8.95|Chicken Tikka Masala|            35522.55000000035|\n|               Korma|         8.95|               Korma|           17533.049999999836|\n|      Butter Chicken|         8.95|      Butter Chicken|            15143.39999999987|\n|              Madras|         7.95|              Madras|           14914.199999999848|\n|Chicken Tikka (Main)|         8.95|Chicken Tikka (Main)|           13514.499999999898|\n+--------------------+-------------+--------------------+-----------------------------+\nonly showing top 5 rows\n\n"
     ]
    }
   ],
   "source": [
    "mains_restaurant_1_joined.orderBy(\"Total Paid for each Menu Item\", ascending=False).show(5)\n",
    "mains_restaurant_2_joined.orderBy(\"Total Paid for each Menu Item\", ascending=False).show(5)"
   ]
  },
  {
   "cell_type": "code",
   "execution_count": 0,
   "metadata": {
    "application/vnd.databricks.v1+cell": {
     "cellMetadata": {
      "byteLimit": 2048000,
      "rowLimit": 10000
     },
     "inputWidgets": {},
     "nuid": "bae55eda-20a1-418f-8369-eb5d36e8e08a",
     "showTitle": false,
     "title": ""
    }
   },
   "outputs": [
    {
     "output_type": "stream",
     "name": "stdout",
     "output_type": "stream",
     "text": [
      "+--------------------+-------------+--------------------+-----------------------------+\n|           Menu_Item|Correct_Price|           Menu_Item|Total Paid for each Menu Item|\n+--------------------+-------------+--------------------+-----------------------------+\n| House Red wine 75cl|        17.95| House Red wine 75cl|            2369.400000000002|\n|       COBRA (660ML)|         5.95|       COBRA (660ML)|           1094.8000000000018|\n|House white wine ...|        17.95|House white wine ...|            933.4000000000007|\n|        Coke 1.5 ltr|         2.95|        Coke 1.5 ltr|            513.2999999999987|\n|    Lemonade 1.5 ltr|         2.95|    Lemonade 1.5 ltr|            315.6499999999994|\n+--------------------+-------------+--------------------+-----------------------------+\nonly showing top 5 rows\n\n+--------------------+-------------+--------------------+-----------------------------+\n|           Menu_Item|Correct_Price|           Menu_Item|Total Paid for each Menu Item|\n+--------------------+-------------+--------------------+-----------------------------+\n|       COBRA (660ML)|          5.5|       COBRA (660ML)|                       2150.5|\n|House white wine ...|        17.95|House white wine ...|            1400.100000000002|\n|        Coke 1.5 ltr|         2.95|        Coke 1.5 ltr|            767.0000000000025|\n|     COBRA ( LARGE )|          5.5|     COBRA ( LARGE )|                        533.5|\n| House Red wine 75cl|        17.95| House Red wine 75cl|           394.89999999999986|\n+--------------------+-------------+--------------------+-----------------------------+\nonly showing top 5 rows\n\n"
     ]
    }
   ],
   "source": [
    "drinks_restaurant_1_joined.orderBy(\"Total Paid for each Menu Item\", ascending=False).show(5)\n",
    "drinks_restaurant_2_joined.orderBy(\"Total Paid for each Menu Item\", ascending=False).show(5)"
   ]
  },
  {
   "cell_type": "code",
   "execution_count": 0,
   "metadata": {
    "application/vnd.databricks.v1+cell": {
     "cellMetadata": {
      "byteLimit": 2048000,
      "rowLimit": 10000
     },
     "inputWidgets": {},
     "nuid": "f1700dea-1104-4cfa-8c44-76da14d06c2d",
     "showTitle": false,
     "title": ""
    }
   },
   "outputs": [
    {
     "output_type": "display_data",
     "data": {
      "text/html": [
       "<style scoped>\n",
       "  .table-result-container {\n",
       "    max-height: 300px;\n",
       "    overflow: auto;\n",
       "  }\n",
       "  table, th, td {\n",
       "    border: 1px solid black;\n",
       "    border-collapse: collapse;\n",
       "  }\n",
       "  th, td {\n",
       "    padding: 5px;\n",
       "  }\n",
       "  th {\n",
       "    text-align: left;\n",
       "  }\n",
       "</style><div class='table-result-container'><table class='table-result'><thead style='background-color: white'><tr><th>Menu_Item</th><th>Correct_Price</th><th>Menu_Item</th><th>Total Paid for each Menu Item</th></tr></thead><tbody><tr><td>Perrier Water (750ml)</td><td>3.95</td><td>Perrier Water (750ml)</td><td>67.15</td></tr><tr><td>Prier Water (750ml)</td><td>3.95</td><td>Prier Water (750ml)</td><td>43.45</td></tr><tr><td>House white wine 75cl</td><td>17.95</td><td>House white wine 75cl</td><td>933.4000000000007</td></tr><tr><td>Coke 1.5 ltr</td><td>2.95</td><td>Coke 1.5 ltr</td><td>513.2999999999987</td></tr><tr><td>COBRA ( LARGE )</td><td>5.95</td><td>COBRA ( LARGE )</td><td>273.6999999999999</td></tr><tr><td>Lemonade 1.5 ltr</td><td>2.95</td><td>Lemonade 1.5 ltr</td><td>315.6499999999994</td></tr><tr><td>Diet Coke 1.5 ltr</td><td>2.95</td><td>Diet Coke 1.5 ltr</td><td>286.14999999999947</td></tr><tr><td>House Red wine 75cl</td><td>17.95</td><td>House Red wine 75cl</td><td>2369.400000000002</td></tr><tr><td>Still Water (750ml)</td><td>3.95</td><td>Still Water (750ml)</td><td>189.6</td></tr><tr><td>Bottle Diet Coke</td><td>2.95</td><td>Bottle Diet Coke</td><td>168.14999999999995</td></tr><tr><td>COBRA (660ML)</td><td>5.95</td><td>COBRA (660ML)</td><td>1094.8000000000018</td></tr></tbody></table></div>"
      ]
     },
     "metadata": {
      "application/vnd.databricks.v1+output": {
       "addedWidgets": {},
       "aggData": [],
       "aggError": "",
       "aggOverflow": false,
       "aggSchema": [],
       "aggSeriesLimitReached": false,
       "aggType": "",
       "arguments": {},
       "columnCustomDisplayInfos": {},
       "data": [
        [
         "Perrier Water (750ml)",
         3.95,
         "Perrier Water (750ml)",
         67.15
        ],
        [
         "Prier Water (750ml)",
         3.95,
         "Prier Water (750ml)",
         43.45
        ],
        [
         "House white wine 75cl",
         17.95,
         "House white wine 75cl",
         933.4000000000007
        ],
        [
         "Coke 1.5 ltr",
         2.95,
         "Coke 1.5 ltr",
         513.2999999999987
        ],
        [
         "COBRA ( LARGE )",
         5.95,
         "COBRA ( LARGE )",
         273.6999999999999
        ],
        [
         "Lemonade 1.5 ltr",
         2.95,
         "Lemonade 1.5 ltr",
         315.6499999999994
        ],
        [
         "Diet Coke 1.5 ltr",
         2.95,
         "Diet Coke 1.5 ltr",
         286.14999999999947
        ],
        [
         "House Red wine 75cl",
         17.95,
         "House Red wine 75cl",
         2369.400000000002
        ],
        [
         "Still Water (750ml)",
         3.95,
         "Still Water (750ml)",
         189.6
        ],
        [
         "Bottle Diet Coke",
         2.95,
         "Bottle Diet Coke",
         168.14999999999995
        ],
        [
         "COBRA (660ML)",
         5.95,
         "COBRA (660ML)",
         1094.8000000000018
        ]
       ],
       "datasetInfos": [],
       "dbfsResultPath": null,
       "isJsonSchema": true,
       "metadata": {},
       "overflow": false,
       "plotOptions": {
        "customPlotOptions": {},
        "displayType": "table",
        "pivotAggregation": null,
        "pivotColumns": null,
        "xColumns": null,
        "yColumns": null
       },
       "removedWidgets": [],
       "schema": [
        {
         "metadata": "{}",
         "name": "Menu_Item",
         "type": "\"string\""
        },
        {
         "metadata": "{}",
         "name": "Correct_Price",
         "type": "\"double\""
        },
        {
         "metadata": "{}",
         "name": "Menu_Item",
         "type": "\"string\""
        },
        {
         "metadata": "{}",
         "name": "Total Paid for each Menu Item",
         "type": "\"double\""
        }
       ],
       "type": "table"
      }
     },
     "output_type": "display_data"
    },
    {
     "output_type": "display_data",
     "data": {
      "text/plain": [
       "Databricks visualization. Run in Databricks to view."
      ]
     },
     "metadata": {
      "application/vnd.databricks.v1.subcommand+json": {
       "bindings": {},
       "collapsed": false,
       "command": "%python\n__backend_agg_display_orig = display\n__backend_agg_dfs = []\ndef __backend_agg_display_new(df):\n    __backend_agg_df_modules = [\"pandas.core.frame\", \"databricks.koalas.frame\", \"pyspark.sql.dataframe\", \"pyspark.pandas.frame\", \"pyspark.sql.connect.dataframe\"]\n    if (type(df).__module__ in __backend_agg_df_modules and type(df).__name__ == 'DataFrame') or isinstance(df, list):\n        __backend_agg_dfs.append(df)\n\ndisplay = __backend_agg_display_new\n\ndef __backend_agg_user_code_fn():\n    import base64\n    exec(base64.standard_b64decode(\"ZGlzcGxheShkcmlua3NfcmVzdGF1cmFudF8xX2pvaW5lZC5vcmRlckJ5KCJUb3RhbCBQYWlkIGZvciBlYWNoIE1lbnUgSXRlbSIsIGFzY2VuZGluZz1GYWxzZSkp\").decode())\n\ntry:\n    # run user code\n    __backend_agg_user_code_fn()\n\n    #reset display function\n    display = __backend_agg_display_orig\n\n    if len(__backend_agg_dfs) > 0:\n        # create a temp view\n        if type(__backend_agg_dfs[0]).__module__ == \"databricks.koalas.frame\":\n            # koalas dataframe\n            __backend_agg_dfs[0].to_spark().createOrReplaceTempView(\"DatabricksView47632f7\")\n        elif type(__backend_agg_dfs[0]).__module__ == \"pandas.core.frame\" or isinstance(__backend_agg_dfs[0], list):\n            # pandas dataframe\n            spark.createDataFrame(__backend_agg_dfs[0]).createOrReplaceTempView(\"DatabricksView47632f7\")\n        else:\n            __backend_agg_dfs[0].createOrReplaceTempView(\"DatabricksView47632f7\")\n        #run backend agg\n        display(spark.sql(\"\"\"WITH q AS (select * from DatabricksView47632f7) SELECT `Menu_Item`,SUM(`Total Paid for each Menu Item`) `column_87e05d8c71` FROM q GROUP BY `Menu_Item`\"\"\"))\n    else:\n        displayHTML(\"dataframe no longer exists. If you're using dataframe.display(), use display(dataframe) instead.\")\n\n\nfinally:\n    spark.sql(\"drop view if exists DatabricksView47632f7\")\n    display = __backend_agg_display_orig\n    del __backend_agg_display_new\n    del __backend_agg_display_orig\n    del __backend_agg_dfs\n    del __backend_agg_user_code_fn\n\n",
       "commandTitle": "Visualization 1",
       "commandType": "auto",
       "commandVersion": 0,
       "commentThread": [],
       "commentsVisible": false,
       "contentSha256Hex": null,
       "customPlotOptions": {
        "redashChart": [
         {
          "key": "type",
          "value": "CHART"
         },
         {
          "key": "options",
          "value": {
           "alignYAxesAtZero": true,
           "coefficient": 1,
           "columnConfigurationMap": {
            "x": {
             "column": "Menu_Item",
             "id": "column_87e05d8c67"
            },
            "y": [
             {
              "column": "Total Paid for each Menu Item",
              "id": "column_87e05d8c71",
              "transform": "SUM"
             }
            ]
           },
           "dateTimeFormat": "DD/MM/YYYY HH:mm",
           "direction": {
            "type": "counterclockwise"
           },
           "error_y": {
            "type": "data",
            "visible": true
           },
           "globalSeriesType": "column",
           "isAggregationOn": true,
           "legend": {
            "traceorder": "normal"
           },
           "missingValuesAsZero": true,
           "numberFormat": "0,0[.]00000",
           "percentFormat": "0[.]00%",
           "series": {
            "error_y": {
             "type": "data",
             "visible": true
            },
            "percentValues": false,
            "stacking": null
           },
           "seriesOptions": {
            "column_87e05d8c69": {
             "type": "column",
             "yAxis": 0
            },
            "column_87e05d8c71": {
             "type": "column",
             "yAxis": 0
            }
           },
           "showDataLabels": false,
           "sizemode": "diameter",
           "sortX": true,
           "sortY": true,
           "swappedAxes": true,
           "textFormat": "",
           "useAggregationsUi": true,
           "valuesOptions": {},
           "version": 2,
           "xAxis": {
            "labels": {
             "enabled": true
            },
            "type": "-"
           },
           "yAxis": [
            {
             "type": "linear"
            },
            {
             "opposite": true,
             "type": "-"
            }
           ]
          }
         }
        ]
       },
       "datasetPreviewNameToCmdIdMap": {},
       "diffDeletes": [],
       "diffInserts": [],
       "displayType": "redashChart",
       "error": null,
       "errorSummary": null,
       "errorTraceType": null,
       "finishTime": 0,
       "globalVars": {},
       "guid": "",
       "height": "auto",
       "hideCommandCode": false,
       "hideCommandResult": false,
       "iPythonMetadata": null,
       "inputWidgets": {},
       "isLockedInExamMode": false,
       "latestUser": "a user",
       "latestUserId": null,
       "listResultMetadata": null,
       "metadata": {},
       "nuid": "aea9ec20-1d4c-41d7-8a5b-269e9e886011",
       "origId": 0,
       "parentHierarchy": [],
       "pivotAggregation": null,
       "pivotColumns": null,
       "position": 60.9375,
       "resultDbfsErrorMessage": null,
       "resultDbfsStatus": "INLINED_IN_TREE",
       "results": null,
       "showCommandTitle": false,
       "startTime": 0,
       "state": "input",
       "streamStates": {},
       "subcommandOptions": {
        "queryPlan": {
         "groups": [
          {
           "column": "Menu_Item",
           "type": "column"
          }
         ],
         "selects": [
          {
           "column": "Menu_Item",
           "type": "column"
          },
          {
           "alias": "column_87e05d8c71",
           "args": [
            {
             "column": "Total Paid for each Menu Item",
             "type": "column"
            }
           ],
           "function": "SUM",
           "type": "function"
          }
         ]
        }
       },
       "submitTime": 0,
       "subtype": "tableResultSubCmd.visualization",
       "tableResultIndex": 0,
       "useConsistentColors": false,
       "version": "CommandV1",
       "width": "auto",
       "workflows": [],
       "xColumns": null,
       "yColumns": null
      }
     },
     "output_type": "display_data"
    }
   ],
   "source": [
    "display(drinks_restaurant_1_joined)"
   ]
  },
  {
   "cell_type": "code",
   "execution_count": 0,
   "metadata": {
    "application/vnd.databricks.v1+cell": {
     "cellMetadata": {
      "byteLimit": 2048000,
      "rowLimit": 10000
     },
     "inputWidgets": {},
     "nuid": "1a78c14a-880a-4b7f-9544-87965289b24a",
     "showTitle": false,
     "title": ""
    }
   },
   "outputs": [
    {
     "output_type": "display_data",
     "data": {
      "text/html": [
       "<style scoped>\n",
       "  .table-result-container {\n",
       "    max-height: 300px;\n",
       "    overflow: auto;\n",
       "  }\n",
       "  table, th, td {\n",
       "    border: 1px solid black;\n",
       "    border-collapse: collapse;\n",
       "  }\n",
       "  th, td {\n",
       "    padding: 5px;\n",
       "  }\n",
       "  th {\n",
       "    text-align: left;\n",
       "  }\n",
       "</style><div class='table-result-container'><table class='table-result'><thead style='background-color: white'><tr><th>Menu_Item</th><th>Correct_Price</th><th>Menu_Item</th><th>Total Paid for each Menu Item</th></tr></thead><tbody><tr><td>House white wine 75cl</td><td>17.95</td><td>House white wine 75cl</td><td>1400.100000000002</td></tr><tr><td>COBRA ( LARGE )</td><td>5.5</td><td>COBRA ( LARGE )</td><td>533.5</td></tr><tr><td>Coke 1.5 ltr</td><td>2.95</td><td>Coke 1.5 ltr</td><td>767.0000000000025</td></tr><tr><td>Lemonade 1.5 ltr</td><td>2.95</td><td>Lemonade 1.5 ltr</td><td>318.59999999999934</td></tr><tr><td>Diet Coke 1.5 ltr</td><td>2.95</td><td>Diet Coke 1.5 ltr</td><td>171.0999999999999</td></tr><tr><td>House Red wine 75cl</td><td>17.95</td><td>House Red wine 75cl</td><td>394.89999999999986</td></tr><tr><td>Bottle Diet Coke</td><td>2.95</td><td>Bottle Diet Coke</td><td>188.79999999999987</td></tr><tr><td>COBRA (660ML)</td><td>5.5</td><td>COBRA (660ML)</td><td>2150.5</td></tr></tbody></table></div>"
      ]
     },
     "metadata": {
      "application/vnd.databricks.v1+output": {
       "addedWidgets": {},
       "aggData": [],
       "aggError": "",
       "aggOverflow": false,
       "aggSchema": [],
       "aggSeriesLimitReached": false,
       "aggType": "",
       "arguments": {},
       "columnCustomDisplayInfos": {},
       "data": [
        [
         "House white wine 75cl",
         17.95,
         "House white wine 75cl",
         1400.100000000002
        ],
        [
         "COBRA ( LARGE )",
         5.5,
         "COBRA ( LARGE )",
         533.5
        ],
        [
         "Coke 1.5 ltr",
         2.95,
         "Coke 1.5 ltr",
         767.0000000000025
        ],
        [
         "Lemonade 1.5 ltr",
         2.95,
         "Lemonade 1.5 ltr",
         318.59999999999934
        ],
        [
         "Diet Coke 1.5 ltr",
         2.95,
         "Diet Coke 1.5 ltr",
         171.0999999999999
        ],
        [
         "House Red wine 75cl",
         17.95,
         "House Red wine 75cl",
         394.89999999999986
        ],
        [
         "Bottle Diet Coke",
         2.95,
         "Bottle Diet Coke",
         188.79999999999987
        ],
        [
         "COBRA (660ML)",
         5.5,
         "COBRA (660ML)",
         2150.5
        ]
       ],
       "datasetInfos": [],
       "dbfsResultPath": null,
       "isJsonSchema": true,
       "metadata": {},
       "overflow": false,
       "plotOptions": {
        "customPlotOptions": {},
        "displayType": "table",
        "pivotAggregation": null,
        "pivotColumns": null,
        "xColumns": null,
        "yColumns": null
       },
       "removedWidgets": [],
       "schema": [
        {
         "metadata": "{}",
         "name": "Menu_Item",
         "type": "\"string\""
        },
        {
         "metadata": "{}",
         "name": "Correct_Price",
         "type": "\"double\""
        },
        {
         "metadata": "{}",
         "name": "Menu_Item",
         "type": "\"string\""
        },
        {
         "metadata": "{}",
         "name": "Total Paid for each Menu Item",
         "type": "\"double\""
        }
       ],
       "type": "table"
      }
     },
     "output_type": "display_data"
    },
    {
     "output_type": "display_data",
     "data": {
      "text/plain": [
       "Databricks visualization. Run in Databricks to view."
      ]
     },
     "metadata": {
      "application/vnd.databricks.v1.subcommand+json": {
       "bindings": {},
       "collapsed": false,
       "command": "%python\n__backend_agg_display_orig = display\n__backend_agg_dfs = []\ndef __backend_agg_display_new(df):\n    __backend_agg_df_modules = [\"pandas.core.frame\", \"databricks.koalas.frame\", \"pyspark.sql.dataframe\", \"pyspark.pandas.frame\", \"pyspark.sql.connect.dataframe\"]\n    if (type(df).__module__ in __backend_agg_df_modules and type(df).__name__ == 'DataFrame') or isinstance(df, list):\n        __backend_agg_dfs.append(df)\n\ndisplay = __backend_agg_display_new\n\ndef __backend_agg_user_code_fn():\n    import base64\n    exec(base64.standard_b64decode(\"ZGlzcGxheShkcmlua3NfcmVzdGF1cmFudF8yX2pvaW5lZCk=\").decode())\n\ntry:\n    # run user code\n    __backend_agg_user_code_fn()\n\n    #reset display function\n    display = __backend_agg_display_orig\n\n    if len(__backend_agg_dfs) > 0:\n        # create a temp view\n        if type(__backend_agg_dfs[0]).__module__ == \"databricks.koalas.frame\":\n            # koalas dataframe\n            __backend_agg_dfs[0].to_spark().createOrReplaceTempView(\"DatabricksView263f50e\")\n        elif type(__backend_agg_dfs[0]).__module__ == \"pandas.core.frame\" or isinstance(__backend_agg_dfs[0], list):\n            # pandas dataframe\n            spark.createDataFrame(__backend_agg_dfs[0]).createOrReplaceTempView(\"DatabricksView263f50e\")\n        else:\n            __backend_agg_dfs[0].createOrReplaceTempView(\"DatabricksView263f50e\")\n        #run backend agg\n        display(spark.sql(\"\"\"WITH q AS (select * from DatabricksView263f50e) SELECT `Menu_Item`,SUM(`Total Paid for each Menu Item`) `column_87e05d8c100` FROM q GROUP BY `Menu_Item`\"\"\"))\n    else:\n        displayHTML(\"dataframe no longer exists. If you're using dataframe.display(), use display(dataframe) instead.\")\n\n\nfinally:\n    spark.sql(\"drop view if exists DatabricksView263f50e\")\n    display = __backend_agg_display_orig\n    del __backend_agg_display_new\n    del __backend_agg_display_orig\n    del __backend_agg_dfs\n    del __backend_agg_user_code_fn\n\n",
       "commandTitle": "Visualization 1",
       "commandType": "auto",
       "commandVersion": 0,
       "commentThread": [],
       "commentsVisible": false,
       "contentSha256Hex": null,
       "customPlotOptions": {
        "redashChart": [
         {
          "key": "type",
          "value": "CHART"
         },
         {
          "key": "options",
          "value": {
           "alignYAxesAtZero": true,
           "coefficient": 1,
           "columnConfigurationMap": {
            "x": {
             "column": "Menu_Item",
             "id": "column_87e05d8c115"
            },
            "y": [
             {
              "column": "Total Paid for each Menu Item",
              "id": "column_87e05d8c117",
              "transform": "SUM"
             }
            ]
           },
           "dateTimeFormat": "DD/MM/YYYY HH:mm",
           "direction": {
            "type": "counterclockwise"
           },
           "error_y": {
            "type": "data",
            "visible": true
           },
           "globalSeriesType": "column",
           "isAggregationOn": true,
           "legend": {
            "traceorder": "normal"
           },
           "missingValuesAsZero": true,
           "numBins": 10,
           "numberFormat": "0,0[.]00000",
           "percentFormat": "0[.]00%",
           "series": {
            "error_y": {
             "type": "data",
             "visible": true
            },
            "stacking": null
           },
           "seriesOptions": {
            "column_87e05d8c100": {
             "type": "column",
             "yAxis": 0
            },
            "column_87e05d8c108": {
             "type": "column",
             "yAxis": 0
            },
            "column_87e05d8c117": {
             "color": "#002FB4",
             "type": "column",
             "yAxis": 0
            }
           },
           "showDataLabels": false,
           "sizemode": "diameter",
           "sortX": true,
           "sortY": true,
           "swappedAxes": true,
           "textFormat": "",
           "useAggregationsUi": true,
           "valuesOptions": {},
           "version": 2,
           "xAxis": {
            "labels": {
             "enabled": true
            },
            "type": "-"
           },
           "yAxis": [
            {
             "type": "-"
            },
            {
             "opposite": true,
             "type": "-"
            }
           ]
          }
         }
        ]
       },
       "datasetPreviewNameToCmdIdMap": {},
       "diffDeletes": [],
       "diffInserts": [],
       "displayType": "redashChart",
       "error": null,
       "errorSummary": null,
       "errorTraceType": null,
       "finishTime": 0,
       "globalVars": {},
       "guid": "",
       "height": "auto",
       "hideCommandCode": false,
       "hideCommandResult": false,
       "iPythonMetadata": null,
       "inputWidgets": {},
       "isLockedInExamMode": false,
       "latestUser": "a user",
       "latestUserId": null,
       "listResultMetadata": null,
       "metadata": {},
       "nuid": "70495997-2ccf-427f-b97a-3a3c7c3fda2c",
       "origId": 0,
       "parentHierarchy": [],
       "pivotAggregation": null,
       "pivotColumns": null,
       "position": 60.96875,
       "resultDbfsErrorMessage": null,
       "resultDbfsStatus": "INLINED_IN_TREE",
       "results": null,
       "showCommandTitle": false,
       "startTime": 0,
       "state": "input",
       "streamStates": {},
       "subcommandOptions": {
        "queryPlan": {
         "groups": [
          {
           "column": "Menu_Item",
           "type": "column"
          }
         ],
         "selects": [
          {
           "column": "Menu_Item",
           "type": "column"
          },
          {
           "alias": "column_87e05d8c117",
           "args": [
            {
             "column": "Total Paid for each Menu Item",
             "type": "column"
            }
           ],
           "function": "SUM",
           "type": "function"
          }
         ]
        }
       },
       "submitTime": 0,
       "subtype": "tableResultSubCmd.visualization",
       "tableResultIndex": 0,
       "useConsistentColors": false,
       "version": "CommandV1",
       "width": "auto",
       "workflows": [],
       "xColumns": null,
       "yColumns": null
      }
     },
     "output_type": "display_data"
    }
   ],
   "source": [
    "display(drinks_restaurant_2_joined)"
   ]
  },
  {
   "cell_type": "code",
   "execution_count": 0,
   "metadata": {
    "application/vnd.databricks.v1+cell": {
     "cellMetadata": {
      "byteLimit": 2048000,
      "rowLimit": 10000
     },
     "inputWidgets": {},
     "nuid": "819bba57-60f8-4d16-b9da-f84019144e3b",
     "showTitle": false,
     "title": ""
    }
   },
   "outputs": [
    {
     "output_type": "display_data",
     "data": {
      "text/html": [
       "<style scoped>\n",
       "  .table-result-container {\n",
       "    max-height: 300px;\n",
       "    overflow: auto;\n",
       "  }\n",
       "  table, th, td {\n",
       "    border: 1px solid black;\n",
       "    border-collapse: collapse;\n",
       "  }\n",
       "  th, td {\n",
       "    padding: 5px;\n",
       "  }\n",
       "  th {\n",
       "    text-align: left;\n",
       "  }\n",
       "</style><div class='table-result-container'><table class='table-result'><thead style='background-color: white'><tr><th>Menu_Item</th><th>Correct_Price</th><th>Menu_Item</th><th>Total Paid for each Menu Item</th></tr></thead><tbody><tr><td>Bengal Fish Karahi</td><td>12.95</td><td>Bengal Fish Karahi</td><td>233.1</td></tr><tr><td>Dupiaza - Lamb</td><td>8.95</td><td>Dupiaza - Lamb</td><td>331.1499999999999</td></tr><tr><td>Lamb Tikka Balti</td><td>10.95</td><td>Lamb Tikka Balti</td><td>744.5999999999996</td></tr><tr><td>Vegetable Biryani</td><td>9.95</td><td>Vegetable Biryani</td><td>3631.7500000000095</td></tr><tr><td>Bhuna - Chicken</td><td>8.95</td><td>Bhuna - Chicken</td><td>1888.450000000003</td></tr><tr><td>Dhansak</td><td>8.95</td><td>Dhansak</td><td>3463.650000000011</td></tr><tr><td>Vindaloo</td><td>7.95</td><td>Vindaloo</td><td>2218.0500000000047</td></tr><tr><td>Korma - King Prawn</td><td>12.95</td><td>Korma - King Prawn</td><td>259.0</td></tr><tr><td>Saag - Prawn</td><td>9.95</td><td>Saag - Prawn</td><td>99.5</td></tr><tr><td>Dupiaza</td><td>8.95</td><td>Dupiaza</td><td>1691.550000000002</td></tr><tr><td>Chicken Biryani</td><td>9.95</td><td>Chicken Biryani</td><td>7671.449999999962</td></tr><tr><td>Lamb Tikka (Main)</td><td>8.95</td><td>Lamb Tikka (Main)</td><td>1360.4000000000008</td></tr><tr><td>Korma - Chicken Tikka</td><td>8.95</td><td>Korma - Chicken Tikka</td><td>545.9499999999997</td></tr><tr><td>Paneer Tikka Sizzler</td><td>9.95</td><td>Paneer Tikka Sizzler</td><td>666.6499999999996</td></tr><tr><td>Tandoori Chicken</td><td>8.95</td><td>Tandoori Chicken</td><td>8.95</td></tr><tr><td>Paneer Tikka Karahi</td><td>9.95</td><td>Paneer Tikka Karahi</td><td>1024.8499999999997</td></tr><tr><td>King Prawn Biryani</td><td>12.95</td><td>King Prawn Biryani</td><td>841.7499999999995</td></tr><tr><td>Saag - Lamb</td><td>8.95</td><td>Saag - Lamb</td><td>689.1499999999996</td></tr><tr><td>Korma</td><td>8.95</td><td>Korma</td><td>12046.69999999988</td></tr><tr><td>Pathia - Lamb</td><td>8.95</td><td>Pathia - Lamb</td><td>196.90000000000003</td></tr><tr><td>Dupiaza - Prawn</td><td>9.95</td><td>Dupiaza - Prawn</td><td>129.35</td></tr><tr><td>Tandoori Chicken (Main)</td><td>8.95</td><td>Tandoori Chicken (Main)</td><td>3615.800000000011</td></tr><tr><td>Chicken Tikka Masala</td><td>8.95</td><td>Chicken Tikka Masala</td><td>22133.350000000122</td></tr><tr><td>Rogon</td><td>8.95</td><td>Rogon</td><td>1646.8000000000015</td></tr><tr><td>Bhuna - Lamb</td><td>8.95</td><td>Bhuna - Lamb</td><td>1091.8999999999999</td></tr><tr><td>Bengal King Prawn</td><td>12.95</td><td>Bengal King Prawn</td><td>1411.5500000000006</td></tr><tr><td>Curry</td><td>7.95</td><td>Curry</td><td>4905.15</td></tr><tr><td>Tandoori Chicken Masala</td><td>8.95</td><td>Tandoori Chicken Masala</td><td>1897.4000000000033</td></tr><tr><td>Saag - King Prawn</td><td>12.95</td><td>Saag - King Prawn</td><td>271.95</td></tr><tr><td>Chicken Tikka Jalfrezi</td><td>8.95</td><td>Chicken Tikka Jalfrezi</td><td>4304.950000000004</td></tr><tr><td>Chicken Tikka Karahi</td><td>9.95</td><td>Chicken Tikka Karahi</td><td>1164.1499999999999</td></tr><tr><td>Pathia</td><td>8.95</td><td>Pathia</td><td>1593.100000000002</td></tr><tr><td>Rogon - Lamb</td><td>8.95</td><td>Rogon - Lamb</td><td>778.6499999999994</td></tr><tr><td>Chicken Hari Mirch</td><td>9.95</td><td>Chicken Hari Mirch</td><td>1283.5500000000004</td></tr><tr><td>Chicken Shashlick Curry</td><td>12.95</td><td>Chicken Shashlick Curry</td><td>1825.9500000000019</td></tr><tr><td>Kurma</td><td>12.95</td><td>Kurma</td><td>12.95</td></tr><tr><td>Bengal Fish Biryani</td><td>12.95</td><td>Bengal Fish Biryani</td><td>582.7499999999998</td></tr><tr><td>Chicken Balti</td><td>9.95</td><td>Chicken Balti</td><td>3850.6500000000106</td></tr><tr><td>Mushroom</td><td>8.95</td><td>Mushroom</td><td>313.24999999999994</td></tr><tr><td>Madras - King Prawn</td><td>11.95</td><td>Madras - King Prawn</td><td>430.1999999999999</td></tr><tr><td>Tandoori Fish (Main)</td><td>11.95</td><td>Tandoori Fish (Main)</td><td>788.6999999999996</td></tr><tr><td>Pathia - Chicken Tikka</td><td>8.95</td><td>Pathia - Chicken Tikka</td><td>304.29999999999995</td></tr><tr><td>Chicken Tikka Pasanda</td><td>8.95</td><td>Chicken Tikka Pasanda</td><td>1995.8500000000035</td></tr><tr><td>Dhansak - Chicken Tikka</td><td>8.95</td><td>Dhansak - Chicken Tikka</td><td>635.4499999999996</td></tr><tr><td>Lamb Balti</td><td>9.95</td><td>Lamb Balti</td><td>1870.6000000000029</td></tr><tr><td>Korma - Lamb</td><td>8.95</td><td>Korma - Lamb</td><td>519.0999999999998</td></tr><tr><td>Rogon - Chicken</td><td>8.95</td><td>Rogon - Chicken</td><td>438.54999999999984</td></tr><tr><td>Saag - Chicken</td><td>8.95</td><td>Saag - Chicken</td><td>805.4999999999993</td></tr><tr><td>Lamb Sylhet</td><td>9.95</td><td>Lamb Sylhet</td><td>427.84999999999985</td></tr><tr><td>Methi - Chicken</td><td>8.95</td><td>Methi - Chicken</td><td>152.15000000000003</td></tr><tr><td>Pathia - Chicken</td><td>8.95</td><td>Pathia - Chicken</td><td>635.4499999999996</td></tr><tr><td>Curry - Chicken</td><td>7.95</td><td>Curry - Chicken</td><td>3633.1500000000106</td></tr><tr><td>Chicken Tikka Chilli Masala</td><td>8.95</td><td>Chicken Tikka Chilli Masala</td><td>3016.150000000008</td></tr><tr><td>Persian Lamb Biryani</td><td>10.95</td><td>Persian Lamb Biryani</td><td>525.5999999999998</td></tr><tr><td>Dhansak - Prawn</td><td>9.95</td><td>Dhansak - Prawn</td><td>189.05</td></tr><tr><td>Pathia - Prawn</td><td>9.95</td><td>Pathia - Prawn</td><td>59.699999999999996</td></tr><tr><td>Methi</td><td>8.95</td><td>Methi</td><td>411.6999999999999</td></tr><tr><td>Curry - King Prawn</td><td>11.95</td><td>Curry - King Prawn</td><td>167.3</td></tr><tr><td>Paneer Tikka Masala</td><td>8.95</td><td>Paneer Tikka Masala</td><td>2309.1000000000045</td></tr><tr><td>Vindaloo - Lamb</td><td>7.95</td><td>Vindaloo - Lamb</td><td>437.24999999999983</td></tr><tr><td>Vegetable Balti</td><td>9.95</td><td>Vegetable Balti</td><td>736.2999999999997</td></tr><tr><td>Vindaloo - Chicken Tikka</td><td>7.95</td><td>Vindaloo - Chicken Tikka</td><td>135.15000000000003</td></tr><tr><td>Lamb Shashlick</td><td>9.95</td><td>Lamb Shashlick</td><td>845.7499999999995</td></tr><tr><td>Chicken Rezala</td><td>9.95</td><td>Chicken Rezala</td><td>855.6999999999994</td></tr><tr><td>Mushroom - Lamb</td><td>8.95</td><td>Mushroom - Lamb</td><td>62.64999999999999</td></tr><tr><td>Dhansak - Lamb</td><td>8.95</td><td>Dhansak - Lamb</td><td>563.8499999999998</td></tr><tr><td>Pathia - King Prawn</td><td>12.95</td><td>Pathia - King Prawn</td><td>103.6</td></tr><tr><td>Rogon - Prawn</td><td>9.95</td><td>Rogon - Prawn</td><td>19.9</td></tr><tr><td>Methi - Lamb</td><td>8.95</td><td>Methi - Lamb</td><td>134.25</td></tr><tr><td>Lamb Achar</td><td>9.95</td><td>Lamb Achar</td><td>248.75000000000006</td></tr><tr><td>Paneer Tikka Balti</td><td>10.95</td><td>Paneer Tikka Balti</td><td>996.4499999999994</td></tr><tr><td>Bhuna</td><td>8.95</td><td>Bhuna</td><td>4636.100000000002</td></tr><tr><td>Dupiaza - Chicken Tikka</td><td>8.95</td><td>Dupiaza - Chicken Tikka</td><td>232.70000000000005</td></tr><tr><td>Mushroom - Chicken</td><td>8.95</td><td>Mushroom - Chicken</td><td>161.10000000000002</td></tr><tr><td>Chicken Tikka (Main)</td><td>8.95</td><td>Chicken Tikka (Main)</td><td>8099.749999999947</td></tr><tr><td>Madras - Prawn</td><td>8.95</td><td>Madras - Prawn</td><td>179.00000000000003</td></tr><tr><td>Dupiaza - King Prawn</td><td>12.95</td><td>Dupiaza - King Prawn</td><td>129.5</td></tr><tr><td>Lamb Roshni</td><td>9.95</td><td>Lamb Roshni</td><td>288.54999999999995</td></tr><tr><td>Korma - Prawn</td><td>9.95</td><td>Korma - Prawn</td><td>248.75</td></tr><tr><td>Lamb Tikka Biryani</td><td>10.95</td><td>Lamb Tikka Biryani</td><td>1762.9500000000014</td></tr><tr><td>Tandoori Mixed Grill</td><td>11.95</td><td>Tandoori Mixed Grill</td><td>8544.249999999953</td></tr><tr><td>Hazary Lamb Chilli Garlic</td><td>12.95</td><td>Hazary Lamb Chilli Garlic</td><td>841.7499999999995</td></tr><tr><td>Lamb Mysore</td><td>9.95</td><td>Lamb Mysore</td><td>686.5499999999995</td></tr><tr><td>Saag</td><td>8.95</td><td>Saag</td><td>2058.500000000004</td></tr><tr><td>Tandoori King Prawn Masala</td><td>12.95</td><td>Tandoori King Prawn Masala</td><td>1269.1</td></tr><tr><td>Madras - Chicken</td><td>7.95</td><td>Madras - Chicken</td><td>4030.65000000001</td></tr><tr><td>Lamb Tikka Pasanda</td><td>8.95</td><td>Lamb Tikka Pasanda</td><td>841.2999999999994</td></tr><tr><td>Prawn Biryani</td><td>10.95</td><td>Prawn Biryani</td><td>908.8499999999995</td></tr><tr><td>Tandoori King Prawn Garlic</td><td>12.95</td><td>Tandoori King Prawn Garlic</td><td>1605.8000000000013</td></tr><tr><td>Vindaloo - Prawn</td><td>8.95</td><td>Vindaloo - Prawn</td><td>89.5</td></tr><tr><td>Prawn Karahi</td><td>9.95</td><td>Prawn Karahi</td><td>606.9499999999996</td></tr><tr><td>Bhuna - Prawn</td><td>9.95</td><td>Bhuna - Prawn</td><td>258.7</td></tr><tr><td>Dhansak - Chicken</td><td>8.95</td><td>Dhansak - Chicken</td><td>1745.2500000000027</td></tr><tr><td>Chicken Roshni</td><td>9.95</td><td>Chicken Roshni</td><td>567.1499999999996</td></tr><tr><td>King Prawn Hari Mirch</td><td>12.95</td><td>King Prawn Hari Mirch</td><td>945.3499999999995</td></tr><tr><td>King Prawn Shaslick</td><td>12.95</td><td>King Prawn Shaslick</td><td>2771.300000000005</td></tr><tr><td>King Prawn Karahi</td><td>12.95</td><td>King Prawn Karahi</td><td>388.4999999999999</td></tr><tr><td>Dhansak - King Prawn</td><td>12.95</td><td>Dhansak - King Prawn</td><td>323.74999999999994</td></tr><tr><td>Lamb Tikka Jalfrezi</td><td>8.95</td><td>Lamb Tikka Jalfrezi</td><td>1199.3000000000002</td></tr><tr><td>Vindaloo - Chicken</td><td>7.95</td><td>Vindaloo - Chicken</td><td>1279.9500000000003</td></tr><tr><td>Lamb Shashlick Curry</td><td>12.95</td><td>Lamb Shashlick Curry</td><td>828.7999999999995</td></tr><tr><td>Chicken Tikka Balti</td><td>10.95</td><td>Chicken Tikka Balti</td><td>3153.6000000000076</td></tr><tr><td>Madras - Lamb</td><td>7.95</td><td>Madras - Lamb</td><td>1279.9500000000005</td></tr><tr><td>Persian Chicken Biryani</td><td>10.95</td><td>Persian Chicken Biryani</td><td>1073.1000000000001</td></tr><tr><td>Curry - Chicken Tikka</td><td>7.95</td><td>Curry - Chicken Tikka</td><td>572.3999999999997</td></tr><tr><td>Lamb Haryali</td><td>9.95</td><td>Lamb Haryali</td><td>646.7499999999995</td></tr><tr><td>Chicken Sylhet</td><td>9.95</td><td>Chicken Sylhet</td><td>527.3499999999997</td></tr><tr><td>Paneer Shaslick</td><td>9.95</td><td>Paneer Shaslick</td><td>1233.8</td></tr><tr><td>Dupiaza - Chicken</td><td>8.95</td><td>Dupiaza - Chicken</td><td>2094.300000000003</td></tr><tr><td>Saag - Chicken Tikka</td><td>8.95</td><td>Saag - Chicken Tikka</td><td>232.70000000000005</td></tr><tr><td>Lamb Tikka Karahi</td><td>9.95</td><td>Lamb Tikka Karahi</td><td>517.3999999999997</td></tr><tr><td>Korma - Chicken</td><td>8.95</td><td>Korma - Chicken</td><td>9764.449999999928</td></tr><tr><td>Bengal Fry Fish</td><td>12.95</td><td>Bengal Fry Fish</td><td>297.84999999999997</td></tr><tr><td>Chicken Achar</td><td>9.95</td><td>Chicken Achar</td><td>368.1499999999999</td></tr><tr><td>Vindaloo - King Prawn</td><td>11.95</td><td>Vindaloo - King Prawn</td><td>274.85</td></tr><tr><td>Butter Chicken</td><td>9.95</td><td>Butter Chicken</td><td>10626.59999999991</td></tr><tr><td>Chicken Haryali</td><td>9.95</td><td>Chicken Haryali</td><td>716.3999999999996</td></tr><tr><td>Vegetable Karahi</td><td>8.95</td><td>Vegetable Karahi</td><td>644.3999999999996</td></tr><tr><td>Lamb Tikka Jeera</td><td>8.95</td><td>Lamb Tikka Jeera</td><td>116.35000000000001</td></tr><tr><td>Curry - Lamb</td><td>7.95</td><td>Curry - Lamb</td><td>1303.8000000000006</td></tr><tr><td>Bhuna - Chicken Tikka</td><td>8.95</td><td>Bhuna - Chicken Tikka</td><td>1261.9499999999998</td></tr><tr><td>Lamb Tikka Sizzler</td><td>9.95</td><td>Lamb Tikka Sizzler</td><td>228.85</td></tr><tr><td>Mushroom - King Prawn</td><td>12.95</td><td>Mushroom - King Prawn</td><td>51.8</td></tr><tr><td>Lamb Tikka Masala</td><td>8.95</td><td>Lamb Tikka Masala</td><td>1655.7500000000023</td></tr><tr><td>Prawn Balti</td><td>10.95</td><td>Prawn Balti</td><td>405.14999999999986</td></tr><tr><td>Lamb Hari Mirch</td><td>9.95</td><td>Lamb Hari Mirch</td><td>626.8499999999997</td></tr><tr><td>Bhuna - King Prawn</td><td>12.95</td><td>Bhuna - King Prawn</td><td>246.05</td></tr><tr><td>Lal Mirch Chicken</td><td>9.95</td><td>Lal Mirch Chicken</td><td>925.3499999999995</td></tr><tr><td>Chicken Chilli Garlic</td><td>9.95</td><td>Chicken Chilli Garlic</td><td>1781.0500000000025</td></tr><tr><td>Sheek Kebab (Main)</td><td>8.95</td><td>Sheek Kebab (Main)</td><td>1369.3500000000004</td></tr><tr><td>Lamb Karahi</td><td>8.95</td><td>Lamb Karahi</td><td>1369.3500000000008</td></tr><tr><td>Chicken Tikka Biryani</td><td>10.95</td><td>Chicken Tikka Biryani</td><td>5474.999999999993</td></tr><tr><td>Rogon - King Prawn</td><td>12.95</td><td>Rogon - King Prawn</td><td>64.75</td></tr><tr><td>Lamb Biryani</td><td>9.95</td><td>Lamb Biryani</td><td>5989.899999999988</td></tr><tr><td>Chicken Karahi</td><td>8.95</td><td>Chicken Karahi</td><td>2013.7500000000036</td></tr><tr><td>Lamb Tikka Chilli Masala</td><td>8.95</td><td>Lamb Tikka Chilli Masala</td><td>769.6999999999995</td></tr><tr><td>Hazary Lamb</td><td>12.95</td><td>Hazary Lamb</td><td>1515.1500000000008</td></tr><tr><td>Madras</td><td>7.95</td><td>Madras</td><td>6662.099999999964</td></tr><tr><td>Chicken Tikka Jeera</td><td>8.95</td><td>Chicken Tikka Jeera</td><td>331.15</td></tr><tr><td>Lamb Chilli Garlic</td><td>9.95</td><td>Lamb Chilli Garlic</td><td>666.6499999999996</td></tr><tr><td>Lamb Tikka Garlic</td><td>8.95</td><td>Lamb Tikka Garlic</td><td>357.9999999999999</td></tr><tr><td>Chicken Tikka Sizzler</td><td>9.95</td><td>Chicken Tikka Sizzler</td><td>1373.1000000000004</td></tr><tr><td>Mushroom - Chicken Tikka</td><td>8.95</td><td>Mushroom - Chicken Tikka</td><td>80.54999999999998</td></tr><tr><td>Chicken Tikka Garlic</td><td>8.95</td><td>Chicken Tikka Garlic</td><td>1834.7500000000027</td></tr><tr><td>Lamb Rezala</td><td>9.95</td><td>Lamb Rezala</td><td>587.0499999999997</td></tr><tr><td>King Prawn Balti</td><td>12.95</td><td>King Prawn Balti</td><td>284.9</td></tr><tr><td>Lal Mirch Lamb</td><td>9.95</td><td>Lal Mirch Lamb</td><td>646.7499999999997</td></tr><tr><td>Chicken Shashlick</td><td>9.95</td><td>Chicken Shashlick</td><td>3721.3000000000075</td></tr><tr><td>Madras - Chicken Tikka</td><td>7.95</td><td>Madras - Chicken Tikka</td><td>818.8499999999992</td></tr><tr><td>Curry - Prawn</td><td>8.95</td><td>Curry - Prawn</td><td>429.5999999999999</td></tr><tr><td>Rogon - Chicken Tikka</td><td>8.95</td><td>Rogon - Chicken Tikka</td><td>98.45</td></tr><tr><td>Chicken Mysore</td><td>9.95</td><td>Chicken Mysore</td><td>935.2999999999993</td></tr><tr><td>Methi - Chicken Tikka</td><td>8.95</td><td>Methi - Chicken Tikka</td><td>44.75</td></tr><tr><td>Chicken Chaat Main</td><td>7.9</td><td>Chicken Chaat Main</td><td>7.9</td></tr><tr><td>Methi - Prawn</td><td>9.95</td><td>Methi - Prawn</td><td>19.9</td></tr><tr><td>Methi - King Prawn</td><td>12.95</td><td>Methi - King Prawn</td><td>25.9</td></tr><tr><td>Mushroom - Prawn</td><td>9.95</td><td>Mushroom - Prawn</td><td>9.95</td></tr><tr><td>Lamb Persian</td><td>10.95</td><td>Lamb Persian</td><td>10.95</td></tr></tbody></table></div>"
      ]
     },
     "metadata": {
      "application/vnd.databricks.v1+output": {
       "addedWidgets": {},
       "aggData": [],
       "aggError": "",
       "aggOverflow": false,
       "aggSchema": [],
       "aggSeriesLimitReached": false,
       "aggType": "",
       "arguments": {},
       "columnCustomDisplayInfos": {},
       "data": [
        [
         "Bengal Fish Karahi",
         12.95,
         "Bengal Fish Karahi",
         233.1
        ],
        [
         "Dupiaza - Lamb",
         8.95,
         "Dupiaza - Lamb",
         331.1499999999999
        ],
        [
         "Lamb Tikka Balti",
         10.95,
         "Lamb Tikka Balti",
         744.5999999999996
        ],
        [
         "Vegetable Biryani",
         9.95,
         "Vegetable Biryani",
         3631.7500000000095
        ],
        [
         "Bhuna - Chicken",
         8.95,
         "Bhuna - Chicken",
         1888.450000000003
        ],
        [
         "Dhansak",
         8.95,
         "Dhansak",
         3463.650000000011
        ],
        [
         "Vindaloo",
         7.95,
         "Vindaloo",
         2218.0500000000047
        ],
        [
         "Korma - King Prawn",
         12.95,
         "Korma - King Prawn",
         259.0
        ],
        [
         "Saag - Prawn",
         9.95,
         "Saag - Prawn",
         99.5
        ],
        [
         "Dupiaza",
         8.95,
         "Dupiaza",
         1691.550000000002
        ],
        [
         "Chicken Biryani",
         9.95,
         "Chicken Biryani",
         7671.449999999962
        ],
        [
         "Lamb Tikka (Main)",
         8.95,
         "Lamb Tikka (Main)",
         1360.4000000000008
        ],
        [
         "Korma - Chicken Tikka",
         8.95,
         "Korma - Chicken Tikka",
         545.9499999999997
        ],
        [
         "Paneer Tikka Sizzler",
         9.95,
         "Paneer Tikka Sizzler",
         666.6499999999996
        ],
        [
         "Tandoori Chicken",
         8.95,
         "Tandoori Chicken",
         8.95
        ],
        [
         "Paneer Tikka Karahi",
         9.95,
         "Paneer Tikka Karahi",
         1024.8499999999997
        ],
        [
         "King Prawn Biryani",
         12.95,
         "King Prawn Biryani",
         841.7499999999995
        ],
        [
         "Saag - Lamb",
         8.95,
         "Saag - Lamb",
         689.1499999999996
        ],
        [
         "Korma",
         8.95,
         "Korma",
         12046.69999999988
        ],
        [
         "Pathia - Lamb",
         8.95,
         "Pathia - Lamb",
         196.90000000000003
        ],
        [
         "Dupiaza - Prawn",
         9.95,
         "Dupiaza - Prawn",
         129.35
        ],
        [
         "Tandoori Chicken (Main)",
         8.95,
         "Tandoori Chicken (Main)",
         3615.800000000011
        ],
        [
         "Chicken Tikka Masala",
         8.95,
         "Chicken Tikka Masala",
         22133.350000000122
        ],
        [
         "Rogon",
         8.95,
         "Rogon",
         1646.8000000000015
        ],
        [
         "Bhuna - Lamb",
         8.95,
         "Bhuna - Lamb",
         1091.8999999999999
        ],
        [
         "Bengal King Prawn",
         12.95,
         "Bengal King Prawn",
         1411.5500000000006
        ],
        [
         "Curry",
         7.95,
         "Curry",
         4905.15
        ],
        [
         "Tandoori Chicken Masala",
         8.95,
         "Tandoori Chicken Masala",
         1897.4000000000033
        ],
        [
         "Saag - King Prawn",
         12.95,
         "Saag - King Prawn",
         271.95
        ],
        [
         "Chicken Tikka Jalfrezi",
         8.95,
         "Chicken Tikka Jalfrezi",
         4304.950000000004
        ],
        [
         "Chicken Tikka Karahi",
         9.95,
         "Chicken Tikka Karahi",
         1164.1499999999999
        ],
        [
         "Pathia",
         8.95,
         "Pathia",
         1593.100000000002
        ],
        [
         "Rogon - Lamb",
         8.95,
         "Rogon - Lamb",
         778.6499999999994
        ],
        [
         "Chicken Hari Mirch",
         9.95,
         "Chicken Hari Mirch",
         1283.5500000000004
        ],
        [
         "Chicken Shashlick Curry",
         12.95,
         "Chicken Shashlick Curry",
         1825.9500000000019
        ],
        [
         "Kurma",
         12.95,
         "Kurma",
         12.95
        ],
        [
         "Bengal Fish Biryani",
         12.95,
         "Bengal Fish Biryani",
         582.7499999999998
        ],
        [
         "Chicken Balti",
         9.95,
         "Chicken Balti",
         3850.6500000000106
        ],
        [
         "Mushroom",
         8.95,
         "Mushroom",
         313.24999999999994
        ],
        [
         "Madras - King Prawn",
         11.95,
         "Madras - King Prawn",
         430.1999999999999
        ],
        [
         "Tandoori Fish (Main)",
         11.95,
         "Tandoori Fish (Main)",
         788.6999999999996
        ],
        [
         "Pathia - Chicken Tikka",
         8.95,
         "Pathia - Chicken Tikka",
         304.29999999999995
        ],
        [
         "Chicken Tikka Pasanda",
         8.95,
         "Chicken Tikka Pasanda",
         1995.8500000000035
        ],
        [
         "Dhansak - Chicken Tikka",
         8.95,
         "Dhansak - Chicken Tikka",
         635.4499999999996
        ],
        [
         "Lamb Balti",
         9.95,
         "Lamb Balti",
         1870.6000000000029
        ],
        [
         "Korma - Lamb",
         8.95,
         "Korma - Lamb",
         519.0999999999998
        ],
        [
         "Rogon - Chicken",
         8.95,
         "Rogon - Chicken",
         438.54999999999984
        ],
        [
         "Saag - Chicken",
         8.95,
         "Saag - Chicken",
         805.4999999999993
        ],
        [
         "Lamb Sylhet",
         9.95,
         "Lamb Sylhet",
         427.84999999999985
        ],
        [
         "Methi - Chicken",
         8.95,
         "Methi - Chicken",
         152.15000000000003
        ],
        [
         "Pathia - Chicken",
         8.95,
         "Pathia - Chicken",
         635.4499999999996
        ],
        [
         "Curry - Chicken",
         7.95,
         "Curry - Chicken",
         3633.1500000000106
        ],
        [
         "Chicken Tikka Chilli Masala",
         8.95,
         "Chicken Tikka Chilli Masala",
         3016.150000000008
        ],
        [
         "Persian Lamb Biryani",
         10.95,
         "Persian Lamb Biryani",
         525.5999999999998
        ],
        [
         "Dhansak - Prawn",
         9.95,
         "Dhansak - Prawn",
         189.05
        ],
        [
         "Pathia - Prawn",
         9.95,
         "Pathia - Prawn",
         59.699999999999996
        ],
        [
         "Methi",
         8.95,
         "Methi",
         411.6999999999999
        ],
        [
         "Curry - King Prawn",
         11.95,
         "Curry - King Prawn",
         167.3
        ],
        [
         "Paneer Tikka Masala",
         8.95,
         "Paneer Tikka Masala",
         2309.1000000000045
        ],
        [
         "Vindaloo - Lamb",
         7.95,
         "Vindaloo - Lamb",
         437.24999999999983
        ],
        [
         "Vegetable Balti",
         9.95,
         "Vegetable Balti",
         736.2999999999997
        ],
        [
         "Vindaloo - Chicken Tikka",
         7.95,
         "Vindaloo - Chicken Tikka",
         135.15000000000003
        ],
        [
         "Lamb Shashlick",
         9.95,
         "Lamb Shashlick",
         845.7499999999995
        ],
        [
         "Chicken Rezala",
         9.95,
         "Chicken Rezala",
         855.6999999999994
        ],
        [
         "Mushroom - Lamb",
         8.95,
         "Mushroom - Lamb",
         62.64999999999999
        ],
        [
         "Dhansak - Lamb",
         8.95,
         "Dhansak - Lamb",
         563.8499999999998
        ],
        [
         "Pathia - King Prawn",
         12.95,
         "Pathia - King Prawn",
         103.6
        ],
        [
         "Rogon - Prawn",
         9.95,
         "Rogon - Prawn",
         19.9
        ],
        [
         "Methi - Lamb",
         8.95,
         "Methi - Lamb",
         134.25
        ],
        [
         "Lamb Achar",
         9.95,
         "Lamb Achar",
         248.75000000000006
        ],
        [
         "Paneer Tikka Balti",
         10.95,
         "Paneer Tikka Balti",
         996.4499999999994
        ],
        [
         "Bhuna",
         8.95,
         "Bhuna",
         4636.100000000002
        ],
        [
         "Dupiaza - Chicken Tikka",
         8.95,
         "Dupiaza - Chicken Tikka",
         232.70000000000005
        ],
        [
         "Mushroom - Chicken",
         8.95,
         "Mushroom - Chicken",
         161.10000000000002
        ],
        [
         "Chicken Tikka (Main)",
         8.95,
         "Chicken Tikka (Main)",
         8099.749999999947
        ],
        [
         "Madras - Prawn",
         8.95,
         "Madras - Prawn",
         179.00000000000003
        ],
        [
         "Dupiaza - King Prawn",
         12.95,
         "Dupiaza - King Prawn",
         129.5
        ],
        [
         "Lamb Roshni",
         9.95,
         "Lamb Roshni",
         288.54999999999995
        ],
        [
         "Korma - Prawn",
         9.95,
         "Korma - Prawn",
         248.75
        ],
        [
         "Lamb Tikka Biryani",
         10.95,
         "Lamb Tikka Biryani",
         1762.9500000000014
        ],
        [
         "Tandoori Mixed Grill",
         11.95,
         "Tandoori Mixed Grill",
         8544.249999999953
        ],
        [
         "Hazary Lamb Chilli Garlic",
         12.95,
         "Hazary Lamb Chilli Garlic",
         841.7499999999995
        ],
        [
         "Lamb Mysore",
         9.95,
         "Lamb Mysore",
         686.5499999999995
        ],
        [
         "Saag",
         8.95,
         "Saag",
         2058.500000000004
        ],
        [
         "Tandoori King Prawn Masala",
         12.95,
         "Tandoori King Prawn Masala",
         1269.1
        ],
        [
         "Madras - Chicken",
         7.95,
         "Madras - Chicken",
         4030.65000000001
        ],
        [
         "Lamb Tikka Pasanda",
         8.95,
         "Lamb Tikka Pasanda",
         841.2999999999994
        ],
        [
         "Prawn Biryani",
         10.95,
         "Prawn Biryani",
         908.8499999999995
        ],
        [
         "Tandoori King Prawn Garlic",
         12.95,
         "Tandoori King Prawn Garlic",
         1605.8000000000013
        ],
        [
         "Vindaloo - Prawn",
         8.95,
         "Vindaloo - Prawn",
         89.5
        ],
        [
         "Prawn Karahi",
         9.95,
         "Prawn Karahi",
         606.9499999999996
        ],
        [
         "Bhuna - Prawn",
         9.95,
         "Bhuna - Prawn",
         258.7
        ],
        [
         "Dhansak - Chicken",
         8.95,
         "Dhansak - Chicken",
         1745.2500000000027
        ],
        [
         "Chicken Roshni",
         9.95,
         "Chicken Roshni",
         567.1499999999996
        ],
        [
         "King Prawn Hari Mirch",
         12.95,
         "King Prawn Hari Mirch",
         945.3499999999995
        ],
        [
         "King Prawn Shaslick",
         12.95,
         "King Prawn Shaslick",
         2771.300000000005
        ],
        [
         "King Prawn Karahi",
         12.95,
         "King Prawn Karahi",
         388.4999999999999
        ],
        [
         "Dhansak - King Prawn",
         12.95,
         "Dhansak - King Prawn",
         323.74999999999994
        ],
        [
         "Lamb Tikka Jalfrezi",
         8.95,
         "Lamb Tikka Jalfrezi",
         1199.3000000000002
        ],
        [
         "Vindaloo - Chicken",
         7.95,
         "Vindaloo - Chicken",
         1279.9500000000003
        ],
        [
         "Lamb Shashlick Curry",
         12.95,
         "Lamb Shashlick Curry",
         828.7999999999995
        ],
        [
         "Chicken Tikka Balti",
         10.95,
         "Chicken Tikka Balti",
         3153.6000000000076
        ],
        [
         "Madras - Lamb",
         7.95,
         "Madras - Lamb",
         1279.9500000000005
        ],
        [
         "Persian Chicken Biryani",
         10.95,
         "Persian Chicken Biryani",
         1073.1000000000001
        ],
        [
         "Curry - Chicken Tikka",
         7.95,
         "Curry - Chicken Tikka",
         572.3999999999997
        ],
        [
         "Lamb Haryali",
         9.95,
         "Lamb Haryali",
         646.7499999999995
        ],
        [
         "Chicken Sylhet",
         9.95,
         "Chicken Sylhet",
         527.3499999999997
        ],
        [
         "Paneer Shaslick",
         9.95,
         "Paneer Shaslick",
         1233.8
        ],
        [
         "Dupiaza - Chicken",
         8.95,
         "Dupiaza - Chicken",
         2094.300000000003
        ],
        [
         "Saag - Chicken Tikka",
         8.95,
         "Saag - Chicken Tikka",
         232.70000000000005
        ],
        [
         "Lamb Tikka Karahi",
         9.95,
         "Lamb Tikka Karahi",
         517.3999999999997
        ],
        [
         "Korma - Chicken",
         8.95,
         "Korma - Chicken",
         9764.449999999928
        ],
        [
         "Bengal Fry Fish",
         12.95,
         "Bengal Fry Fish",
         297.84999999999997
        ],
        [
         "Chicken Achar",
         9.95,
         "Chicken Achar",
         368.1499999999999
        ],
        [
         "Vindaloo - King Prawn",
         11.95,
         "Vindaloo - King Prawn",
         274.85
        ],
        [
         "Butter Chicken",
         9.95,
         "Butter Chicken",
         10626.59999999991
        ],
        [
         "Chicken Haryali",
         9.95,
         "Chicken Haryali",
         716.3999999999996
        ],
        [
         "Vegetable Karahi",
         8.95,
         "Vegetable Karahi",
         644.3999999999996
        ],
        [
         "Lamb Tikka Jeera",
         8.95,
         "Lamb Tikka Jeera",
         116.35000000000001
        ],
        [
         "Curry - Lamb",
         7.95,
         "Curry - Lamb",
         1303.8000000000006
        ],
        [
         "Bhuna - Chicken Tikka",
         8.95,
         "Bhuna - Chicken Tikka",
         1261.9499999999998
        ],
        [
         "Lamb Tikka Sizzler",
         9.95,
         "Lamb Tikka Sizzler",
         228.85
        ],
        [
         "Mushroom - King Prawn",
         12.95,
         "Mushroom - King Prawn",
         51.8
        ],
        [
         "Lamb Tikka Masala",
         8.95,
         "Lamb Tikka Masala",
         1655.7500000000023
        ],
        [
         "Prawn Balti",
         10.95,
         "Prawn Balti",
         405.14999999999986
        ],
        [
         "Lamb Hari Mirch",
         9.95,
         "Lamb Hari Mirch",
         626.8499999999997
        ],
        [
         "Bhuna - King Prawn",
         12.95,
         "Bhuna - King Prawn",
         246.05
        ],
        [
         "Lal Mirch Chicken",
         9.95,
         "Lal Mirch Chicken",
         925.3499999999995
        ],
        [
         "Chicken Chilli Garlic",
         9.95,
         "Chicken Chilli Garlic",
         1781.0500000000025
        ],
        [
         "Sheek Kebab (Main)",
         8.95,
         "Sheek Kebab (Main)",
         1369.3500000000004
        ],
        [
         "Lamb Karahi",
         8.95,
         "Lamb Karahi",
         1369.3500000000008
        ],
        [
         "Chicken Tikka Biryani",
         10.95,
         "Chicken Tikka Biryani",
         5474.999999999993
        ],
        [
         "Rogon - King Prawn",
         12.95,
         "Rogon - King Prawn",
         64.75
        ],
        [
         "Lamb Biryani",
         9.95,
         "Lamb Biryani",
         5989.899999999988
        ],
        [
         "Chicken Karahi",
         8.95,
         "Chicken Karahi",
         2013.7500000000036
        ],
        [
         "Lamb Tikka Chilli Masala",
         8.95,
         "Lamb Tikka Chilli Masala",
         769.6999999999995
        ],
        [
         "Hazary Lamb",
         12.95,
         "Hazary Lamb",
         1515.1500000000008
        ],
        [
         "Madras",
         7.95,
         "Madras",
         6662.099999999964
        ],
        [
         "Chicken Tikka Jeera",
         8.95,
         "Chicken Tikka Jeera",
         331.15
        ],
        [
         "Lamb Chilli Garlic",
         9.95,
         "Lamb Chilli Garlic",
         666.6499999999996
        ],
        [
         "Lamb Tikka Garlic",
         8.95,
         "Lamb Tikka Garlic",
         357.9999999999999
        ],
        [
         "Chicken Tikka Sizzler",
         9.95,
         "Chicken Tikka Sizzler",
         1373.1000000000004
        ],
        [
         "Mushroom - Chicken Tikka",
         8.95,
         "Mushroom - Chicken Tikka",
         80.54999999999998
        ],
        [
         "Chicken Tikka Garlic",
         8.95,
         "Chicken Tikka Garlic",
         1834.7500000000027
        ],
        [
         "Lamb Rezala",
         9.95,
         "Lamb Rezala",
         587.0499999999997
        ],
        [
         "King Prawn Balti",
         12.95,
         "King Prawn Balti",
         284.9
        ],
        [
         "Lal Mirch Lamb",
         9.95,
         "Lal Mirch Lamb",
         646.7499999999997
        ],
        [
         "Chicken Shashlick",
         9.95,
         "Chicken Shashlick",
         3721.3000000000075
        ],
        [
         "Madras - Chicken Tikka",
         7.95,
         "Madras - Chicken Tikka",
         818.8499999999992
        ],
        [
         "Curry - Prawn",
         8.95,
         "Curry - Prawn",
         429.5999999999999
        ],
        [
         "Rogon - Chicken Tikka",
         8.95,
         "Rogon - Chicken Tikka",
         98.45
        ],
        [
         "Chicken Mysore",
         9.95,
         "Chicken Mysore",
         935.2999999999993
        ],
        [
         "Methi - Chicken Tikka",
         8.95,
         "Methi - Chicken Tikka",
         44.75
        ],
        [
         "Chicken Chaat Main",
         7.9,
         "Chicken Chaat Main",
         7.9
        ],
        [
         "Methi - Prawn",
         9.95,
         "Methi - Prawn",
         19.9
        ],
        [
         "Methi - King Prawn",
         12.95,
         "Methi - King Prawn",
         25.9
        ],
        [
         "Mushroom - Prawn",
         9.95,
         "Mushroom - Prawn",
         9.95
        ],
        [
         "Lamb Persian",
         10.95,
         "Lamb Persian",
         10.95
        ]
       ],
       "datasetInfos": [],
       "dbfsResultPath": null,
       "isJsonSchema": true,
       "metadata": {},
       "overflow": false,
       "plotOptions": {
        "customPlotOptions": {},
        "displayType": "table",
        "pivotAggregation": null,
        "pivotColumns": null,
        "xColumns": null,
        "yColumns": null
       },
       "removedWidgets": [],
       "schema": [
        {
         "metadata": "{}",
         "name": "Menu_Item",
         "type": "\"string\""
        },
        {
         "metadata": "{}",
         "name": "Correct_Price",
         "type": "\"double\""
        },
        {
         "metadata": "{}",
         "name": "Menu_Item",
         "type": "\"string\""
        },
        {
         "metadata": "{}",
         "name": "Total Paid for each Menu Item",
         "type": "\"double\""
        }
       ],
       "type": "table"
      }
     },
     "output_type": "display_data"
    },
    {
     "output_type": "display_data",
     "data": {
      "text/plain": [
       "Databricks visualization. Run in Databricks to view."
      ]
     },
     "metadata": {
      "application/vnd.databricks.v1.subcommand+json": {
       "bindings": {},
       "collapsed": false,
       "command": "%python\n__backend_agg_display_orig = display\n__backend_agg_dfs = []\ndef __backend_agg_display_new(df):\n    __backend_agg_df_modules = [\"pandas.core.frame\", \"databricks.koalas.frame\", \"pyspark.sql.dataframe\", \"pyspark.pandas.frame\", \"pyspark.sql.connect.dataframe\"]\n    if (type(df).__module__ in __backend_agg_df_modules and type(df).__name__ == 'DataFrame') or isinstance(df, list):\n        __backend_agg_dfs.append(df)\n\ndisplay = __backend_agg_display_new\n\ndef __backend_agg_user_code_fn():\n    import base64\n    exec(base64.standard_b64decode(\"ZGlzcGxheShtYWluc19yZXN0YXVyYW50XzFfam9pbmVkKQ==\").decode())\n\ntry:\n    # run user code\n    __backend_agg_user_code_fn()\n\n    #reset display function\n    display = __backend_agg_display_orig\n\n    if len(__backend_agg_dfs) > 0:\n        # create a temp view\n        if type(__backend_agg_dfs[0]).__module__ == \"databricks.koalas.frame\":\n            # koalas dataframe\n            __backend_agg_dfs[0].to_spark().createOrReplaceTempView(\"DatabricksViewd8365d7\")\n        elif type(__backend_agg_dfs[0]).__module__ == \"pandas.core.frame\" or isinstance(__backend_agg_dfs[0], list):\n            # pandas dataframe\n            spark.createDataFrame(__backend_agg_dfs[0]).createOrReplaceTempView(\"DatabricksViewd8365d7\")\n        else:\n            __backend_agg_dfs[0].createOrReplaceTempView(\"DatabricksViewd8365d7\")\n        #run backend agg\n        display(spark.sql(\"\"\"WITH q AS (select * from DatabricksViewd8365d7) SELECT `Menu_Item`,SUM(`Total Paid for each Menu Item`) `column_78b0d19a41` FROM q GROUP BY `Menu_Item`\"\"\"))\n    else:\n        displayHTML(\"dataframe no longer exists. If you're using dataframe.display(), use display(dataframe) instead.\")\n\n\nfinally:\n    spark.sql(\"drop view if exists DatabricksViewd8365d7\")\n    display = __backend_agg_display_orig\n    del __backend_agg_display_new\n    del __backend_agg_display_orig\n    del __backend_agg_dfs\n    del __backend_agg_user_code_fn\n\n",
       "commandTitle": "Visualization 1",
       "commandType": "auto",
       "commandVersion": 0,
       "commentThread": [],
       "commentsVisible": false,
       "contentSha256Hex": null,
       "customPlotOptions": {
        "redashChart": [
         {
          "key": "type",
          "value": "CHART"
         },
         {
          "key": "options",
          "value": {
           "alignYAxesAtZero": true,
           "coefficient": 1,
           "columnConfigurationMap": {
            "x": {
             "column": "Menu_Item",
             "id": "column_78b0d19a38"
            },
            "y": [
             {
              "column": "Total Paid for each Menu Item",
              "id": "column_78b0d19a41",
              "transform": "SUM"
             }
            ]
           },
           "dateTimeFormat": "DD/MM/YYYY HH:mm",
           "direction": {
            "type": "counterclockwise"
           },
           "error_y": {
            "type": "data",
            "visible": true
           },
           "globalSeriesType": "column",
           "isAggregationOn": true,
           "legend": {
            "traceorder": "normal"
           },
           "missingValuesAsZero": true,
           "numberFormat": "0,0[.]00000",
           "percentFormat": "0[.]00%",
           "series": {
            "error_y": {
             "type": "data",
             "visible": true
            },
            "stacking": null
           },
           "seriesOptions": {
            "column_78b0d19a41": {
             "type": "column",
             "yAxis": 0
            }
           },
           "showDataLabels": false,
           "sizemode": "diameter",
           "sortX": true,
           "sortY": true,
           "swappedAxes": false,
           "textFormat": "",
           "useAggregationsUi": true,
           "valuesOptions": {},
           "version": 2,
           "xAxis": {
            "labels": {
             "enabled": true
            },
            "type": "-"
           },
           "yAxis": [
            {
             "type": "-"
            },
            {
             "opposite": true,
             "type": "-"
            }
           ]
          }
         }
        ]
       },
       "datasetPreviewNameToCmdIdMap": {},
       "diffDeletes": [],
       "diffInserts": [],
       "displayType": "redashChart",
       "error": null,
       "errorSummary": null,
       "errorTraceType": null,
       "finishTime": 0,
       "globalVars": {},
       "guid": "",
       "height": "auto",
       "hideCommandCode": false,
       "hideCommandResult": false,
       "iPythonMetadata": null,
       "inputWidgets": {},
       "isLockedInExamMode": false,
       "latestUser": "a user",
       "latestUserId": null,
       "listResultMetadata": null,
       "metadata": {},
       "nuid": "f09b2cbb-f448-487a-94d7-a2fd0a14707f",
       "origId": 0,
       "parentHierarchy": [],
       "pivotAggregation": null,
       "pivotColumns": null,
       "position": 61.46875,
       "resultDbfsErrorMessage": null,
       "resultDbfsStatus": "INLINED_IN_TREE",
       "results": null,
       "showCommandTitle": false,
       "startTime": 0,
       "state": "input",
       "streamStates": {},
       "subcommandOptions": {
        "queryPlan": {
         "groups": [
          {
           "column": "Menu_Item",
           "type": "column"
          }
         ],
         "selects": [
          {
           "column": "Menu_Item",
           "type": "column"
          },
          {
           "alias": "column_78b0d19a41",
           "args": [
            {
             "column": "Total Paid for each Menu Item",
             "type": "column"
            }
           ],
           "function": "SUM",
           "type": "function"
          }
         ]
        }
       },
       "submitTime": 0,
       "subtype": "tableResultSubCmd.visualization",
       "tableResultIndex": 0,
       "useConsistentColors": false,
       "version": "CommandV1",
       "width": "auto",
       "workflows": [],
       "xColumns": null,
       "yColumns": null
      }
     },
     "output_type": "display_data"
    }
   ],
   "source": [
    "display(mains_restaurant_1_joined)"
   ]
  },
  {
   "cell_type": "markdown",
   "metadata": {
    "application/vnd.databricks.v1+cell": {
     "cellMetadata": {},
     "inputWidgets": {},
     "nuid": "f54d4d9b-cf0b-4471-a5d1-fea6f9e12a1a",
     "showTitle": false,
     "title": ""
    }
   },
   "source": [
    "definitely need to only select the top 5 items from the menu this is way too messy"
   ]
  },
  {
   "cell_type": "markdown",
   "metadata": {
    "application/vnd.databricks.v1+cell": {
     "cellMetadata": {},
     "inputWidgets": {},
     "nuid": "c0d9d0ce-8535-488c-be15-11bf09e9a3bb",
     "showTitle": false,
     "title": ""
    }
   },
   "source": [
    "# Conclusions and Future Remarks\n",
    "\n",
    "- I wanted to make insights into the 3 different menus I created for each restaurant\n",
    "- I successfully created the menus and looked at the top 5 items in each menu of each place, using this data, customers can see which restaurant they would like to go to as these popular dishes would surely imply that the food is good\n",
    "- Given more time I would love to explore more with the graphs and combine the tables of starters for each restaurant to better show comparisons between the most popular starters at each place\n",
    "- My Data needs to be cleaned more, I have drinks within the starter menus and haven't removed them yet\n",
    "- I need to add more annotations throughout my report and draw better conclusions, also include an introduction"
   ]
  }
 ],
 "metadata": {
  "application/vnd.databricks.v1+notebook": {
   "dashboards": [
    {
     "elements": [],
     "globalVars": {},
     "guid": "",
     "layoutOption": {
      "grid": true,
      "stack": true
     },
     "nuid": "07bf6806-6db3-4c21-8134-46165159acc4",
     "origId": 0,
     "title": "Untitled",
     "version": "DashboardViewV1",
     "width": 1024
    },
    {
     "elements": [
      {
       "dashboardResultIndex": 0,
       "elementNUID": "1e057c06-75f5-4445-8f01-96f9a4991a32",
       "elementType": "command",
       "guid": "f275535c-5fac-45bd-9fb7-955292b1d136",
       "options": null,
       "position": {
        "height": 6,
        "width": 10,
        "x": 0,
        "y": 0,
        "z": null
       },
       "resultIndex": null
      }
     ],
     "globalVars": {},
     "guid": "",
     "layoutOption": {
      "grid": true,
      "stack": true
     },
     "nuid": "692eadfd-86ac-48e3-b814-dabddb37f0b0",
     "origId": 0,
     "title": "Untitled",
     "version": "DashboardViewV1",
     "width": 1024
    }
   ],
   "language": "python",
   "notebookMetadata": {
    "pythonIndentUnit": 4
   },
   "notebookName": "Killian Hughes - PySpark Mini Project 19_09_23",
   "widgets": {}
  }
 },
 "nbformat": 4,
 "nbformat_minor": 0
}
