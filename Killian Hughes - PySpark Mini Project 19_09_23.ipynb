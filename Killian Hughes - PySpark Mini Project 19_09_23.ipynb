{
 "cells": [
  {
   "cell_type": "markdown",
   "metadata": {
    "application/vnd.databricks.v1+cell": {
     "cellMetadata": {
      "byteLimit": 2048000,
      "rowLimit": 10000
     },
     "inputWidgets": {},
     "nuid": "88261727-83fb-4749-a02c-1e537c74aee3",
     "showTitle": false,
     "title": ""
    }
   },
   "source": [
    "# Indian Takeaway Orders\n",
    "---\n",
    "## By Killian Hughes"
   ]
  },
  {
   "cell_type": "markdown",
   "metadata": {
    "application/vnd.databricks.v1+cell": {
     "cellMetadata": {
      "byteLimit": 2048000,
      "rowLimit": 10000
     },
     "inputWidgets": {},
     "nuid": "843fc798-fad2-4777-a4db-d35ff6f85c7e",
     "showTitle": false,
     "title": ""
    }
   },
   "source": [
    "### Load in data"
   ]
  },
  {
   "cell_type": "code",
   "execution_count": 0,
   "metadata": {
    "application/vnd.databricks.v1+cell": {
     "cellMetadata": {
      "byteLimit": 2048000,
      "rowLimit": 10000
     },
     "inputWidgets": {},
     "nuid": "4002d3de-9894-4f51-86e4-09624c7d7e79",
     "showTitle": false,
     "title": ""
    }
   },
   "outputs": [],
   "source": [
    "restaurant_1_orders = sqlContext.read.load('/FileStore/tables/restaurant_1_orders.csv', format='csv', header=True, inferSchema=True)\n",
    "restaurant_2_orders = sqlContext.read.load('/FileStore/tables/restaurant_2_orders.csv', format='csv', header=True, inferSchema=True)\n",
    "restaurant_1_products_price = sqlContext.read.load('/FileStore/tables/restaurant_1_products_price.csv', format='csv', header=True, inferSchema=True)\n",
    "restaurant_2_products_price = sqlContext.read.load('/FileStore/tables/restaurant_2_products_price.csv', format='csv', header=True, inferSchema=True)"
   ]
  },
  {
   "cell_type": "markdown",
   "metadata": {
    "application/vnd.databricks.v1+cell": {
     "cellMetadata": {
      "byteLimit": 2048000,
      "rowLimit": 10000
     },
     "inputWidgets": {},
     "nuid": "18d5a2db-c487-42a1-91af-5d0b7080873a",
     "showTitle": false,
     "title": ""
    }
   },
   "source": [
    "### Data Cleaning\n",
    "---\n",
    "  - Using Distinct Count and Count to check for duplicates\n",
    "  - Using dropDuplicates to remove duplicates"
   ]
  },
  {
   "cell_type": "code",
   "execution_count": 0,
   "metadata": {
    "application/vnd.databricks.v1+cell": {
     "cellMetadata": {
      "byteLimit": 2048000,
      "rowLimit": 10000
     },
     "inputWidgets": {},
     "nuid": "8e370467-17d9-4dcb-a8cd-b4b52c0d0452",
     "showTitle": false,
     "title": ""
    }
   },
   "outputs": [],
   "source": [
    "def dup_percent_finder(dataframe):\n",
    "    percent_dup = ((dataframe.count() - dataframe.distinct().count()) / dataframe.count()) * 100\n",
    "    print(\"This dataframe contains\", percent_dup, \"% duplicated rows\")"
   ]
  },
  {
   "cell_type": "code",
   "execution_count": 0,
   "metadata": {
    "application/vnd.databricks.v1+cell": {
     "cellMetadata": {
      "byteLimit": 2048000,
      "rowLimit": 10000
     },
     "inputWidgets": {},
     "nuid": "1ae6e405-84b0-4803-bf18-8b255ccaffa5",
     "showTitle": false,
     "title": ""
    }
   },
   "outputs": [
    {
     "output_type": "stream",
     "name": "stdout",
     "output_type": "stream",
     "text": [
      "This dataframe contains 0.1296479456815205 % duplicated rows\n"
     ]
    }
   ],
   "source": [
    "dup_percent_finder(restaurant_1_orders)"
   ]
  },
  {
   "cell_type": "code",
   "execution_count": 0,
   "metadata": {
    "application/vnd.databricks.v1+cell": {
     "cellMetadata": {
      "byteLimit": 2048000,
      "rowLimit": 10000
     },
     "inputWidgets": {},
     "nuid": "ad5f0704-5809-4f55-a2a1-8a4b57cf763c",
     "showTitle": false,
     "title": ""
    }
   },
   "outputs": [
    {
     "output_type": "stream",
     "name": "stdout",
     "output_type": "stream",
     "text": [
      "This dataframe contains 0.0 % duplicated rows\n"
     ]
    }
   ],
   "source": [
    "dup_percent_finder(restaurant_1_products_price)"
   ]
  },
  {
   "cell_type": "code",
   "execution_count": 0,
   "metadata": {
    "application/vnd.databricks.v1+cell": {
     "cellMetadata": {
      "byteLimit": 2048000,
      "rowLimit": 10000
     },
     "inputWidgets": {},
     "nuid": "7d018d42-9334-4eb4-a3f5-9281cf902e5a",
     "showTitle": false,
     "title": ""
    }
   },
   "outputs": [
    {
     "output_type": "stream",
     "name": "stdout",
     "output_type": "stream",
     "text": [
      "This dataframe contains 0.14935015899918613 % duplicated rows\n"
     ]
    }
   ],
   "source": [
    "dup_percent_finder(restaurant_2_orders)"
   ]
  },
  {
   "cell_type": "code",
   "execution_count": 0,
   "metadata": {
    "application/vnd.databricks.v1+cell": {
     "cellMetadata": {
      "byteLimit": 2048000,
      "rowLimit": 10000
     },
     "inputWidgets": {},
     "nuid": "19f99879-216a-480e-a54b-6fa531053b36",
     "showTitle": false,
     "title": ""
    }
   },
   "outputs": [
    {
     "output_type": "stream",
     "name": "stdout",
     "output_type": "stream",
     "text": [
      "This dataframe contains 0.0 % duplicated rows\n"
     ]
    }
   ],
   "source": [
    "dup_percent_finder(restaurant_2_products_price)"
   ]
  },
  {
   "cell_type": "code",
   "execution_count": 0,
   "metadata": {
    "application/vnd.databricks.v1+cell": {
     "cellMetadata": {
      "byteLimit": 2048000,
      "rowLimit": 10000
     },
     "inputWidgets": {},
     "nuid": "16eebe07-575e-4647-9729-9e9bcd313f2b",
     "showTitle": false,
     "title": ""
    }
   },
   "outputs": [],
   "source": [
    "restaurant_1_orders = restaurant_1_orders.dropDuplicates()\n",
    "restaurant_2_orders = restaurant_2_orders.dropDuplicates()"
   ]
  },
  {
   "cell_type": "code",
   "execution_count": 0,
   "metadata": {
    "application/vnd.databricks.v1+cell": {
     "cellMetadata": {
      "byteLimit": 2048000,
      "rowLimit": 10000
     },
     "inputWidgets": {},
     "nuid": "56812e16-ee20-44dc-8fbc-58ea7dbed397",
     "showTitle": false,
     "title": ""
    }
   },
   "outputs": [
    {
     "output_type": "stream",
     "name": "stdout",
     "output_type": "stream",
     "text": [
      "This dataframe contains 0.0 % duplicated rows\n"
     ]
    }
   ],
   "source": [
    "dup_percent_finder(restaurant_1_orders)"
   ]
  },
  {
   "cell_type": "code",
   "execution_count": 0,
   "metadata": {
    "application/vnd.databricks.v1+cell": {
     "cellMetadata": {
      "byteLimit": 2048000,
      "rowLimit": 10000
     },
     "inputWidgets": {},
     "nuid": "d7fb8e6f-3c43-4948-a0b0-4eab09e03903",
     "showTitle": false,
     "title": ""
    }
   },
   "outputs": [
    {
     "output_type": "stream",
     "name": "stdout",
     "output_type": "stream",
     "text": [
      "This dataframe contains 0.0 % duplicated rows\n"
     ]
    }
   ],
   "source": [
    "dup_percent_finder(restaurant_2_orders)"
   ]
  },
  {
   "cell_type": "code",
   "execution_count": 0,
   "metadata": {
    "application/vnd.databricks.v1+cell": {
     "cellMetadata": {
      "byteLimit": 2048000,
      "rowLimit": 10000
     },
     "inputWidgets": {},
     "nuid": "59e0f680-f831-4e36-a859-482235aa2695",
     "showTitle": false,
     "title": ""
    }
   },
   "outputs": [],
   "source": [
    "import numpy as np\n",
    "from pyspark.sql.functions import col, isnan, when, count\n",
    "\n",
    "def null_value_finder(dataframe):\n",
    "    dataframe.select([count(when(isnan(c) | col(c).isNull(), c)).alias(c) for c in dataframe.columns]\n",
    "    ).show()"
   ]
  },
  {
   "cell_type": "code",
   "execution_count": 0,
   "metadata": {
    "application/vnd.databricks.v1+cell": {
     "cellMetadata": {
      "byteLimit": 2048000,
      "rowLimit": 10000
     },
     "inputWidgets": {},
     "nuid": "5f08446a-2092-4502-ad51-f9b4f6f6bf6b",
     "showTitle": false,
     "title": ""
    }
   },
   "outputs": [
    {
     "output_type": "stream",
     "name": "stdout",
     "output_type": "stream",
     "text": [
      "+------------+----------------+--------------------+--------+-------------+--------------+\n|Order Number|      Order Date|           Item Name|Quantity|Product Price|Total products|\n+------------+----------------+--------------------+--------+-------------+--------------+\n|       16115|03/08/2019 20:01|       Plain Papadum|       1|          0.8|             7|\n|       16117|03/08/2019 20:17|       Mushroom Rice|       1|         3.95|             7|\n|       16116|03/08/2019 20:09|          Aloo Chaat|       1|         4.95|             5|\n|       16115|03/08/2019 20:01|      Chicken Pakora|       1|         5.95|             7|\n|       16118|03/08/2019 20:25|       Mushroom Rice|       1|         3.95|             6|\n|       16118|03/08/2019 20:25|       Mango Chutney|       1|          0.5|             6|\n|       16118|03/08/2019 20:25|         Garlic Naan|       1|         2.95|             6|\n|       16116|03/08/2019 20:09|      Chicken Pakora|       1|         5.95|             5|\n|       16117|03/08/2019 20:17|          Lamb Tikka|       1|         4.95|             7|\n|       16118|03/08/2019 20:25|       Plain Papadum|       2|          0.8|             6|\n|       16118|03/08/2019 20:25|    King Prawn Balti|       1|        12.95|             6|\n|       16116|03/08/2019 20:09|Chicken Chilli Ga...|       1|         9.95|             5|\n|       16116|03/08/2019 20:09|          Keema Naan|       1|         2.95|             5|\n|       16117|03/08/2019 20:17|             Chapati|       1|         1.95|             7|\n|       16117|03/08/2019 20:17|         Saag Paneer|       1|         5.95|             7|\n|       16118|03/08/2019 20:25| Paneer Tikka Masala|       1|         8.95|             6|\n|       16117|03/08/2019 20:17|Tandoori Chicken ...|       1|         4.95|             7|\n|       16116|03/08/2019 20:09|        Lamb Biryani|       1|         9.95|             5|\n|       16115|03/08/2019 20:01|       Mango Chutney|       1|          0.5|             7|\n|       16117|03/08/2019 20:17|     Vindaloo - Lamb|       1|         7.95|             7|\n+------------+----------------+--------------------+--------+-------------+--------------+\nonly showing top 20 rows\n\n"
     ]
    }
   ],
   "source": [
    "restaurant_1_orders.show()"
   ]
  },
  {
   "cell_type": "code",
   "execution_count": 0,
   "metadata": {
    "application/vnd.databricks.v1+cell": {
     "cellMetadata": {
      "byteLimit": 2048000,
      "rowLimit": 10000
     },
     "inputWidgets": {},
     "nuid": "8b9044dd-a4df-4e2b-86f9-9c900065fae6",
     "showTitle": false,
     "title": ""
    }
   },
   "outputs": [
    {
     "output_type": "stream",
     "name": "stdout",
     "output_type": "stream",
     "text": [
      "+--------+----------------+--------------------+--------+-------------+--------------+\n|Order ID|      Order Date|           Item Name|Quantity|Product Price|Total products|\n+--------+----------------+--------------------+--------+-------------+--------------+\n|   25582|03/08/2019 20:33|       Peshwari Naan|       1|         2.95|             5|\n|   25583|03/08/2019 21:58|             Paratha|       1|         2.95|            12|\n|   25582|03/08/2019 20:33|         Bottle Coke|       1|         2.95|             5|\n|   25583|03/08/2019 21:58|Tandoori Mixed Grill|       1|        11.95|            12|\n|   25583|03/08/2019 21:58|       Plain Papadum|       1|          0.8|            12|\n|   25583|03/08/2019 21:58|         Garlic Naan|       1|         2.95|            12|\n|   25583|03/08/2019 21:58|        Madras Sauce|       1|         3.95|            12|\n|   25582|03/08/2019 20:33|          Pilau Rice|       1|         2.95|             5|\n|   25581|03/08/2019 20:01|          Pilau Rice|       1|         2.95|             5|\n|   25581|03/08/2019 20:01|         Saag Paneer|       1|         5.95|             5|\n|   25583|03/08/2019 21:58|       Onion Chutney|       1|          0.5|            12|\n|   25582|03/08/2019 20:33|      Butter Chicken|       1|         8.95|             5|\n|   25581|03/08/2019 20:01|         Onion Bhaji|       1|         3.95|             5|\n|   25583|03/08/2019 21:58|Chicken Tikka Masala|       1|         8.95|            12|\n|   25583|03/08/2019 21:58|       Mango Chutney|       2|          0.5|            12|\n|   25583|03/08/2019 21:58|       Mushroom Rice|       2|         3.95|            12|\n|   25581|03/08/2019 20:01|             Chapati|       1|         1.95|             5|\n|   25582|03/08/2019 20:33|Tandoori King Pra...|       1|        12.95|             5|\n|   25583|03/08/2019 21:58|          Plain Rice|       1|         2.95|            12|\n|   25583|03/08/2019 21:58|          Mint Sauce|       1|          0.5|            12|\n+--------+----------------+--------------------+--------+-------------+--------------+\nonly showing top 20 rows\n\n"
     ]
    }
   ],
   "source": [
    "restaurant_2_orders.show()"
   ]
  },
  {
   "cell_type": "code",
   "execution_count": 0,
   "metadata": {
    "application/vnd.databricks.v1+cell": {
     "cellMetadata": {
      "byteLimit": 2048000,
      "rowLimit": 10000
     },
     "inputWidgets": {},
     "nuid": "674cc3e7-7ad2-44dc-adf1-2787b53159b6",
     "showTitle": false,
     "title": ""
    }
   },
   "outputs": [
    {
     "output_type": "stream",
     "name": "stdout",
     "output_type": "stream",
     "text": [
      "+------------+----------+---------+--------+-------------+--------------+\n|Order Number|Order Date|Item Name|Quantity|Product Price|Total products|\n+------------+----------+---------+--------+-------------+--------------+\n|           0|         0|        0|       0|            0|             0|\n+------------+----------+---------+--------+-------------+--------------+\n\n"
     ]
    }
   ],
   "source": [
    "null_value_finder(restaurant_1_orders)"
   ]
  },
  {
   "cell_type": "code",
   "execution_count": 0,
   "metadata": {
    "application/vnd.databricks.v1+cell": {
     "cellMetadata": {
      "byteLimit": 2048000,
      "rowLimit": 10000
     },
     "inputWidgets": {},
     "nuid": "cc02e8f4-2739-4ef2-b61a-5c02448b2321",
     "showTitle": false,
     "title": ""
    }
   },
   "outputs": [
    {
     "output_type": "stream",
     "name": "stdout",
     "output_type": "stream",
     "text": [
      "+--------+----------+---------+--------+-------------+--------------+\n|Order ID|Order Date|Item Name|Quantity|Product Price|Total products|\n+--------+----------+---------+--------+-------------+--------------+\n|       0|         0|        0|       0|            0|             0|\n+--------+----------+---------+--------+-------------+--------------+\n\n"
     ]
    }
   ],
   "source": [
    "null_value_finder(restaurant_2_orders)"
   ]
  },
  {
   "cell_type": "markdown",
   "metadata": {
    "application/vnd.databricks.v1+cell": {
     "cellMetadata": {
      "byteLimit": 2048000,
      "rowLimit": 10000
     },
     "inputWidgets": {},
     "nuid": "44f1b7c0-2891-4ec5-b57d-7fe9379838b0",
     "showTitle": false,
     "title": ""
    }
   },
   "source": [
    "### finding discrepencies between orders and menu from restaurant 1"
   ]
  },
  {
   "cell_type": "code",
   "execution_count": 0,
   "metadata": {
    "application/vnd.databricks.v1+cell": {
     "cellMetadata": {
      "byteLimit": 2048000,
      "rowLimit": 10000
     },
     "inputWidgets": {},
     "nuid": "0401e865-2a5e-42eb-9645-9c47fda8102a",
     "showTitle": false,
     "title": ""
    }
   },
   "outputs": [],
   "source": [
    "actual_menu_1 = restaurant_1_orders.select(\"Item Name\", \"Product Price\")\n",
    "expected_menu_1 = restaurant_1_products_price.select(\"Item Name\", \"Product Price\")"
   ]
  },
  {
   "cell_type": "code",
   "execution_count": 0,
   "metadata": {
    "application/vnd.databricks.v1+cell": {
     "cellMetadata": {
      "byteLimit": 2048000,
      "rowLimit": 10000
     },
     "inputWidgets": {},
     "nuid": "cdccd266-3c1d-44c3-8e56-252e3baff62a",
     "showTitle": false,
     "title": ""
    }
   },
   "outputs": [],
   "source": [
    "actual_menu_1 = actual_menu_1.dropDuplicates()\n",
    "expected_menu_1 = expected_menu_1.dropDuplicates()"
   ]
  },
  {
   "cell_type": "code",
   "execution_count": 0,
   "metadata": {
    "application/vnd.databricks.v1+cell": {
     "cellMetadata": {
      "byteLimit": 2048000,
      "rowLimit": 10000
     },
     "inputWidgets": {},
     "nuid": "55600a3f-232f-438c-88e3-a4a08d06a14b",
     "showTitle": false,
     "title": ""
    }
   },
   "outputs": [
    {
     "output_type": "stream",
     "name": "stdout",
     "output_type": "stream",
     "text": [
      "+-------------+--------------+\n|    Item Name|Mistaken Price|\n+-------------+--------------+\n|        Rogon|          9.95|\n|        Bhuna|          9.95|\n|         Saag|         12.95|\n|      Dhansak|         12.95|\n|        Korma|          9.95|\n|     Mushroom|          9.95|\n|      Dupiaza|          9.95|\n|Chicken Tikka|          7.95|\n|       Madras|         11.95|\n|        Bhuna|         12.95|\n|         Saag|          9.95|\n|      Dhansak|          9.95|\n|        Curry|         11.95|\n|      Dupiaza|         12.95|\n|  Sheek Kehab|          5.95|\n|     Vindaloo|         11.95|\n|        Curry|          8.95|\n|Chicken Tikka|          4.95|\n|     Vindaloo|          8.95|\n|       Pathia|          9.95|\n+-------------+--------------+\nonly showing top 20 rows\n\n"
     ]
    }
   ],
   "source": [
    "extra_items = actual_menu_1.subtract(expected_menu_1)\n",
    "extra_items = extra_items.withColumnRenamed(\"Product Price\", \"Mistaken Price\")\n",
    "extra_items.show()"
   ]
  },
  {
   "cell_type": "code",
   "execution_count": 0,
   "metadata": {
    "application/vnd.databricks.v1+cell": {
     "cellMetadata": {
      "byteLimit": 2048000,
      "rowLimit": 10000
     },
     "inputWidgets": {},
     "nuid": "0a4289c6-b3fc-49a8-afde-9ccde45833b4",
     "showTitle": false,
     "title": ""
    }
   },
   "outputs": [
    {
     "output_type": "stream",
     "name": "stdout",
     "output_type": "stream",
     "text": [
      "+-------------+------------+\n|         Drop|Actual Price|\n+-------------+------------+\n|   Plain Rice|        2.95|\n|   Onion Naan|        2.95|\n|  Lime Pickle|         0.5|\n|        Puree|        1.95|\n|Peshwari Naan|        2.95|\n|Mango Chutney|         0.5|\n|   Pilau Rice|        2.95|\n|   Mint Sauce|         0.5|\n|  Bottle Coke|        2.95|\n|    Red Sauce|         0.5|\n|  Green Salad|        2.95|\n|Tandoori Roti|         2.6|\n|      Chapati|        1.95|\n|   Keema Naan|        2.95|\n|      Paratha|        2.95|\n|Onion Chutney|         0.5|\n|Spicy Papadum|         0.8|\n|   Plain Naan|         2.6|\n|       Raitha|        2.95|\n|Plain Papadum|         0.8|\n+-------------+------------+\nonly showing top 20 rows\n\n"
     ]
    }
   ],
   "source": [
    "expected_menu = expected_menu_1.withColumnRenamed(\"Item Name\", \"Drop\").withColumnRenamed(\"Product Price\", \"Actual Price\")\n",
    "expected_menu.show()"
   ]
  },
  {
   "cell_type": "code",
   "execution_count": 0,
   "metadata": {
    "application/vnd.databricks.v1+cell": {
     "cellMetadata": {
      "byteLimit": 2048000,
      "rowLimit": 10000
     },
     "inputWidgets": {},
     "nuid": "5a219d7c-8b2f-420d-9be4-2c236dbe5b2d",
     "showTitle": false,
     "title": ""
    }
   },
   "outputs": [
    {
     "output_type": "stream",
     "name": "stdout",
     "output_type": "stream",
     "text": [
      "+-------------+--------------+-------------+------------+\n|    Item Name|Mistaken Price|         Drop|Actual Price|\n+-------------+--------------+-------------+------------+\n|       Pathia|         12.95|       Pathia|        8.95|\n|        Rogon|          9.95|        Rogon|        8.95|\n|        Bhuna|          9.95|        Bhuna|        8.95|\n|         Saag|         12.95|         Saag|        8.95|\n|      Dhansak|         12.95|      Dhansak|        8.95|\n|        Korma|          9.95|        Korma|        8.95|\n|     Mushroom|          9.95|     Mushroom|        8.95|\n|      Dupiaza|          9.95|      Dupiaza|        8.95|\n|Chicken Tikka|          7.95|Chicken Tikka|        3.95|\n|       Madras|         11.95|       Madras|        7.95|\n|        Korma|         12.95|        Korma|        8.95|\n|        Bhuna|         12.95|        Bhuna|        8.95|\n|         Saag|          9.95|         Saag|        8.95|\n|      Dhansak|          9.95|      Dhansak|        8.95|\n|        Curry|         11.95|        Curry|        7.95|\n|      Dupiaza|         12.95|      Dupiaza|        8.95|\n|  Sheek Kehab|          5.95|  Sheek Kehab|        4.95|\n|        Rogon|         12.95|        Rogon|        8.95|\n|     Vindaloo|         11.95|     Vindaloo|        7.95|\n|        Curry|          8.95|        Curry|        7.95|\n+-------------+--------------+-------------+------------+\nonly showing top 20 rows\n\n"
     ]
    }
   ],
   "source": [
    "df1 = extra_items.join(expected_menu, extra_items[\"Item Name\"] == expected_menu[\"Drop\"], \"inner\")\n",
    "df1.show()"
   ]
  },
  {
   "cell_type": "code",
   "execution_count": 0,
   "metadata": {
    "application/vnd.databricks.v1+cell": {
     "cellMetadata": {
      "byteLimit": 2048000,
      "rowLimit": 10000
     },
     "inputWidgets": {},
     "nuid": "08bdbac6-efdf-4365-9ef0-eb02ce2864e7",
     "showTitle": false,
     "title": ""
    }
   },
   "outputs": [],
   "source": [
    "df1 = df1.drop(\"Drop\")"
   ]
  },
  {
   "cell_type": "code",
   "execution_count": 0,
   "metadata": {
    "application/vnd.databricks.v1+cell": {
     "cellMetadata": {
      "byteLimit": 2048000,
      "rowLimit": 10000
     },
     "inputWidgets": {},
     "nuid": "1e057c06-75f5-4445-8f01-96f9a4991a32",
     "showTitle": false,
     "title": ""
    }
   },
   "outputs": [
    {
     "output_type": "display_data",
     "data": {
      "text/html": [
       "<style scoped>\n",
       "  .table-result-container {\n",
       "    max-height: 300px;\n",
       "    overflow: auto;\n",
       "  }\n",
       "  table, th, td {\n",
       "    border: 1px solid black;\n",
       "    border-collapse: collapse;\n",
       "  }\n",
       "  th, td {\n",
       "    padding: 5px;\n",
       "  }\n",
       "  th {\n",
       "    text-align: left;\n",
       "  }\n",
       "</style><div class='table-result-container'><table class='table-result'><thead style='background-color: white'><tr><th>Item Name</th><th>Mistaken Price</th><th>Actual Price</th></tr></thead><tbody><tr><td>Pathia</td><td>12.95</td><td>8.95</td></tr><tr><td>Rogon</td><td>9.95</td><td>8.95</td></tr><tr><td>Bhuna</td><td>9.95</td><td>8.95</td></tr><tr><td>Saag</td><td>12.95</td><td>8.95</td></tr><tr><td>Dhansak</td><td>12.95</td><td>8.95</td></tr><tr><td>Korma</td><td>9.95</td><td>8.95</td></tr><tr><td>Mushroom</td><td>9.95</td><td>8.95</td></tr><tr><td>Dupiaza</td><td>9.95</td><td>8.95</td></tr><tr><td>Chicken Tikka</td><td>7.95</td><td>3.95</td></tr><tr><td>Madras</td><td>11.95</td><td>7.95</td></tr><tr><td>Korma</td><td>12.95</td><td>8.95</td></tr><tr><td>Bhuna</td><td>12.95</td><td>8.95</td></tr><tr><td>Saag</td><td>9.95</td><td>8.95</td></tr><tr><td>Dhansak</td><td>9.95</td><td>8.95</td></tr><tr><td>Curry</td><td>11.95</td><td>7.95</td></tr><tr><td>Dupiaza</td><td>12.95</td><td>8.95</td></tr><tr><td>Sheek Kehab</td><td>5.95</td><td>4.95</td></tr><tr><td>Rogon</td><td>12.95</td><td>8.95</td></tr><tr><td>Vindaloo</td><td>11.95</td><td>7.95</td></tr><tr><td>Curry</td><td>8.95</td><td>7.95</td></tr><tr><td>Chicken Tikka</td><td>4.95</td><td>3.95</td></tr><tr><td>Vindaloo</td><td>8.95</td><td>7.95</td></tr><tr><td>Pathia</td><td>9.95</td><td>8.95</td></tr><tr><td>Madras</td><td>8.95</td><td>7.95</td></tr></tbody></table></div>"
      ]
     },
     "metadata": {
      "application/vnd.databricks.v1+output": {
       "addedWidgets": {},
       "aggData": [],
       "aggError": "",
       "aggOverflow": false,
       "aggSchema": [],
       "aggSeriesLimitReached": false,
       "aggType": "",
       "arguments": {},
       "columnCustomDisplayInfos": {},
       "data": [
        [
         "Pathia",
         12.95,
         8.95
        ],
        [
         "Rogon",
         9.95,
         8.95
        ],
        [
         "Bhuna",
         9.95,
         8.95
        ],
        [
         "Saag",
         12.95,
         8.95
        ],
        [
         "Dhansak",
         12.95,
         8.95
        ],
        [
         "Korma",
         9.95,
         8.95
        ],
        [
         "Mushroom",
         9.95,
         8.95
        ],
        [
         "Dupiaza",
         9.95,
         8.95
        ],
        [
         "Chicken Tikka",
         7.95,
         3.95
        ],
        [
         "Madras",
         11.95,
         7.95
        ],
        [
         "Korma",
         12.95,
         8.95
        ],
        [
         "Bhuna",
         12.95,
         8.95
        ],
        [
         "Saag",
         9.95,
         8.95
        ],
        [
         "Dhansak",
         9.95,
         8.95
        ],
        [
         "Curry",
         11.95,
         7.95
        ],
        [
         "Dupiaza",
         12.95,
         8.95
        ],
        [
         "Sheek Kehab",
         5.95,
         4.95
        ],
        [
         "Rogon",
         12.95,
         8.95
        ],
        [
         "Vindaloo",
         11.95,
         7.95
        ],
        [
         "Curry",
         8.95,
         7.95
        ],
        [
         "Chicken Tikka",
         4.95,
         3.95
        ],
        [
         "Vindaloo",
         8.95,
         7.95
        ],
        [
         "Pathia",
         9.95,
         8.95
        ],
        [
         "Madras",
         8.95,
         7.95
        ]
       ],
       "datasetInfos": [],
       "dbfsResultPath": null,
       "isJsonSchema": true,
       "metadata": {},
       "overflow": false,
       "plotOptions": {
        "customPlotOptions": {},
        "displayType": "table",
        "pivotAggregation": null,
        "pivotColumns": null,
        "xColumns": null,
        "yColumns": null
       },
       "removedWidgets": [],
       "schema": [
        {
         "metadata": "{}",
         "name": "Item Name",
         "type": "\"string\""
        },
        {
         "metadata": "{}",
         "name": "Mistaken Price",
         "type": "\"double\""
        },
        {
         "metadata": "{}",
         "name": "Actual Price",
         "type": "\"double\""
        }
       ],
       "type": "table"
      }
     },
     "output_type": "display_data"
    }
   ],
   "source": [
    "display(df1)"
   ]
  },
  {
   "cell_type": "markdown",
   "metadata": {
    "application/vnd.databricks.v1+cell": {
     "cellMetadata": {
      "byteLimit": 2048000,
      "rowLimit": 10000
     },
     "inputWidgets": {},
     "nuid": "4879b741-ee33-450f-b4a2-499813bb94e9",
     "showTitle": false,
     "title": ""
    }
   },
   "source": [
    "### removing the mistaken item prices replacing them with the correct prices"
   ]
  },
  {
   "cell_type": "code",
   "execution_count": 0,
   "metadata": {
    "application/vnd.databricks.v1+cell": {
     "cellMetadata": {
      "byteLimit": 2048000,
      "rowLimit": 10000
     },
     "inputWidgets": {},
     "nuid": "5fe867ea-4c8d-4fec-b156-890538e7afa0",
     "showTitle": false,
     "title": ""
    }
   },
   "outputs": [
    {
     "output_type": "stream",
     "name": "stdout",
     "output_type": "stream",
     "text": [
      "Out[22]: DataFrame[Item Name: string, Mistaken Price: double, Actual Price: double]"
     ]
    }
   ],
   "source": [
    "restaurant_1_orders\n",
    "df1"
   ]
  },
  {
   "cell_type": "code",
   "execution_count": 0,
   "metadata": {
    "application/vnd.databricks.v1+cell": {
     "cellMetadata": {
      "byteLimit": 2048000,
      "rowLimit": 10000
     },
     "inputWidgets": {},
     "nuid": "5978bd88-6ae7-4f09-9b79-26df9eae045b",
     "showTitle": false,
     "title": ""
    }
   },
   "outputs": [
    {
     "output_type": "stream",
     "name": "stdout",
     "output_type": "stream",
     "text": [
      "Out[23]: ['Order Number',\n 'Order Date',\n 'Item Name',\n 'Quantity',\n 'Product Price',\n 'Total products']"
     ]
    }
   ],
   "source": [
    "restaurant_1_orders.columns"
   ]
  },
  {
   "cell_type": "code",
   "execution_count": 0,
   "metadata": {
    "application/vnd.databricks.v1+cell": {
     "cellMetadata": {
      "byteLimit": 2048000,
      "rowLimit": 10000
     },
     "inputWidgets": {},
     "nuid": "f42708f8-05a6-43ee-b0d5-d0443e5124d9",
     "showTitle": false,
     "title": ""
    }
   },
   "outputs": [
    {
     "output_type": "stream",
     "name": "stdout",
     "output_type": "stream",
     "text": [
      "+------------+----------------+--------------------+--------+-------------+--------------+\n|Order Number|      Order Date|           Item Name|Quantity|Product Price|Total products|\n+------------+----------------+--------------------+--------+-------------+--------------+\n|       16115|03/08/2019 20:01|       Plain Papadum|       1|          0.8|             7|\n|       16117|03/08/2019 20:17|       Mushroom Rice|       1|         3.95|             7|\n|       16116|03/08/2019 20:09|          Aloo Chaat|       1|         4.95|             5|\n|       16115|03/08/2019 20:01|      Chicken Pakora|       1|         5.95|             7|\n|       16118|03/08/2019 20:25|       Mushroom Rice|       1|         3.95|             6|\n|       16118|03/08/2019 20:25|       Mango Chutney|       1|          0.5|             6|\n|       16118|03/08/2019 20:25|         Garlic Naan|       1|         2.95|             6|\n|       16116|03/08/2019 20:09|      Chicken Pakora|       1|         5.95|             5|\n|       16117|03/08/2019 20:17|          Lamb Tikka|       1|         4.95|             7|\n|       16118|03/08/2019 20:25|       Plain Papadum|       2|          0.8|             6|\n|       16118|03/08/2019 20:25|    King Prawn Balti|       1|        12.95|             6|\n|       16116|03/08/2019 20:09|Chicken Chilli Ga...|       1|         9.95|             5|\n|       16116|03/08/2019 20:09|          Keema Naan|       1|         2.95|             5|\n|       16117|03/08/2019 20:17|             Chapati|       1|         1.95|             7|\n|       16117|03/08/2019 20:17|         Saag Paneer|       1|         5.95|             7|\n|       16118|03/08/2019 20:25| Paneer Tikka Masala|       1|         8.95|             6|\n|       16117|03/08/2019 20:17|Tandoori Chicken ...|       1|         4.95|             7|\n|       16116|03/08/2019 20:09|        Lamb Biryani|       1|         9.95|             5|\n|       16115|03/08/2019 20:01|       Mango Chutney|       1|          0.5|             7|\n|       16117|03/08/2019 20:17|     Vindaloo - Lamb|       1|         7.95|             7|\n+------------+----------------+--------------------+--------+-------------+--------------+\nonly showing top 20 rows\n\n"
     ]
    }
   ],
   "source": [
    "restaurant_1_orders.show()"
   ]
  },
  {
   "cell_type": "markdown",
   "metadata": {
    "application/vnd.databricks.v1+cell": {
     "cellMetadata": {
      "byteLimit": 2048000,
      "rowLimit": 10000
     },
     "inputWidgets": {},
     "nuid": "caf69a1f-3c35-48ae-9396-854a7c316ba3",
     "showTitle": false,
     "title": ""
    }
   },
   "source": [
    "  - join the menu prices with the actual prices for both tables\n",
    "  - find out the most popular items in each category\n",
    "  - find the most popular time of day, using the between command"
   ]
  },
  {
   "cell_type": "code",
   "execution_count": 0,
   "metadata": {
    "application/vnd.databricks.v1+cell": {
     "cellMetadata": {
      "byteLimit": 2048000,
      "rowLimit": 10000
     },
     "inputWidgets": {},
     "nuid": "3479489e-8848-4f7f-8b7e-356733e97f73",
     "showTitle": false,
     "title": ""
    }
   },
   "outputs": [],
   "source": [
    "restaurant_1_products_price = restaurant_1_products_price.withColumnRenamed(\"Item Name\", \"Menu_Item\").withColumnRenamed(\"Product Price\", \"Correct_Price\")"
   ]
  },
  {
   "cell_type": "code",
   "execution_count": 0,
   "metadata": {
    "application/vnd.databricks.v1+cell": {
     "cellMetadata": {
      "byteLimit": 2048000,
      "rowLimit": 10000
     },
     "inputWidgets": {},
     "nuid": "50f1f7f8-06c9-49cc-950d-e8d08faab1ec",
     "showTitle": false,
     "title": ""
    }
   },
   "outputs": [],
   "source": [
    "joined_order_1 = restaurant_1_orders.join(restaurant_1_products_price, restaurant_1_orders[\"Item Name\"] == restaurant_1_products_price[\"Menu_Item\"], \"inner\")"
   ]
  },
  {
   "cell_type": "code",
   "execution_count": 0,
   "metadata": {
    "application/vnd.databricks.v1+cell": {
     "cellMetadata": {
      "byteLimit": 2048000,
      "rowLimit": 10000
     },
     "collapsed": true,
     "inputWidgets": {},
     "nuid": "af5a0495-98ea-4756-a0e8-e686b09f584c",
     "showTitle": false,
     "title": ""
    }
   },
   "outputs": [],
   "source": [
    "joined_order_1 = joined_order_1.drop(\"Product Price\", \"Item Name\")"
   ]
  },
  {
   "cell_type": "code",
   "execution_count": 0,
   "metadata": {
    "application/vnd.databricks.v1+cell": {
     "cellMetadata": {
      "byteLimit": 2048000,
      "rowLimit": 10000
     },
     "inputWidgets": {},
     "nuid": "9e20991e-57d9-429c-aea3-41153eb9c3f7",
     "showTitle": false,
     "title": ""
    }
   },
   "outputs": [
    {
     "output_type": "stream",
     "name": "stdout",
     "output_type": "stream",
     "text": [
      "+------------+----------------+--------+--------------+--------------------+-------------+\n|Order Number|      Order Date|Quantity|Total products|           Menu_Item|Correct_Price|\n+------------+----------------+--------+--------------+--------------------+-------------+\n|         630|01/09/2015 14:42|       1|             3|         Onion Bhaji|         3.95|\n|         647|08/09/2015 17:12|       1|             3|         Onion Bhaji|         3.95|\n|         648|08/09/2015 17:31|       1|             1|         Onion Bhaji|         3.95|\n|         651|08/09/2015 17:56|       1|             4|         Onion Bhaji|         3.95|\n|         764|09/09/2015 09:31|       1|             3|         Onion Bhaji|         3.95|\n|         838|09/09/2015 11:28|       1|             4|         Onion Bhaji|         3.95|\n|         840|09/09/2015 11:35|       1|             3|         Onion Bhaji|         3.95|\n|         857|09/09/2015 12:48|       1|             4|         Onion Bhaji|         3.95|\n|         874|09/09/2015 14:41|       1|             3|         Onion Bhaji|         3.95|\n|         894|09/09/2015 15:52|       1|             4|         Onion Bhaji|         3.95|\n|        1212|29/09/2015 15:20|       3|             3|       Chicken Tikka|         3.95|\n|        1212|29/09/2015 15:20|       1|             3|       Chicken Tikka|         3.95|\n|        1212|29/09/2015 15:20|       1|             3|Tandoori Chicken ...|         4.95|\n|        1216|29/09/2015 15:36|       1|             2|       Tandoori Fish|         5.95|\n|        1216|29/09/2015 15:36|       2|             2|    Vegetable Samosa|         4.95|\n|        1219|29/09/2015 16:16|       1|             1|    Vegetable Samosa|         4.95|\n|        1220|30/09/2015 10:36|       1|             3|Tandoori Chicken ...|         4.95|\n|        1220|30/09/2015 10:36|       1|             3|    Vegetable Samosa|         4.95|\n|        1220|30/09/2015 10:36|       1|             3|       Tandoori Fish|         5.95|\n|        1221|30/09/2015 15:38|       1|             6|        Royal Paneer|         5.95|\n+------------+----------------+--------+--------------+--------------------+-------------+\nonly showing top 20 rows\n\n"
     ]
    }
   ],
   "source": [
    "joined_order_1.orderBy(\"Order Number\", ascending=True).show()"
   ]
  },
  {
   "cell_type": "markdown",
   "metadata": {
    "application/vnd.databricks.v1+cell": {
     "cellMetadata": {
      "byteLimit": 2048000,
      "rowLimit": 10000
     },
     "inputWidgets": {},
     "nuid": "e5c4a824-73b0-4799-969f-58bef4356138",
     "showTitle": false,
     "title": ""
    }
   },
   "source": [
    "### Repeating the same processes for restaurant two\n"
   ]
  },
  {
   "cell_type": "code",
   "execution_count": 0,
   "metadata": {
    "application/vnd.databricks.v1+cell": {
     "cellMetadata": {
      "byteLimit": 2048000,
      "rowLimit": 10000
     },
     "inputWidgets": {},
     "nuid": "e82d12d6-6b17-4656-b9fb-ad6aee48bd6e",
     "showTitle": false,
     "title": ""
    }
   },
   "outputs": [
    {
     "output_type": "stream",
     "name": "stdout",
     "output_type": "stream",
     "text": [
      "+--------+----------------+--------------------+--------+-------------+--------------+\n|Order ID|      Order Date|           Item Name|Quantity|Product Price|Total products|\n+--------+----------------+--------------------+--------+-------------+--------------+\n|   25582|03/08/2019 20:33|       Peshwari Naan|       1|         2.95|             5|\n|   25583|03/08/2019 21:58|             Paratha|       1|         2.95|            12|\n|   25582|03/08/2019 20:33|         Bottle Coke|       1|         2.95|             5|\n|   25583|03/08/2019 21:58|Tandoori Mixed Grill|       1|        11.95|            12|\n|   25583|03/08/2019 21:58|       Plain Papadum|       1|          0.8|            12|\n|   25583|03/08/2019 21:58|         Garlic Naan|       1|         2.95|            12|\n|   25583|03/08/2019 21:58|        Madras Sauce|       1|         3.95|            12|\n|   25582|03/08/2019 20:33|          Pilau Rice|       1|         2.95|             5|\n|   25581|03/08/2019 20:01|          Pilau Rice|       1|         2.95|             5|\n|   25581|03/08/2019 20:01|         Saag Paneer|       1|         5.95|             5|\n|   25583|03/08/2019 21:58|       Onion Chutney|       1|          0.5|            12|\n|   25582|03/08/2019 20:33|      Butter Chicken|       1|         8.95|             5|\n|   25581|03/08/2019 20:01|         Onion Bhaji|       1|         3.95|             5|\n|   25583|03/08/2019 21:58|Chicken Tikka Masala|       1|         8.95|            12|\n|   25583|03/08/2019 21:58|       Mango Chutney|       2|          0.5|            12|\n|   25583|03/08/2019 21:58|       Mushroom Rice|       2|         3.95|            12|\n|   25581|03/08/2019 20:01|             Chapati|       1|         1.95|             5|\n|   25582|03/08/2019 20:33|Tandoori King Pra...|       1|        12.95|             5|\n|   25583|03/08/2019 21:58|          Plain Rice|       1|         2.95|            12|\n|   25583|03/08/2019 21:58|          Mint Sauce|       1|          0.5|            12|\n+--------+----------------+--------------------+--------+-------------+--------------+\nonly showing top 20 rows\n\n"
     ]
    }
   ],
   "source": [
    "restaurant_2_orders.show()"
   ]
  },
  {
   "cell_type": "code",
   "execution_count": 0,
   "metadata": {
    "application/vnd.databricks.v1+cell": {
     "cellMetadata": {
      "byteLimit": 2048000,
      "rowLimit": 10000
     },
     "inputWidgets": {},
     "nuid": "fda5eb8d-38dc-41bc-a881-e14c6399e05c",
     "showTitle": false,
     "title": ""
    }
   },
   "outputs": [],
   "source": [
    "actual_orders_2 = restaurant_2_orders.select(\"Item Name\", \"Product Price\")\n",
    "expected_menu_2 = restaurant_2_products_price.select(\"Item Name\", \"Product Price\")\n",
    "actual_orders_2 = actual_orders_2.dropDuplicates()\n",
    "expected_menu_2 = expected_menu_2.dropDuplicates()"
   ]
  },
  {
   "cell_type": "code",
   "execution_count": 0,
   "metadata": {
    "application/vnd.databricks.v1+cell": {
     "cellMetadata": {
      "byteLimit": 2048000,
      "rowLimit": 10000
     },
     "inputWidgets": {},
     "nuid": "c5087312-114b-46d9-a48c-96730e76e37f",
     "showTitle": false,
     "title": ""
    }
   },
   "outputs": [
    {
     "output_type": "stream",
     "name": "stdout",
     "output_type": "stream",
     "text": [
      "+------------------+--------------+\n|         Item Name|Mistaken Price|\n+------------------+--------------+\n|   Vindaloo - lamb|          7.95|\n|Vindaloo - chicken|          7.95|\n|     Madras - lamb|          7.95|\n|  Madras - chicken|          7.95|\n|      Curry - lamb|          7.95|\n|   Curry - chicken|          7.95|\n|      Korma - lamb|          8.95|\n|      Bhuna - lamb|          8.95|\n|  Pathia - chicken|          8.95|\n|   Cylon - chicken|          8.95|\n|     Curry - prawn|          8.95|\n|Mushroom - chicken|          8.95|\n|   Mushroom - lamb|          8.95|\n|   Methi - chicken|          8.95|\n|    Dupiaza - lamb|          8.95|\n|    Dhansak - lamb|          8.95|\n|       Saag - lamb|          8.95|\n| Dupiaza - chicken|          8.95|\n|   Rogon - chicken|          8.95|\n|      Rogon - lamb|          8.95|\n+------------------+--------------+\nonly showing top 20 rows\n\n"
     ]
    }
   ],
   "source": [
    "mistaken_items_2 = actual_orders_2.subtract(expected_menu_2)\n",
    "mistaken_items_2 = mistaken_items_2.withColumnRenamed(\"Product Price\", \"Mistaken Price\")\n",
    "mistaken_items_2.show()"
   ]
  },
  {
   "cell_type": "code",
   "execution_count": 0,
   "metadata": {
    "application/vnd.databricks.v1+cell": {
     "cellMetadata": {
      "byteLimit": 2048000,
      "rowLimit": 10000
     },
     "inputWidgets": {},
     "nuid": "0571c5f2-4d96-4b3e-b16c-575f2fa880eb",
     "showTitle": false,
     "title": ""
    }
   },
   "outputs": [
    {
     "output_type": "display_data",
     "data": {
      "text/html": [
       "<style scoped>\n",
       "  .table-result-container {\n",
       "    max-height: 300px;\n",
       "    overflow: auto;\n",
       "  }\n",
       "  table, th, td {\n",
       "    border: 1px solid black;\n",
       "    border-collapse: collapse;\n",
       "  }\n",
       "  th, td {\n",
       "    padding: 5px;\n",
       "  }\n",
       "  th {\n",
       "    text-align: left;\n",
       "  }\n",
       "</style><div class='table-result-container'><table class='table-result'><thead style='background-color: white'><tr><th>Item Name</th><th>Mistaken Price</th><th>Actual Price</th></tr></thead><tbody><tr><td>Mushroom</td><td>12.95</td><td>8.95</td></tr><tr><td>Pathia</td><td>12.95</td><td>8.95</td></tr><tr><td>Rogon</td><td>9.95</td><td>8.95</td></tr><tr><td>Bhuna</td><td>9.95</td><td>8.95</td></tr><tr><td>Saag</td><td>12.95</td><td>8.95</td></tr><tr><td>Dhansak</td><td>12.95</td><td>8.95</td></tr><tr><td>Korma</td><td>9.95</td><td>8.95</td></tr><tr><td>Dupiaza</td><td>9.95</td><td>8.95</td></tr><tr><td>Madras</td><td>11.95</td><td>7.95</td></tr><tr><td>Korma</td><td>12.95</td><td>8.95</td></tr><tr><td>Bhuna</td><td>12.95</td><td>8.95</td></tr><tr><td>Bombay</td><td>9.95</td><td>8.95</td></tr><tr><td>Kurma</td><td>9.95</td><td>8.95</td></tr><tr><td>Saag</td><td>9.95</td><td>8.95</td></tr><tr><td>Dhansak</td><td>9.95</td><td>8.95</td></tr><tr><td>Curry</td><td>11.95</td><td>7.95</td></tr><tr><td>Dupiaza</td><td>12.95</td><td>8.95</td></tr><tr><td>Malaya</td><td>9.95</td><td>8.95</td></tr><tr><td>Vindaloo</td><td>11.95</td><td>7.95</td></tr><tr><td>Kurma</td><td>12.95</td><td>8.95</td></tr><tr><td>Curry</td><td>8.95</td><td>7.95</td></tr><tr><td>Vindaloo</td><td>8.95</td><td>7.95</td></tr><tr><td>Pathia</td><td>9.95</td><td>8.95</td></tr><tr><td>Madras</td><td>8.95</td><td>7.95</td></tr></tbody></table></div>"
      ]
     },
     "metadata": {
      "application/vnd.databricks.v1+output": {
       "addedWidgets": {},
       "aggData": [],
       "aggError": "",
       "aggOverflow": false,
       "aggSchema": [],
       "aggSeriesLimitReached": false,
       "aggType": "",
       "arguments": {},
       "columnCustomDisplayInfos": {},
       "data": [
        [
         "Mushroom",
         12.95,
         8.95
        ],
        [
         "Pathia",
         12.95,
         8.95
        ],
        [
         "Rogon",
         9.95,
         8.95
        ],
        [
         "Bhuna",
         9.95,
         8.95
        ],
        [
         "Saag",
         12.95,
         8.95
        ],
        [
         "Dhansak",
         12.95,
         8.95
        ],
        [
         "Korma",
         9.95,
         8.95
        ],
        [
         "Dupiaza",
         9.95,
         8.95
        ],
        [
         "Madras",
         11.95,
         7.95
        ],
        [
         "Korma",
         12.95,
         8.95
        ],
        [
         "Bhuna",
         12.95,
         8.95
        ],
        [
         "Bombay",
         9.95,
         8.95
        ],
        [
         "Kurma",
         9.95,
         8.95
        ],
        [
         "Saag",
         9.95,
         8.95
        ],
        [
         "Dhansak",
         9.95,
         8.95
        ],
        [
         "Curry",
         11.95,
         7.95
        ],
        [
         "Dupiaza",
         12.95,
         8.95
        ],
        [
         "Malaya",
         9.95,
         8.95
        ],
        [
         "Vindaloo",
         11.95,
         7.95
        ],
        [
         "Kurma",
         12.95,
         8.95
        ],
        [
         "Curry",
         8.95,
         7.95
        ],
        [
         "Vindaloo",
         8.95,
         7.95
        ],
        [
         "Pathia",
         9.95,
         8.95
        ],
        [
         "Madras",
         8.95,
         7.95
        ]
       ],
       "datasetInfos": [],
       "dbfsResultPath": null,
       "isJsonSchema": true,
       "metadata": {},
       "overflow": false,
       "plotOptions": {
        "customPlotOptions": {},
        "displayType": "table",
        "pivotAggregation": null,
        "pivotColumns": null,
        "xColumns": null,
        "yColumns": null
       },
       "removedWidgets": [],
       "schema": [
        {
         "metadata": "{}",
         "name": "Item Name",
         "type": "\"string\""
        },
        {
         "metadata": "{}",
         "name": "Mistaken Price",
         "type": "\"double\""
        },
        {
         "metadata": "{}",
         "name": "Actual Price",
         "type": "\"double\""
        }
       ],
       "type": "table"
      }
     },
     "output_type": "display_data"
    }
   ],
   "source": [
    "expected_menu_2 = expected_menu_2.withColumnRenamed(\"Item Name\", \"Drop\").withColumnRenamed(\"Product Price\", \"Actual Price\")\n",
    "df2 = mistaken_items_2.join(expected_menu_2, mistaken_items_2[\"Item Name\"] == expected_menu_2[\"Drop\"], \"inner\")\n",
    "df2 = df2.drop(\"Drop\")\n",
    "display(df2)"
   ]
  },
  {
   "cell_type": "code",
   "execution_count": 0,
   "metadata": {
    "application/vnd.databricks.v1+cell": {
     "cellMetadata": {
      "byteLimit": 2048000,
      "rowLimit": 10000
     },
     "inputWidgets": {},
     "nuid": "573b5c3a-6677-46c4-a7ec-fd0d6d996897",
     "showTitle": false,
     "title": ""
    }
   },
   "outputs": [
    {
     "output_type": "stream",
     "name": "stdout",
     "output_type": "stream",
     "text": [
      "+--------+----------------+--------+--------------+--------------------+-------------+\n|Order ID|      Order Date|Quantity|Total products|           Menu_Item|Correct_Price|\n+--------+----------------+--------+--------------+--------------------+-------------+\n|    2096|16/12/2015 19:14|       1|             8|Chicken Tikka Jal...|         8.95|\n|    2096|16/12/2015 19:14|       1|             8|          Plain Rice|         2.95|\n|    2096|16/12/2015 19:14|       1|             8|         Kulcha Naan|         2.95|\n|    2096|16/12/2015 19:14|       1|             8|           Aloo Gobi|         5.95|\n|    2096|16/12/2015 19:14|       1|             8|          Keema Naan|         2.95|\n|    2096|16/12/2015 19:14|       1|             8|         Bombay Aloo|         5.95|\n|    2096|16/12/2015 19:14|       1|             8|       Peshwari Naan|         2.95|\n|    4487|27/05/2016 16:42|       1|            10|          Mint Sauce|          0.5|\n|    4487|27/05/2016 16:42|       1|            10|         Bombay Aloo|         5.95|\n|    4487|27/05/2016 16:42|       1|            10|       Mango Chutney|          0.5|\n|    4487|27/05/2016 16:42|       1|            10|    Tandoori Chicken|         4.95|\n|    4487|27/05/2016 16:42|       1|            10|               Curry|         7.95|\n|    4487|27/05/2016 16:42|       1|            10|         Lime Pickle|          0.5|\n|    4487|27/05/2016 16:42|       1|            10|          Lemon Rice|         3.95|\n|    4487|27/05/2016 16:42|       4|            10|       Plain Papadum|          0.8|\n|    4487|27/05/2016 16:42|       1|            10|       Onion Chutney|          0.5|\n|    4487|27/05/2016 16:42|       1|            10|Tandoori Fish Karahi|        11.95|\n|    4488|27/05/2016 17:19|       1|             5|      Butter Chicken|         8.95|\n|    4488|27/05/2016 17:19|       1|             5|         Saag Paneer|         5.95|\n|    4488|27/05/2016 17:19|       2|             5|       Mushroom Rice|         3.95|\n+--------+----------------+--------+--------------+--------------------+-------------+\nonly showing top 20 rows\n\n"
     ]
    }
   ],
   "source": [
    "restaurant_2_products_price = restaurant_2_products_price.withColumnRenamed(\"Item Name\", \"Menu_Item\").withColumnRenamed(\"Product Price\", \"Correct_Price\")\n",
    "joined_order_2 = restaurant_2_orders.join(restaurant_2_products_price, restaurant_2_orders[\"Item Name\"] == restaurant_2_products_price[\"Menu_Item\"], \"inner\")\n",
    "joined_order_2 = joined_order_2.drop(\"Product Price\", \"Item Name\") \n",
    "joined_order_2.orderBy(\"Order ID\", ascending=True).show()"
   ]
  },
  {
   "cell_type": "markdown",
   "metadata": {
    "application/vnd.databricks.v1+cell": {
     "cellMetadata": {
      "byteLimit": 2048000,
      "rowLimit": 10000
     },
     "inputWidgets": {},
     "nuid": "dce0c2e3-9afe-43e4-9e8a-60c15afb5490",
     "showTitle": false,
     "title": ""
    }
   },
   "source": [
    "### Data Exploration and Analysis - Which Curries, Startes and Drinks are most popular at each restaurant\n"
   ]
  },
  {
   "cell_type": "code",
   "execution_count": 0,
   "metadata": {
    "application/vnd.databricks.v1+cell": {
     "cellMetadata": {
      "byteLimit": 2048000,
      "rowLimit": 10000
     },
     "inputWidgets": {},
     "nuid": "cebce749-f020-46fe-9a04-b1fd02032400",
     "showTitle": false,
     "title": ""
    }
   },
   "outputs": [
    {
     "output_type": "stream",
     "name": "stdout",
     "output_type": "stream",
     "text": [
      "+--------+----------------+--------+--------------+--------------------+-------------+------------------+\n|Order ID|      Order Date|Quantity|Total products|           Menu_Item|Correct_Price|        Total_Paid|\n+--------+----------------+--------+--------------+--------------------+-------------+------------------+\n|   24419|08/06/2019 16:22|       7|            11| King Prawn Shaslick|        12.95| 90.64999999999999|\n|   13900|07/01/2018 15:57|       7|             1|  Sheek Kebab (Main)|         8.95| 62.64999999999999|\n|   23349|19/04/2019 19:25|       6|             4|Chicken Tikka (Main)|         8.95|53.699999999999996|\n|   18847|17/09/2018 14:55|       5|             1|     Chicken Biryani|         9.95|             49.75|\n|    5410|02/09/2016 17:35|       4|             2|Tandoori Mixed Grill|        11.95|              47.8|\n|    8256|18/02/2017 20:52|       4|             3|Tandoori Mixed Grill|        11.95|              47.8|\n|   19994|09/11/2018 18:27|       4|             3|Tandoori Mixed Grill|        11.95|              47.8|\n|    4903|29/07/2016 17:42|       4|             2|Tandoori Mixed Grill|        11.95|              47.8|\n|    4873|27/07/2016 18:02|       4|             2|Tandoori Mixed Grill|        11.95|              47.8|\n|   17904|03/08/2018 19:21|       5|             6|Chicken Tikka (Main)|         8.95|             44.75|\n|   19998|09/11/2018 18:54|       5|             8|Tandoori Chicken ...|         8.95|             44.75|\n|   21512|25/01/2019 18:13|       5|             8|Chicken Tikka (Main)|         8.95|             44.75|\n|   16912|09/06/2018 17:53|       5|            12|Chicken Tikka (Main)|         8.95|             44.75|\n|   20488|07/12/2018 17:45|       5|            13|Chicken Tikka (Main)|         8.95|             44.75|\n|   21643|31/01/2019 19:10|       5|             8|Chicken Tikka (Main)|         8.95|             44.75|\n|   20407|01/12/2018 18:10|       5|            10|Chicken Tikka (Main)|         8.95|             44.75|\n|   14313|29/01/2018 18:53|       5|             7|Chicken Tikka Masala|         8.95|             44.75|\n|   23442|24/04/2019 18:42|       5|            10|Chicken Tikka (Main)|         8.95|             44.75|\n|   22606|15/03/2019 19:38|       5|             9|Chicken Tikka (Main)|         8.95|             44.75|\n|   17250|27/06/2018 18:51|       5|            10|Chicken Tikka (Main)|         8.95|             44.75|\n+--------+----------------+--------+--------------+--------------------+-------------+------------------+\nonly showing top 20 rows\n\n+------------+----------------+--------+--------------+--------------------+-------------+------------------+\n|Order Number|      Order Date|Quantity|Total products|           Menu_Item|Correct_Price|        Total_Paid|\n+------------+----------------+--------+--------------+--------------------+-------------+------------------+\n|       15840|18/07/2019 18:38|      51|             1| King Prawn Shaslick|        12.95| 660.4499999999999|\n|        6769|18/09/2017 16:54|      25|             8|Chicken Tikka Masala|         8.95|223.74999999999997|\n|        6769|18/09/2017 16:54|      25|             8|               Korma|         8.95|223.74999999999997|\n|        6769|18/09/2017 16:54|      20|             8|     Chicken Biryani|         9.95|             199.0|\n|        6769|18/09/2017 16:54|      20|             8|   Vegetable Biryani|         9.95|             199.0|\n|        6769|18/09/2017 16:54|      20|             8| Paneer Tikka Masala|         8.95|             179.0|\n|        6769|18/09/2017 16:54|      20|             8|          Tarka Dall|         5.95|             119.0|\n|        6768|18/09/2017 16:33|      20|             9|        Royal Paneer|         5.95|             119.0|\n|        6768|18/09/2017 16:33|      20|             9|         Meat Samosa|         3.95|              79.0|\n|        6768|18/09/2017 16:33|      20|             9|        Onion Bhajee|         3.95|              79.0|\n|        6768|18/09/2017 16:33|      20|             9|     Stuffed Paratha|         3.95|              79.0|\n|        6768|18/09/2017 16:33|      30|             9|          Plain Naan|          2.6|              78.0|\n|        6768|18/09/2017 16:33|      15|             9|         Sheek Kebab|         4.95|             74.25|\n|       11918|07/11/2018 17:53|       4|             2| House Red wine 75cl|        17.95|              71.8|\n|        6168|25/07/2017 11:47|       8|             6|               Rogon|         8.95|              71.6|\n|       15372|16/06/2019 18:17|       6|             5|      Butter Chicken|         9.95|59.699999999999996|\n|       12369|07/12/2018 21:36|       6|             3|     Chicken Biryani|         9.95|59.699999999999996|\n|        6768|18/09/2017 16:33|      20|             9|             Paratha|         2.95|              59.0|\n|        6768|18/09/2017 16:33|      20|             9|              Raitha|         2.95|              59.0|\n|        6768|18/09/2017 16:33|      20|             9|         Green Salad|         2.95|              59.0|\n+------------+----------------+--------+--------------+--------------------+-------------+------------------+\nonly showing top 20 rows\n\n"
     ]
    }
   ],
   "source": [
    "joined_order_2 = joined_order_2.withColumn(\"Total_Paid\", joined_order_2.Quantity * joined_order_2.Correct_Price)\n",
    "joined_order_2.orderBy(\"Total_Paid\", ascending=False).show()\n",
    "joined_order_1 = joined_order_1.withColumn(\"Total_Paid\", joined_order_1.Quantity * joined_order_1.Correct_Price)\n",
    "joined_order_1.orderBy(\"Total_Paid\", ascending=False).show()"
   ]
  },
  {
   "cell_type": "markdown",
   "metadata": {
    "application/vnd.databricks.v1+cell": {
     "cellMetadata": {},
     "inputWidgets": {},
     "nuid": "d62f3ee1-acde-4f88-bbf5-a6701594b0b4",
     "showTitle": false,
     "title": ""
    }
   },
   "source": [
    "- problems with restaurant 1, orders of 51 King prawn shashlicks, 6769 has ordered 130 curries. Removal of some Order Numbers is in order. "
   ]
  },
  {
   "cell_type": "code",
   "execution_count": 0,
   "metadata": {
    "application/vnd.databricks.v1+cell": {
     "cellMetadata": {
      "byteLimit": 2048000,
      "rowLimit": 10000
     },
     "inputWidgets": {},
     "nuid": "bfe7ecd3-a9da-43c4-9e0e-1e298405ed26",
     "showTitle": false,
     "title": ""
    }
   },
   "outputs": [
    {
     "output_type": "stream",
     "name": "stdout",
     "output_type": "stream",
     "text": [
      "+--------+------------------------+\n|Order ID|Overall Paid By Order ID|\n+--------+------------------------+\n|    7952|                   283.3|\n|   13246|                   234.5|\n|   19569|      183.65000000000003|\n|   22328|      182.35000000000002|\n|   14224|                  177.55|\n|   24856|      175.95000000000002|\n|   21984|                  171.05|\n|    5170|      167.60000000000002|\n|   24855|                   167.0|\n|   24419|                   161.1|\n|   19962|      160.60000000000002|\n|   11656|                  158.45|\n|   17705|      158.20000000000002|\n|    5429|                   158.0|\n|    9511|                  157.05|\n|   24878|                  155.25|\n|   19563|      154.35000000000002|\n|   21228|      151.10000000000002|\n|   17228|                   149.7|\n|   16495|                  149.05|\n+--------+------------------------+\nonly showing top 20 rows\n\n"
     ]
    }
   ],
   "source": [
    "from pyspark.sql.functions import sum\n",
    "joined_order_2.groupBy(\"Order ID\").agg(sum(\"Total_Paid\").alias(\"Overall Paid By Order ID\")).orderBy(\"Overall Paid By Order ID\", ascending = False).show()\n",
    "## Order IDs with the most money spent in restaurant 2"
   ]
  },
  {
   "cell_type": "code",
   "execution_count": 0,
   "metadata": {
    "application/vnd.databricks.v1+cell": {
     "cellMetadata": {
      "byteLimit": 2048000,
      "rowLimit": 10000
     },
     "inputWidgets": {},
     "nuid": "e8b027ef-8dc7-4e29-90da-79fb5b29e4b2",
     "showTitle": false,
     "title": ""
    }
   },
   "outputs": [
    {
     "output_type": "stream",
     "name": "stdout",
     "output_type": "stream",
     "text": [
      "+--------------------+-----------------------------+\n|           Menu_Item|Total Paid for each Menu Item|\n+--------------------+-----------------------------+\n|Chicken Tikka Masala|            35522.55000000035|\n|          Pilau Rice|            34668.40000000031|\n|         Bombay Aloo|            25799.19999999997|\n|                Naan|                      21817.5|\n|               Korma|           17533.049999999836|\n|         Onion Bhaji|           15661.749999999676|\n|      Butter Chicken|            15143.39999999987|\n|              Madras|           14914.199999999848|\n|       Plain Papadum|           14443.200000000055|\n|         Garlic Naan|            14177.69999999972|\n|       Mushroom Rice|           13524.799999999781|\n|Chicken Tikka (Main)|           13514.499999999898|\n|Tandoori Mixed Grill|           13503.499999999916|\n|           Saag Aloo|            12429.54999999985|\n|     Korma - Chicken|           10874.249999999949|\n|     Chicken Biryani|           10656.449999999953|\n|          Plain Rice|           10416.449999999899|\n|               Curry|            8903.999999999967|\n|          Keema Naan|            8366.199999999957|\n|        Lamb Biryani|            7930.149999999991|\n+--------------------+-----------------------------+\nonly showing top 20 rows\n\n"
     ]
    }
   ],
   "source": [
    "joined_order_2.groupBy(\"Menu_Item\").agg(sum(\"Total_Paid\").alias(\"Total Paid for each Menu Item\")).orderBy(\"Total Paid for each Menu Item\", ascending = False).show()"
   ]
  },
  {
   "cell_type": "code",
   "execution_count": 0,
   "metadata": {
    "application/vnd.databricks.v1+cell": {
     "cellMetadata": {
      "byteLimit": 2048000,
      "rowLimit": 10000
     },
     "inputWidgets": {},
     "nuid": "ad9032d2-8193-461b-8e61-07330af97c5f",
     "showTitle": false,
     "title": ""
    }
   },
   "outputs": [
    {
     "output_type": "stream",
     "name": "stdout",
     "output_type": "stream",
     "text": [
      "Out[84]: [Row(Menu_Item='Mint Sauce', Correct_Price=0.5),\n Row(Menu_Item='Lime Pickle', Correct_Price=0.5),\n Row(Menu_Item='Mango Chutney', Correct_Price=0.5),\n Row(Menu_Item='Red Sauce', Correct_Price=0.5),\n Row(Menu_Item='Onion Chutney', Correct_Price=0.5),\n Row(Menu_Item='Plain Papadum', Correct_Price=0.8),\n Row(Menu_Item='Spicy Papadum', Correct_Price=0.8),\n Row(Menu_Item='Chapati', Correct_Price=1.95),\n Row(Menu_Item='Puree', Correct_Price=1.95),\n Row(Menu_Item='Tandoori Roti', Correct_Price=2.6),\n Row(Menu_Item='Plain Naan', Correct_Price=2.6),\n Row(Menu_Item='Raitha', Correct_Price=2.95),\n Row(Menu_Item='Keema Naan', Correct_Price=2.95),\n Row(Menu_Item='Peshwari Naan', Correct_Price=2.95),\n Row(Menu_Item='Pilau Rice', Correct_Price=2.95),\n Row(Menu_Item='Green Salad', Correct_Price=2.95),\n Row(Menu_Item='Bottle Coke', Correct_Price=2.95),\n Row(Menu_Item='Plain Rice', Correct_Price=2.95),\n Row(Menu_Item='Garlic Naan', Correct_Price=2.95),\n Row(Menu_Item='Onion Naan', Correct_Price=2.95),\n Row(Menu_Item='Paratha', Correct_Price=2.95),\n Row(Menu_Item='Bottle Diet Coke', Correct_Price=2.95),\n Row(Menu_Item='Kulcha Naan', Correct_Price=2.95),\n Row(Menu_Item='Lemonade 1.5 ltr', Correct_Price=2.95),\n Row(Menu_Item='Diet Coke 1.5 ltr', Correct_Price=2.95),\n Row(Menu_Item='Coke 1.5 ltr', Correct_Price=2.95),\n Row(Menu_Item='Dhansak Sauce', Correct_Price=3.95),\n Row(Menu_Item='Onion Bhajee', Correct_Price=3.95),\n Row(Menu_Item='Lemon Rice', Correct_Price=3.95),\n Row(Menu_Item='French Fries', Correct_Price=3.95),\n Row(Menu_Item='Garlic Rice', Correct_Price=3.95),\n Row(Menu_Item='Onion Rice', Correct_Price=3.95),\n Row(Menu_Item='Perrier Water (750ml)', Correct_Price=3.95),\n Row(Menu_Item='Special Fried Rice', Correct_Price=3.95),\n Row(Menu_Item='Meat Samosa', Correct_Price=3.95),\n Row(Menu_Item='Mushroom Rice', Correct_Price=3.95),\n Row(Menu_Item='Korma Sauce', Correct_Price=3.95),\n Row(Menu_Item='Vegetable Rice', Correct_Price=3.95),\n Row(Menu_Item='Egg Rice', Correct_Price=3.95),\n Row(Menu_Item='Curry Sauce', Correct_Price=3.95),\n Row(Menu_Item='Egg Paratha', Correct_Price=3.95),\n Row(Menu_Item='Keema Rice', Correct_Price=3.95),\n Row(Menu_Item='Stuffed Paratha', Correct_Price=3.95),\n Row(Menu_Item='COBRA (330ML)', Correct_Price=3.95),\n Row(Menu_Item='Saag Rice', Correct_Price=3.95),\n Row(Menu_Item='Masala Sauce', Correct_Price=3.95),\n Row(Menu_Item='Madras Sauce', Correct_Price=3.95),\n Row(Menu_Item='Vindaloo Sauce', Correct_Price=3.95),\n Row(Menu_Item='Bengal Salad', Correct_Price=3.95),\n Row(Menu_Item='Still Water (750ml)', Correct_Price=3.95),\n Row(Menu_Item='Prier Water (750ml)', Correct_Price=3.95),\n Row(Menu_Item='Onion Bhaji', Correct_Price=3.95),\n Row(Menu_Item='Chicken Tikka', Correct_Price=3.95),\n Row(Menu_Item='Aloo Chaat', Correct_Price=4.95),\n Row(Menu_Item='Tandoori Chicken (1/4)', Correct_Price=4.95),\n Row(Menu_Item='Chicken Chaat', Correct_Price=4.95),\n Row(Menu_Item='Prawn Puree', Correct_Price=4.95),\n Row(Menu_Item='Lamb Tikka', Correct_Price=4.95),\n Row(Menu_Item='Vegetable Roll', Correct_Price=4.95),\n Row(Menu_Item='Sheek Kebab', Correct_Price=4.95),\n Row(Menu_Item='Sheek Kehab', Correct_Price=4.95),\n Row(Menu_Item='Vegetable Samosa', Correct_Price=4.95),\n Row(Menu_Item='King Prawn Puree', Correct_Price=5.95),\n Row(Menu_Item='Bhindi Bhajee', Correct_Price=5.95),\n Row(Menu_Item='Tarka Dall', Correct_Price=5.95),\n Row(Menu_Item='Saag Paneer', Correct_Price=5.95),\n Row(Menu_Item='Baingan Hari Mirch', Correct_Price=5.95),\n Row(Menu_Item='Chicken Pakora', Correct_Price=5.95),\n Row(Menu_Item='COBRA ( LARGE )', Correct_Price=5.95),\n Row(Menu_Item='Royal Paneer', Correct_Price=5.95),\n Row(Menu_Item='Muttar Paneer', Correct_Price=5.95),\n Row(Menu_Item='Chana Masala', Correct_Price=5.95),\n Row(Menu_Item='Bombay Aloo', Correct_Price=5.95),\n Row(Menu_Item='Saag Aloo', Correct_Price=5.95),\n Row(Menu_Item='Aloo Methi', Correct_Price=5.95),\n Row(Menu_Item='Saag Bhajee', Correct_Price=5.95),\n Row(Menu_Item='Cauliflower Bhajee', Correct_Price=5.95),\n Row(Menu_Item='Saag Dall', Correct_Price=5.95),\n Row(Menu_Item='Aloo Gobi', Correct_Price=5.95),\n Row(Menu_Item='Mixed Vegetable Curry', Correct_Price=5.95),\n Row(Menu_Item='Mushroom Bhajee', Correct_Price=5.95),\n Row(Menu_Item='Mixed Starter', Correct_Price=5.95),\n Row(Menu_Item='Tandoori Fish', Correct_Price=5.95),\n Row(Menu_Item='Brinjal Bhajee', Correct_Price=5.95),\n Row(Menu_Item='Vegetable Mysore', Correct_Price=5.95),\n Row(Menu_Item='King Prawn Butterfly', Correct_Price=5.95),\n Row(Menu_Item='Dall Samba', Correct_Price=5.95),\n Row(Menu_Item='COBRA (660ML)', Correct_Price=5.95),\n Row(Menu_Item='Chicken Chaat Main', Correct_Price=7.9),\n Row(Menu_Item='Madras - Chicken', Correct_Price=7.95),\n Row(Menu_Item='Madras - Lamb', Correct_Price=7.95),\n Row(Menu_Item='Curry - Chicken', Correct_Price=7.95),\n Row(Menu_Item='Vindaloo - Chicken', Correct_Price=7.95),\n Row(Menu_Item='Madras - Chicken Tikka', Correct_Price=7.95),\n Row(Menu_Item='Curry - Lamb', Correct_Price=7.95),\n Row(Menu_Item='Curry - Chicken Tikka', Correct_Price=7.95),\n Row(Menu_Item='Vindaloo - Chicken Tikka', Correct_Price=7.95),\n Row(Menu_Item='Vindaloo - Lamb', Correct_Price=7.95),\n Row(Menu_Item='Madras', Correct_Price=7.95),\n Row(Menu_Item='Curry', Correct_Price=7.95),\n Row(Menu_Item='Vindaloo', Correct_Price=7.95),\n Row(Menu_Item='Korma - Chicken', Correct_Price=8.95),\n Row(Menu_Item='Chicken Tikka Masala', Correct_Price=8.95),\n Row(Menu_Item='Pathia - Chicken Tikka', Correct_Price=8.95),\n Row(Menu_Item='Chicken Tikka Jalfrezi', Correct_Price=8.95),\n Row(Menu_Item='Methi - Lamb', Correct_Price=8.95),\n Row(Menu_Item='Tandoori Chicken (Main)', Correct_Price=8.95),\n Row(Menu_Item='Bhuna - Chicken', Correct_Price=8.95),\n Row(Menu_Item='Korma - Chicken Tikka', Correct_Price=8.95),\n Row(Menu_Item='Chicken Tikka (Main)', Correct_Price=8.95),\n Row(Menu_Item='Paneer Tikka Masala', Correct_Price=8.95),\n Row(Menu_Item='Dupiaza - Chicken', Correct_Price=8.95),\n Row(Menu_Item='Bhuna - Chicken Tikka', Correct_Price=8.95),\n Row(Menu_Item='Pathia - Lamb', Correct_Price=8.95),\n Row(Menu_Item='Chicken Karahi', Correct_Price=8.95),\n Row(Menu_Item='Bhuna - Lamb', Correct_Price=8.95),\n Row(Menu_Item='Dhansak - Chicken Tikka', Correct_Price=8.95),\n Row(Menu_Item='Dhansak - Chicken', Correct_Price=8.95),\n Row(Menu_Item='Rogon - Lamb', Correct_Price=8.95),\n Row(Menu_Item='Chicken Tikka Pasanda', Correct_Price=8.95),\n Row(Menu_Item='Pathia - Chicken', Correct_Price=8.95),\n Row(Menu_Item='Lamb Tikka Masala', Correct_Price=8.95),\n Row(Menu_Item='Lamb Tikka Jalfrezi', Correct_Price=8.95),\n Row(Menu_Item='Lamb Karahi', Correct_Price=8.95),\n Row(Menu_Item='Madras - Prawn', Correct_Price=8.95),\n Row(Menu_Item='Lamb Tikka (Main)', Correct_Price=8.95),\n Row(Menu_Item='Lamb Tikka Pasanda', Correct_Price=8.95),\n Row(Menu_Item='Lamb Tikka Garlic', Correct_Price=8.95),\n Row(Menu_Item='Chicken Tikka Garlic', Correct_Price=8.95),\n Row(Menu_Item='Chicken Tikka Chilli Masala', Correct_Price=8.95),\n Row(Menu_Item='Dupiaza - Chicken Tikka', Correct_Price=8.95),\n Row(Menu_Item='Mushroom - Chicken', Correct_Price=8.95),\n Row(Menu_Item='Dhansak - Lamb', Correct_Price=8.95),\n Row(Menu_Item='Sheek Kebab (Main)', Correct_Price=8.95),\n Row(Menu_Item='Saag - Chicken', Correct_Price=8.95),\n Row(Menu_Item='Tandoori Chicken Masala', Correct_Price=8.95),\n Row(Menu_Item='Saag - Chicken Tikka', Correct_Price=8.95),\n Row(Menu_Item='Dupiaza - Lamb', Correct_Price=8.95),\n Row(Menu_Item='Curry - Prawn', Correct_Price=8.95),\n Row(Menu_Item='Saag - Lamb', Correct_Price=8.95),\n Row(Menu_Item='Korma - Lamb', Correct_Price=8.95),\n Row(Menu_Item='Mushroom - Lamb', Correct_Price=8.95),\n Row(Menu_Item='Rogon - Chicken Tikka', Correct_Price=8.95),\n Row(Menu_Item='Lamb Tikka Chilli Masala', Correct_Price=8.95),\n Row(Menu_Item='Vindaloo - Prawn', Correct_Price=8.95),\n Row(Menu_Item='Methi - Chicken Tikka', Correct_Price=8.95),\n Row(Menu_Item='Vegetable Karahi', Correct_Price=8.95),\n Row(Menu_Item='Rogon - Chicken', Correct_Price=8.95),\n Row(Menu_Item='Mushroom - Chicken Tikka', Correct_Price=8.95),\n Row(Menu_Item='Methi - Chicken', Correct_Price=8.95),\n Row(Menu_Item='Lamb Tikka Jeera', Correct_Price=8.95),\n Row(Menu_Item='Chicken Tikka Jeera', Correct_Price=8.95),\n Row(Menu_Item='Bhuna', Correct_Price=8.95),\n Row(Menu_Item='Saag', Correct_Price=8.95),\n Row(Menu_Item='Dhansak', Correct_Price=8.95),\n Row(Menu_Item='Pathia', Correct_Price=8.95),\n Row(Menu_Item='Korma', Correct_Price=8.95),\n Row(Menu_Item='Dupiaza', Correct_Price=8.95),\n Row(Menu_Item='Methi', Correct_Price=8.95),\n Row(Menu_Item='Rogon', Correct_Price=8.95),\n Row(Menu_Item='Mushroom', Correct_Price=8.95),\n Row(Menu_Item='Tandoori Chicken', Correct_Price=8.95),\n Row(Menu_Item='Chicken Shashlick', Correct_Price=9.95),\n Row(Menu_Item='Chicken Roshni', Correct_Price=9.95),\n Row(Menu_Item='Chicken Balti', Correct_Price=9.95),\n Row(Menu_Item='Lamb Balti', Correct_Price=9.95),\n Row(Menu_Item='Butter Chicken', Correct_Price=9.95),\n Row(Menu_Item='Lamb Hari Mirch', Correct_Price=9.95),\n Row(Menu_Item='Chicken Chilli Garlic', Correct_Price=9.95),\n Row(Menu_Item='Lamb Biryani', Correct_Price=9.95),\n Row(Menu_Item='Vegetable Biryani', Correct_Price=9.95),\n Row(Menu_Item='Chicken Rezala', Correct_Price=9.95),\n Row(Menu_Item='Lamb Rezala', Correct_Price=9.95),\n Row(Menu_Item='Chicken Tikka Karahi', Correct_Price=9.95),\n Row(Menu_Item='Chicken Hari Mirch', Correct_Price=9.95),\n Row(Menu_Item='Chicken Biryani', Correct_Price=9.95),\n Row(Menu_Item='Lamb Shashlick', Correct_Price=9.95),\n Row(Menu_Item='Bhuna - Prawn', Correct_Price=9.95),\n Row(Menu_Item='Chicken Haryali', Correct_Price=9.95),\n Row(Menu_Item='Lamb Chilli Garlic', Correct_Price=9.95),\n Row(Menu_Item='Paneer Shaslick', Correct_Price=9.95),\n Row(Menu_Item='Chicken Mysore', Correct_Price=9.95),\n Row(Menu_Item='Paneer Tikka Karahi', Correct_Price=9.95),\n Row(Menu_Item='Lamb Achar', Correct_Price=9.95),\n Row(Menu_Item='Paneer Tikka Sizzler', Correct_Price=9.95),\n Row(Menu_Item='Chicken Tikka Sizzler', Correct_Price=9.95),\n Row(Menu_Item='Lal Mirch Chicken', Correct_Price=9.95),\n Row(Menu_Item='Lamb Tikka Karahi', Correct_Price=9.95),\n Row(Menu_Item='Prawn Karahi', Correct_Price=9.95),\n Row(Menu_Item='Lal Mirch Lamb', Correct_Price=9.95),\n Row(Menu_Item='Korma - Prawn', Correct_Price=9.95),\n Row(Menu_Item='Lamb Haryali', Correct_Price=9.95),\n Row(Menu_Item='Lamb Sylhet', Correct_Price=9.95),\n Row(Menu_Item='Vegetable Balti', Correct_Price=9.95),\n Row(Menu_Item='Dhansak - Prawn', Correct_Price=9.95),\n Row(Menu_Item='Lamb Mysore', Correct_Price=9.95),\n Row(Menu_Item='Chicken Sylhet', Correct_Price=9.95),\n Row(Menu_Item='Lamb Tikka Sizzler', Correct_Price=9.95),\n Row(Menu_Item='Pathia - Prawn', Correct_Price=9.95),\n Row(Menu_Item='Chicken Achar', Correct_Price=9.95),\n Row(Menu_Item='Dupiaza - Prawn', Correct_Price=9.95),\n Row(Menu_Item='Lamb Roshni', Correct_Price=9.95),\n Row(Menu_Item='Saag - Prawn', Correct_Price=9.95),\n Row(Menu_Item='Methi - Prawn', Correct_Price=9.95),\n Row(Menu_Item='Rogon - Prawn', Correct_Price=9.95),\n Row(Menu_Item='Mushroom - Prawn', Correct_Price=9.95),\n Row(Menu_Item='Lamb Tikka Biryani', Correct_Price=10.95),\n Row(Menu_Item='Chicken Tikka Balti', Correct_Price=10.95),\n Row(Menu_Item='Lamb Tikka Balti', Correct_Price=10.95),\n Row(Menu_Item='Prawn Biryani', Correct_Price=10.95),\n Row(Menu_Item='Paneer Tikka Balti', Correct_Price=10.95),\n Row(Menu_Item='Chicken Tikka Biryani', Correct_Price=10.95),\n Row(Menu_Item='Persian Lamb Biryani', Correct_Price=10.95),\n Row(Menu_Item='Prawn Balti', Correct_Price=10.95),\n Row(Menu_Item='Persian Chicken Biryani', Correct_Price=10.95),\n Row(Menu_Item='Lamb Persian', Correct_Price=10.95),\n Row(Menu_Item='Tandoori Mixed Grill', Correct_Price=11.95),\n Row(Menu_Item='Curry - King Prawn', Correct_Price=11.95),\n Row(Menu_Item='Madras - King Prawn', Correct_Price=11.95),\n Row(Menu_Item='Tandoori Fish (Main)', Correct_Price=11.95),\n Row(Menu_Item='Vindaloo - King Prawn', Correct_Price=11.95),\n Row(Menu_Item='Tandoori King Prawn Garlic', Correct_Price=12.95),\n Row(Menu_Item='Chicken Shashlick Curry', Correct_Price=12.95),\n Row(Menu_Item='King Prawn Hari Mirch', Correct_Price=12.95),\n Row(Menu_Item='Hazary Lamb Chilli Garlic', Correct_Price=12.95),\n Row(Menu_Item='Lamb Shashlick Curry', Correct_Price=12.95),\n Row(Menu_Item='King Prawn Shaslick', Correct_Price=12.95),\n Row(Menu_Item='Dhansak - King Prawn', Correct_Price=12.95),\n Row(Menu_Item='Bengal King Prawn', Correct_Price=12.95),\n Row(Menu_Item='Korma - King Prawn', Correct_Price=12.95),\n Row(Menu_Item='Bhuna - King Prawn', Correct_Price=12.95),\n Row(Menu_Item='Hazary Lamb', Correct_Price=12.95),\n Row(Menu_Item='Bengal Fish Biryani', Correct_Price=12.95),\n Row(Menu_Item='Tandoori King Prawn Masala', Correct_Price=12.95),\n Row(Menu_Item='King Prawn Biryani', Correct_Price=12.95),\n Row(Menu_Item='Saag - King Prawn', Correct_Price=12.95),\n Row(Menu_Item='Dupiaza - King Prawn', Correct_Price=12.95),\n Row(Menu_Item='Pathia - King Prawn', Correct_Price=12.95),\n Row(Menu_Item='Bengal Fry Fish', Correct_Price=12.95),\n Row(Menu_Item='King Prawn Balti', Correct_Price=12.95),\n Row(Menu_Item='Bengal Fish Karahi', Correct_Price=12.95),\n Row(Menu_Item='Rogon - King Prawn', Correct_Price=12.95),\n Row(Menu_Item='Mushroom - King Prawn', Correct_Price=12.95),\n Row(Menu_Item='King Prawn Karahi', Correct_Price=12.95),\n Row(Menu_Item='Methi - King Prawn', Correct_Price=12.95),\n Row(Menu_Item='Kurma', Correct_Price=12.95),\n Row(Menu_Item='House Red wine 75cl', Correct_Price=17.95),\n Row(Menu_Item='House white wine 75cl', Correct_Price=17.95)]"
     ]
    }
   ],
   "source": [
    "restaurant_2_products_price.head(302)\n",
    "restaurant_1_products_price.head(248)"
   ]
  },
  {
   "cell_type": "markdown",
   "metadata": {
    "application/vnd.databricks.v1+cell": {
     "cellMetadata": {},
     "inputWidgets": {},
     "nuid": "3d7d81b4-62ec-482b-8a8f-e78e9bd75426",
     "showTitle": false,
     "title": ""
    }
   },
   "source": [
    "- make 3 separate dataframes each to store one of (Mains, Starters and Drinks)\n",
    "- so I can compare the top 5 dishes or drinks in each category between the two different restaurants based on the sales"
   ]
  },
  {
   "cell_type": "code",
   "execution_count": 0,
   "metadata": {
    "application/vnd.databricks.v1+cell": {
     "cellMetadata": {
      "byteLimit": 2048000,
      "rowLimit": 10000
     },
     "inputWidgets": {},
     "nuid": "024e1b11-10f2-4d84-8083-45c5cf730bb0",
     "showTitle": false,
     "title": ""
    }
   },
   "outputs": [
    {
     "output_type": "stream",
     "name": "stdout",
     "output_type": "stream",
     "text": [
      "+-------------+-------------+\n|    Menu_Item|Correct_Price|\n+-------------+-------------+\n|   Mint Sauce|          0.5|\n|  Lime Pickle|          0.5|\n|Mango Chutney|          0.5|\n|    Red Sauce|          0.5|\n|Onion Chutney|          0.5|\n|Plain Papadum|          0.8|\n|Spicy Papadum|          0.8|\n|      Chapati|         1.95|\n|        Puree|         1.95|\n|Tandoori Roti|          2.6|\n|   Plain Naan|          2.6|\n|       Raitha|         2.95|\n|   Keema Naan|         2.95|\n|Peshwari Naan|         2.95|\n|   Pilau Rice|         2.95|\n|  Green Salad|         2.95|\n|  Bottle Coke|         2.95|\n|   Plain Rice|         2.95|\n|  Garlic Naan|         2.95|\n|   Onion Naan|         2.95|\n+-------------+-------------+\nonly showing top 20 rows\n\n"
     ]
    }
   ],
   "source": [
    "starters_restaurant_1 = restaurant_1_products_price.select(\"Menu_Item\", \"Correct_Price\").where(restaurant_1_products_price.Correct_Price.between(0, 7.00))\n",
    "starters_restaurant_1.show()\n",
    "### created starters only menu, with a few drinks inside still that need to be removed, firstly will make mains menu and drinks menu."
   ]
  },
  {
   "cell_type": "code",
   "execution_count": 0,
   "metadata": {
    "application/vnd.databricks.v1+cell": {
     "cellMetadata": {
      "byteLimit": 2048000,
      "rowLimit": 10000
     },
     "inputWidgets": {},
     "nuid": "24968f1d-f8d7-4e89-b429-0c9b9e3cc385",
     "showTitle": false,
     "title": ""
    }
   },
   "outputs": [
    {
     "output_type": "stream",
     "name": "stdout",
     "output_type": "stream",
     "text": [
      "+--------------------+-------------+\n|           Menu_Item|Correct_Price|\n+--------------------+-------------+\n|  Chicken Chaat Main|          7.9|\n|    Madras - Chicken|         7.95|\n|       Madras - Lamb|         7.95|\n|     Curry - Chicken|         7.95|\n|  Vindaloo - Chicken|         7.95|\n|Madras - Chicken ...|         7.95|\n|        Curry - Lamb|         7.95|\n|Curry - Chicken T...|         7.95|\n|Vindaloo - Chicke...|         7.95|\n|     Vindaloo - Lamb|         7.95|\n|              Madras|         7.95|\n|               Curry|         7.95|\n|            Vindaloo|         7.95|\n|     Korma - Chicken|         8.95|\n|Chicken Tikka Masala|         8.95|\n|Pathia - Chicken ...|         8.95|\n|Chicken Tikka Jal...|         8.95|\n|        Methi - Lamb|         8.95|\n|Tandoori Chicken ...|         8.95|\n|     Bhuna - Chicken|         8.95|\n+--------------------+-------------+\nonly showing top 20 rows\n\n"
     ]
    }
   ],
   "source": [
    "mains_restaurant_1 = restaurant_1_products_price.select(\"Menu_Item\", \"Correct_Price\").where(restaurant_1_products_price.Correct_Price.between(7.90, 12.95))\n",
    "mains_restaurant_1.show()"
   ]
  },
  {
   "cell_type": "code",
   "execution_count": 0,
   "metadata": {
    "application/vnd.databricks.v1+cell": {
     "cellMetadata": {
      "byteLimit": 2048000,
      "rowLimit": 10000
     },
     "inputWidgets": {},
     "nuid": "95d627f3-b742-4dcc-8a8b-2d6ebff02f4a",
     "showTitle": false,
     "title": ""
    }
   },
   "outputs": [
    {
     "output_type": "stream",
     "name": "stdout",
     "output_type": "stream",
     "text": [
      "+--------------------+-------------+\n|           Menu_Item|Correct_Price|\n+--------------------+-------------+\n|    Bottle Diet Coke|         2.95|\n|    Lemonade 1.5 ltr|         2.95|\n|   Diet Coke 1.5 ltr|         2.95|\n|        Coke 1.5 ltr|         2.95|\n|Perrier Water (75...|         3.95|\n| Still Water (750ml)|         3.95|\n| Prier Water (750ml)|         3.95|\n|     COBRA ( LARGE )|         5.95|\n|       COBRA (660ML)|         5.95|\n| House Red wine 75cl|        17.95|\n|House white wine ...|        17.95|\n+--------------------+-------------+\n\n"
     ]
    }
   ],
   "source": [
    "drinks = ['COBRA ( LARGE )', 'COBRA (660ML)', 'Prier Water (750ml)', 'Still Water (750ml)', 'COBRA (330ml)', 'Perrier Water (750ml)', 'Coke 1.5 ltr', 'Diet Coke 1.5 ltr', 'Lemonade 1.5 ltr', 'Bottle Diet Coke', 'House Red wine 75cl', 'House white wine 75cl']\n",
    "drinks_restaurant_1 = restaurant_1_products_price.filter(restaurant_1_products_price['Menu_Item'].isin(drinks))\n",
    "drinks_restaurant_1.show()"
   ]
  },
  {
   "cell_type": "code",
   "execution_count": 0,
   "metadata": {
    "application/vnd.databricks.v1+cell": {
     "cellMetadata": {},
     "inputWidgets": {},
     "nuid": "f07cb99b-7e0b-43cd-b2bb-d634c67d3eae",
     "showTitle": false,
     "title": ""
    }
   },
   "outputs": [],
   "source": []
  }
 ],
 "metadata": {
  "application/vnd.databricks.v1+notebook": {
   "dashboards": [
    {
     "elements": [],
     "globalVars": {},
     "guid": "",
     "layoutOption": {
      "grid": true,
      "stack": true
     },
     "nuid": "07bf6806-6db3-4c21-8134-46165159acc4",
     "origId": 0,
     "title": "Untitled",
     "version": "DashboardViewV1",
     "width": 1024
    },
    {
     "elements": [
      {
       "dashboardResultIndex": 0,
       "elementNUID": "1e057c06-75f5-4445-8f01-96f9a4991a32",
       "elementType": "command",
       "guid": "f275535c-5fac-45bd-9fb7-955292b1d136",
       "options": null,
       "position": {
        "height": 6,
        "width": 10,
        "x": 0,
        "y": 0,
        "z": null
       },
       "resultIndex": null
      }
     ],
     "globalVars": {},
     "guid": "",
     "layoutOption": {
      "grid": true,
      "stack": true
     },
     "nuid": "692eadfd-86ac-48e3-b814-dabddb37f0b0",
     "origId": 0,
     "title": "Untitled",
     "version": "DashboardViewV1",
     "width": 1024
    }
   ],
   "language": "python",
   "notebookMetadata": {
    "pythonIndentUnit": 4
   },
   "notebookName": "Killian Hughes - PySpark Mini Project 19_09_23",
   "widgets": {}
  }
 },
 "nbformat": 4,
 "nbformat_minor": 0
}
